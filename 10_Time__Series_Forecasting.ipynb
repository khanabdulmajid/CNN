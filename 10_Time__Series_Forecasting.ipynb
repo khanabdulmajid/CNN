{
  "nbformat": 4,
  "nbformat_minor": 0,
  "metadata": {
    "colab": {
      "provenance": [],
      "collapsed_sections": [
        "UR3GovmLEDZJ"
      ],
      "toc_visible": true,
      "authorship_tag": "ABX9TyOXE9eC9vBnC5EH7k9zNPFj",
      "include_colab_link": true
    },
    "kernelspec": {
      "name": "python3",
      "display_name": "Python 3"
    },
    "language_info": {
      "name": "python"
    }
  },
  "cells": [
    {
      "cell_type": "markdown",
      "metadata": {
        "id": "view-in-github",
        "colab_type": "text"
      },
      "source": [
        "<a href=\"https://colab.research.google.com/github/khanabdulmajid/CNN/blob/master/10_Time__Series_Forecasting.ipynb\" target=\"_parent\"><img src=\"https://colab.research.google.com/assets/colab-badge.svg\" alt=\"Open In Colab\"/></a>"
      ]
    },
    {
      "cell_type": "code",
      "execution_count": 126,
      "metadata": {
        "id": "VdU2d3XsDK3Q"
      },
      "outputs": [],
      "source": [
        "#Get Data Bitcoin"
      ]
    },
    {
      "cell_type": "code",
      "source": [
        "!wget https://raw.githubusercontent.com/mrdbourke/tensorflow-deep-learning/main/extras/BTC_USD_2013-10-01_2021-05-18-CoinDesk.csv"
      ],
      "metadata": {
        "colab": {
          "base_uri": "https://localhost:8080/"
        },
        "id": "BkTEXY0pDT9b",
        "outputId": "8c3a7ab9-06f8-4a9b-bff9-06225f32e39f"
      },
      "execution_count": 127,
      "outputs": [
        {
          "output_type": "stream",
          "name": "stdout",
          "text": [
            "--2024-02-24 10:47:48--  https://raw.githubusercontent.com/mrdbourke/tensorflow-deep-learning/main/extras/BTC_USD_2013-10-01_2021-05-18-CoinDesk.csv\n",
            "Resolving raw.githubusercontent.com (raw.githubusercontent.com)... 185.199.108.133, 185.199.109.133, 185.199.110.133, ...\n",
            "Connecting to raw.githubusercontent.com (raw.githubusercontent.com)|185.199.108.133|:443... connected.\n",
            "HTTP request sent, awaiting response... 200 OK\n",
            "Length: 178509 (174K) [text/plain]\n",
            "Saving to: ‘BTC_USD_2013-10-01_2021-05-18-CoinDesk.csv.2’\n",
            "\n",
            "\r          BTC_USD_2   0%[                    ]       0  --.-KB/s               \rBTC_USD_2013-10-01_ 100%[===================>] 174.33K  --.-KB/s    in 0.009s  \n",
            "\n",
            "2024-02-24 10:47:48 (18.2 MB/s) - ‘BTC_USD_2013-10-01_2021-05-18-CoinDesk.csv.2’ saved [178509/178509]\n",
            "\n"
          ]
        }
      ]
    },
    {
      "cell_type": "code",
      "source": [
        "#importing time series data with panda\n",
        "\n",
        "import pandas as pd\n",
        "\n",
        "df = pd.read_csv(\"/content/BTC_USD_2013-10-01_2021-05-18-CoinDesk.csv\",\n",
        "                 parse_dates=[\"Date\"],\n",
        "                 index_col=[\"Date\"]\n",
        "                 )\n"
      ],
      "metadata": {
        "id": "y10gbIVgEc3k"
      },
      "execution_count": 128,
      "outputs": []
    },
    {
      "cell_type": "code",
      "source": [
        "df.head()"
      ],
      "metadata": {
        "colab": {
          "base_uri": "https://localhost:8080/",
          "height": 237
        },
        "id": "3LBJ9MWdG-0U",
        "outputId": "517c4d99-3cea-427b-93d6-f39daab9d59c"
      },
      "execution_count": 129,
      "outputs": [
        {
          "output_type": "execute_result",
          "data": {
            "text/plain": [
              "           Currency  Closing Price (USD)  24h Open (USD)  24h High (USD)  \\\n",
              "Date                                                                       \n",
              "2013-10-01      BTC            123.65499       124.30466       124.75166   \n",
              "2013-10-02      BTC            125.45500       123.65499       125.75850   \n",
              "2013-10-03      BTC            108.58483       125.45500       125.66566   \n",
              "2013-10-04      BTC            118.67466       108.58483       118.67500   \n",
              "2013-10-05      BTC            121.33866       118.67466       121.93633   \n",
              "\n",
              "            24h Low (USD)  \n",
              "Date                       \n",
              "2013-10-01      122.56349  \n",
              "2013-10-02      123.63383  \n",
              "2013-10-03       83.32833  \n",
              "2013-10-04      107.05816  \n",
              "2013-10-05      118.00566  "
            ],
            "text/html": [
              "\n",
              "  <div id=\"df-a4e9439b-ec50-4b51-9886-469f117ed6ef\" class=\"colab-df-container\">\n",
              "    <div>\n",
              "<style scoped>\n",
              "    .dataframe tbody tr th:only-of-type {\n",
              "        vertical-align: middle;\n",
              "    }\n",
              "\n",
              "    .dataframe tbody tr th {\n",
              "        vertical-align: top;\n",
              "    }\n",
              "\n",
              "    .dataframe thead th {\n",
              "        text-align: right;\n",
              "    }\n",
              "</style>\n",
              "<table border=\"1\" class=\"dataframe\">\n",
              "  <thead>\n",
              "    <tr style=\"text-align: right;\">\n",
              "      <th></th>\n",
              "      <th>Currency</th>\n",
              "      <th>Closing Price (USD)</th>\n",
              "      <th>24h Open (USD)</th>\n",
              "      <th>24h High (USD)</th>\n",
              "      <th>24h Low (USD)</th>\n",
              "    </tr>\n",
              "    <tr>\n",
              "      <th>Date</th>\n",
              "      <th></th>\n",
              "      <th></th>\n",
              "      <th></th>\n",
              "      <th></th>\n",
              "      <th></th>\n",
              "    </tr>\n",
              "  </thead>\n",
              "  <tbody>\n",
              "    <tr>\n",
              "      <th>2013-10-01</th>\n",
              "      <td>BTC</td>\n",
              "      <td>123.65499</td>\n",
              "      <td>124.30466</td>\n",
              "      <td>124.75166</td>\n",
              "      <td>122.56349</td>\n",
              "    </tr>\n",
              "    <tr>\n",
              "      <th>2013-10-02</th>\n",
              "      <td>BTC</td>\n",
              "      <td>125.45500</td>\n",
              "      <td>123.65499</td>\n",
              "      <td>125.75850</td>\n",
              "      <td>123.63383</td>\n",
              "    </tr>\n",
              "    <tr>\n",
              "      <th>2013-10-03</th>\n",
              "      <td>BTC</td>\n",
              "      <td>108.58483</td>\n",
              "      <td>125.45500</td>\n",
              "      <td>125.66566</td>\n",
              "      <td>83.32833</td>\n",
              "    </tr>\n",
              "    <tr>\n",
              "      <th>2013-10-04</th>\n",
              "      <td>BTC</td>\n",
              "      <td>118.67466</td>\n",
              "      <td>108.58483</td>\n",
              "      <td>118.67500</td>\n",
              "      <td>107.05816</td>\n",
              "    </tr>\n",
              "    <tr>\n",
              "      <th>2013-10-05</th>\n",
              "      <td>BTC</td>\n",
              "      <td>121.33866</td>\n",
              "      <td>118.67466</td>\n",
              "      <td>121.93633</td>\n",
              "      <td>118.00566</td>\n",
              "    </tr>\n",
              "  </tbody>\n",
              "</table>\n",
              "</div>\n",
              "    <div class=\"colab-df-buttons\">\n",
              "\n",
              "  <div class=\"colab-df-container\">\n",
              "    <button class=\"colab-df-convert\" onclick=\"convertToInteractive('df-a4e9439b-ec50-4b51-9886-469f117ed6ef')\"\n",
              "            title=\"Convert this dataframe to an interactive table.\"\n",
              "            style=\"display:none;\">\n",
              "\n",
              "  <svg xmlns=\"http://www.w3.org/2000/svg\" height=\"24px\" viewBox=\"0 -960 960 960\">\n",
              "    <path d=\"M120-120v-720h720v720H120Zm60-500h600v-160H180v160Zm220 220h160v-160H400v160Zm0 220h160v-160H400v160ZM180-400h160v-160H180v160Zm440 0h160v-160H620v160ZM180-180h160v-160H180v160Zm440 0h160v-160H620v160Z\"/>\n",
              "  </svg>\n",
              "    </button>\n",
              "\n",
              "  <style>\n",
              "    .colab-df-container {\n",
              "      display:flex;\n",
              "      gap: 12px;\n",
              "    }\n",
              "\n",
              "    .colab-df-convert {\n",
              "      background-color: #E8F0FE;\n",
              "      border: none;\n",
              "      border-radius: 50%;\n",
              "      cursor: pointer;\n",
              "      display: none;\n",
              "      fill: #1967D2;\n",
              "      height: 32px;\n",
              "      padding: 0 0 0 0;\n",
              "      width: 32px;\n",
              "    }\n",
              "\n",
              "    .colab-df-convert:hover {\n",
              "      background-color: #E2EBFA;\n",
              "      box-shadow: 0px 1px 2px rgba(60, 64, 67, 0.3), 0px 1px 3px 1px rgba(60, 64, 67, 0.15);\n",
              "      fill: #174EA6;\n",
              "    }\n",
              "\n",
              "    .colab-df-buttons div {\n",
              "      margin-bottom: 4px;\n",
              "    }\n",
              "\n",
              "    [theme=dark] .colab-df-convert {\n",
              "      background-color: #3B4455;\n",
              "      fill: #D2E3FC;\n",
              "    }\n",
              "\n",
              "    [theme=dark] .colab-df-convert:hover {\n",
              "      background-color: #434B5C;\n",
              "      box-shadow: 0px 1px 3px 1px rgba(0, 0, 0, 0.15);\n",
              "      filter: drop-shadow(0px 1px 2px rgba(0, 0, 0, 0.3));\n",
              "      fill: #FFFFFF;\n",
              "    }\n",
              "  </style>\n",
              "\n",
              "    <script>\n",
              "      const buttonEl =\n",
              "        document.querySelector('#df-a4e9439b-ec50-4b51-9886-469f117ed6ef button.colab-df-convert');\n",
              "      buttonEl.style.display =\n",
              "        google.colab.kernel.accessAllowed ? 'block' : 'none';\n",
              "\n",
              "      async function convertToInteractive(key) {\n",
              "        const element = document.querySelector('#df-a4e9439b-ec50-4b51-9886-469f117ed6ef');\n",
              "        const dataTable =\n",
              "          await google.colab.kernel.invokeFunction('convertToInteractive',\n",
              "                                                    [key], {});\n",
              "        if (!dataTable) return;\n",
              "\n",
              "        const docLinkHtml = 'Like what you see? Visit the ' +\n",
              "          '<a target=\"_blank\" href=https://colab.research.google.com/notebooks/data_table.ipynb>data table notebook</a>'\n",
              "          + ' to learn more about interactive tables.';\n",
              "        element.innerHTML = '';\n",
              "        dataTable['output_type'] = 'display_data';\n",
              "        await google.colab.output.renderOutput(dataTable, element);\n",
              "        const docLink = document.createElement('div');\n",
              "        docLink.innerHTML = docLinkHtml;\n",
              "        element.appendChild(docLink);\n",
              "      }\n",
              "    </script>\n",
              "  </div>\n",
              "\n",
              "\n",
              "<div id=\"df-e4be07ae-e5d2-4858-9c21-ad8c81462a8b\">\n",
              "  <button class=\"colab-df-quickchart\" onclick=\"quickchart('df-e4be07ae-e5d2-4858-9c21-ad8c81462a8b')\"\n",
              "            title=\"Suggest charts\"\n",
              "            style=\"display:none;\">\n",
              "\n",
              "<svg xmlns=\"http://www.w3.org/2000/svg\" height=\"24px\"viewBox=\"0 0 24 24\"\n",
              "     width=\"24px\">\n",
              "    <g>\n",
              "        <path d=\"M19 3H5c-1.1 0-2 .9-2 2v14c0 1.1.9 2 2 2h14c1.1 0 2-.9 2-2V5c0-1.1-.9-2-2-2zM9 17H7v-7h2v7zm4 0h-2V7h2v10zm4 0h-2v-4h2v4z\"/>\n",
              "    </g>\n",
              "</svg>\n",
              "  </button>\n",
              "\n",
              "<style>\n",
              "  .colab-df-quickchart {\n",
              "      --bg-color: #E8F0FE;\n",
              "      --fill-color: #1967D2;\n",
              "      --hover-bg-color: #E2EBFA;\n",
              "      --hover-fill-color: #174EA6;\n",
              "      --disabled-fill-color: #AAA;\n",
              "      --disabled-bg-color: #DDD;\n",
              "  }\n",
              "\n",
              "  [theme=dark] .colab-df-quickchart {\n",
              "      --bg-color: #3B4455;\n",
              "      --fill-color: #D2E3FC;\n",
              "      --hover-bg-color: #434B5C;\n",
              "      --hover-fill-color: #FFFFFF;\n",
              "      --disabled-bg-color: #3B4455;\n",
              "      --disabled-fill-color: #666;\n",
              "  }\n",
              "\n",
              "  .colab-df-quickchart {\n",
              "    background-color: var(--bg-color);\n",
              "    border: none;\n",
              "    border-radius: 50%;\n",
              "    cursor: pointer;\n",
              "    display: none;\n",
              "    fill: var(--fill-color);\n",
              "    height: 32px;\n",
              "    padding: 0;\n",
              "    width: 32px;\n",
              "  }\n",
              "\n",
              "  .colab-df-quickchart:hover {\n",
              "    background-color: var(--hover-bg-color);\n",
              "    box-shadow: 0 1px 2px rgba(60, 64, 67, 0.3), 0 1px 3px 1px rgba(60, 64, 67, 0.15);\n",
              "    fill: var(--button-hover-fill-color);\n",
              "  }\n",
              "\n",
              "  .colab-df-quickchart-complete:disabled,\n",
              "  .colab-df-quickchart-complete:disabled:hover {\n",
              "    background-color: var(--disabled-bg-color);\n",
              "    fill: var(--disabled-fill-color);\n",
              "    box-shadow: none;\n",
              "  }\n",
              "\n",
              "  .colab-df-spinner {\n",
              "    border: 2px solid var(--fill-color);\n",
              "    border-color: transparent;\n",
              "    border-bottom-color: var(--fill-color);\n",
              "    animation:\n",
              "      spin 1s steps(1) infinite;\n",
              "  }\n",
              "\n",
              "  @keyframes spin {\n",
              "    0% {\n",
              "      border-color: transparent;\n",
              "      border-bottom-color: var(--fill-color);\n",
              "      border-left-color: var(--fill-color);\n",
              "    }\n",
              "    20% {\n",
              "      border-color: transparent;\n",
              "      border-left-color: var(--fill-color);\n",
              "      border-top-color: var(--fill-color);\n",
              "    }\n",
              "    30% {\n",
              "      border-color: transparent;\n",
              "      border-left-color: var(--fill-color);\n",
              "      border-top-color: var(--fill-color);\n",
              "      border-right-color: var(--fill-color);\n",
              "    }\n",
              "    40% {\n",
              "      border-color: transparent;\n",
              "      border-right-color: var(--fill-color);\n",
              "      border-top-color: var(--fill-color);\n",
              "    }\n",
              "    60% {\n",
              "      border-color: transparent;\n",
              "      border-right-color: var(--fill-color);\n",
              "    }\n",
              "    80% {\n",
              "      border-color: transparent;\n",
              "      border-right-color: var(--fill-color);\n",
              "      border-bottom-color: var(--fill-color);\n",
              "    }\n",
              "    90% {\n",
              "      border-color: transparent;\n",
              "      border-bottom-color: var(--fill-color);\n",
              "    }\n",
              "  }\n",
              "</style>\n",
              "\n",
              "  <script>\n",
              "    async function quickchart(key) {\n",
              "      const quickchartButtonEl =\n",
              "        document.querySelector('#' + key + ' button');\n",
              "      quickchartButtonEl.disabled = true;  // To prevent multiple clicks.\n",
              "      quickchartButtonEl.classList.add('colab-df-spinner');\n",
              "      try {\n",
              "        const charts = await google.colab.kernel.invokeFunction(\n",
              "            'suggestCharts', [key], {});\n",
              "      } catch (error) {\n",
              "        console.error('Error during call to suggestCharts:', error);\n",
              "      }\n",
              "      quickchartButtonEl.classList.remove('colab-df-spinner');\n",
              "      quickchartButtonEl.classList.add('colab-df-quickchart-complete');\n",
              "    }\n",
              "    (() => {\n",
              "      let quickchartButtonEl =\n",
              "        document.querySelector('#df-e4be07ae-e5d2-4858-9c21-ad8c81462a8b button');\n",
              "      quickchartButtonEl.style.display =\n",
              "        google.colab.kernel.accessAllowed ? 'block' : 'none';\n",
              "    })();\n",
              "  </script>\n",
              "</div>\n",
              "\n",
              "    </div>\n",
              "  </div>\n"
            ],
            "application/vnd.google.colaboratory.intrinsic+json": {
              "type": "dataframe",
              "variable_name": "df",
              "summary": "{\n  \"name\": \"df\",\n  \"rows\": 2787,\n  \"fields\": [\n    {\n      \"column\": \"Currency\",\n      \"properties\": {\n        \"dtype\": \"category\",\n        \"num_unique_values\": 1,\n        \"samples\": [\n          \"BTC\"\n        ],\n        \"semantic_type\": \"\",\n        \"description\": \"\"\n      }\n    },\n    {\n      \"column\": \"Closing Price (USD)\",\n      \"properties\": {\n        \"dtype\": \"number\",\n        \"std\": 10887.84744436952,\n        \"min\": 108.58483,\n        \"max\": 63346.7890351052,\n        \"num_unique_values\": 2787,\n        \"samples\": [\n          7954.0062377205\n        ],\n        \"semantic_type\": \"\",\n        \"description\": \"\"\n      }\n    },\n    {\n      \"column\": \"24h Open (USD)\",\n      \"properties\": {\n        \"dtype\": \"number\",\n        \"std\": 10863.80077212387,\n        \"min\": 108.58483,\n        \"max\": 63562.6735446382,\n        \"num_unique_values\": 2787,\n        \"samples\": [\n          7600.9225047785\n        ],\n        \"semantic_type\": \"\",\n        \"description\": \"\"\n      }\n    },\n    {\n      \"column\": \"24h High (USD)\",\n      \"properties\": {\n        \"dtype\": \"number\",\n        \"std\": 11206.779756254151,\n        \"min\": 118.675,\n        \"max\": 64801.787869525,\n        \"num_unique_values\": 2787,\n        \"samples\": [\n          8064.9001353225\n        ],\n        \"semantic_type\": \"\",\n        \"description\": \"\"\n      }\n    },\n    {\n      \"column\": \"24h Low (USD)\",\n      \"properties\": {\n        \"dtype\": \"number\",\n        \"std\": 10475.8112518284,\n        \"min\": 83.32833,\n        \"max\": 62094.6329143272,\n        \"num_unique_values\": 2785,\n        \"samples\": [\n          7714.610306452\n        ],\n        \"semantic_type\": \"\",\n        \"description\": \"\"\n      }\n    }\n  ]\n}"
            }
          },
          "metadata": {},
          "execution_count": 129
        }
      ]
    },
    {
      "cell_type": "code",
      "source": [
        "df.info()"
      ],
      "metadata": {
        "colab": {
          "base_uri": "https://localhost:8080/"
        },
        "id": "qx_aJC_PHMGb",
        "outputId": "0ab3a98c-0620-4a45-826d-155ff654c8bd"
      },
      "execution_count": 130,
      "outputs": [
        {
          "output_type": "stream",
          "name": "stdout",
          "text": [
            "<class 'pandas.core.frame.DataFrame'>\n",
            "DatetimeIndex: 2787 entries, 2013-10-01 to 2021-05-18\n",
            "Data columns (total 5 columns):\n",
            " #   Column               Non-Null Count  Dtype  \n",
            "---  ------               --------------  -----  \n",
            " 0   Currency             2787 non-null   object \n",
            " 1   Closing Price (USD)  2787 non-null   float64\n",
            " 2   24h Open (USD)       2787 non-null   float64\n",
            " 3   24h High (USD)       2787 non-null   float64\n",
            " 4   24h Low (USD)        2787 non-null   float64\n",
            "dtypes: float64(4), object(1)\n",
            "memory usage: 130.6+ KB\n"
          ]
        }
      ]
    },
    {
      "cell_type": "code",
      "source": [
        "bitcoin_prices = pd.DataFrame(df[\"Closing Price (USD)\"]).rename(columns={\"Closing Price (USD)\": \"Price\"})\n",
        "bitcoin_prices.head()"
      ],
      "metadata": {
        "colab": {
          "base_uri": "https://localhost:8080/",
          "height": 237
        },
        "id": "ctcZDnJ2CdpZ",
        "outputId": "c32f7f4c-78ee-4e04-bd9a-588fe173a9ac"
      },
      "execution_count": 131,
      "outputs": [
        {
          "output_type": "execute_result",
          "data": {
            "text/plain": [
              "                Price\n",
              "Date                 \n",
              "2013-10-01  123.65499\n",
              "2013-10-02  125.45500\n",
              "2013-10-03  108.58483\n",
              "2013-10-04  118.67466\n",
              "2013-10-05  121.33866"
            ],
            "text/html": [
              "\n",
              "  <div id=\"df-49138787-b438-46bc-a1d3-c0fd7c744545\" class=\"colab-df-container\">\n",
              "    <div>\n",
              "<style scoped>\n",
              "    .dataframe tbody tr th:only-of-type {\n",
              "        vertical-align: middle;\n",
              "    }\n",
              "\n",
              "    .dataframe tbody tr th {\n",
              "        vertical-align: top;\n",
              "    }\n",
              "\n",
              "    .dataframe thead th {\n",
              "        text-align: right;\n",
              "    }\n",
              "</style>\n",
              "<table border=\"1\" class=\"dataframe\">\n",
              "  <thead>\n",
              "    <tr style=\"text-align: right;\">\n",
              "      <th></th>\n",
              "      <th>Price</th>\n",
              "    </tr>\n",
              "    <tr>\n",
              "      <th>Date</th>\n",
              "      <th></th>\n",
              "    </tr>\n",
              "  </thead>\n",
              "  <tbody>\n",
              "    <tr>\n",
              "      <th>2013-10-01</th>\n",
              "      <td>123.65499</td>\n",
              "    </tr>\n",
              "    <tr>\n",
              "      <th>2013-10-02</th>\n",
              "      <td>125.45500</td>\n",
              "    </tr>\n",
              "    <tr>\n",
              "      <th>2013-10-03</th>\n",
              "      <td>108.58483</td>\n",
              "    </tr>\n",
              "    <tr>\n",
              "      <th>2013-10-04</th>\n",
              "      <td>118.67466</td>\n",
              "    </tr>\n",
              "    <tr>\n",
              "      <th>2013-10-05</th>\n",
              "      <td>121.33866</td>\n",
              "    </tr>\n",
              "  </tbody>\n",
              "</table>\n",
              "</div>\n",
              "    <div class=\"colab-df-buttons\">\n",
              "\n",
              "  <div class=\"colab-df-container\">\n",
              "    <button class=\"colab-df-convert\" onclick=\"convertToInteractive('df-49138787-b438-46bc-a1d3-c0fd7c744545')\"\n",
              "            title=\"Convert this dataframe to an interactive table.\"\n",
              "            style=\"display:none;\">\n",
              "\n",
              "  <svg xmlns=\"http://www.w3.org/2000/svg\" height=\"24px\" viewBox=\"0 -960 960 960\">\n",
              "    <path d=\"M120-120v-720h720v720H120Zm60-500h600v-160H180v160Zm220 220h160v-160H400v160Zm0 220h160v-160H400v160ZM180-400h160v-160H180v160Zm440 0h160v-160H620v160ZM180-180h160v-160H180v160Zm440 0h160v-160H620v160Z\"/>\n",
              "  </svg>\n",
              "    </button>\n",
              "\n",
              "  <style>\n",
              "    .colab-df-container {\n",
              "      display:flex;\n",
              "      gap: 12px;\n",
              "    }\n",
              "\n",
              "    .colab-df-convert {\n",
              "      background-color: #E8F0FE;\n",
              "      border: none;\n",
              "      border-radius: 50%;\n",
              "      cursor: pointer;\n",
              "      display: none;\n",
              "      fill: #1967D2;\n",
              "      height: 32px;\n",
              "      padding: 0 0 0 0;\n",
              "      width: 32px;\n",
              "    }\n",
              "\n",
              "    .colab-df-convert:hover {\n",
              "      background-color: #E2EBFA;\n",
              "      box-shadow: 0px 1px 2px rgba(60, 64, 67, 0.3), 0px 1px 3px 1px rgba(60, 64, 67, 0.15);\n",
              "      fill: #174EA6;\n",
              "    }\n",
              "\n",
              "    .colab-df-buttons div {\n",
              "      margin-bottom: 4px;\n",
              "    }\n",
              "\n",
              "    [theme=dark] .colab-df-convert {\n",
              "      background-color: #3B4455;\n",
              "      fill: #D2E3FC;\n",
              "    }\n",
              "\n",
              "    [theme=dark] .colab-df-convert:hover {\n",
              "      background-color: #434B5C;\n",
              "      box-shadow: 0px 1px 3px 1px rgba(0, 0, 0, 0.15);\n",
              "      filter: drop-shadow(0px 1px 2px rgba(0, 0, 0, 0.3));\n",
              "      fill: #FFFFFF;\n",
              "    }\n",
              "  </style>\n",
              "\n",
              "    <script>\n",
              "      const buttonEl =\n",
              "        document.querySelector('#df-49138787-b438-46bc-a1d3-c0fd7c744545 button.colab-df-convert');\n",
              "      buttonEl.style.display =\n",
              "        google.colab.kernel.accessAllowed ? 'block' : 'none';\n",
              "\n",
              "      async function convertToInteractive(key) {\n",
              "        const element = document.querySelector('#df-49138787-b438-46bc-a1d3-c0fd7c744545');\n",
              "        const dataTable =\n",
              "          await google.colab.kernel.invokeFunction('convertToInteractive',\n",
              "                                                    [key], {});\n",
              "        if (!dataTable) return;\n",
              "\n",
              "        const docLinkHtml = 'Like what you see? Visit the ' +\n",
              "          '<a target=\"_blank\" href=https://colab.research.google.com/notebooks/data_table.ipynb>data table notebook</a>'\n",
              "          + ' to learn more about interactive tables.';\n",
              "        element.innerHTML = '';\n",
              "        dataTable['output_type'] = 'display_data';\n",
              "        await google.colab.output.renderOutput(dataTable, element);\n",
              "        const docLink = document.createElement('div');\n",
              "        docLink.innerHTML = docLinkHtml;\n",
              "        element.appendChild(docLink);\n",
              "      }\n",
              "    </script>\n",
              "  </div>\n",
              "\n",
              "\n",
              "<div id=\"df-170e10b7-cf0c-440e-8af6-b7fd22f9eed2\">\n",
              "  <button class=\"colab-df-quickchart\" onclick=\"quickchart('df-170e10b7-cf0c-440e-8af6-b7fd22f9eed2')\"\n",
              "            title=\"Suggest charts\"\n",
              "            style=\"display:none;\">\n",
              "\n",
              "<svg xmlns=\"http://www.w3.org/2000/svg\" height=\"24px\"viewBox=\"0 0 24 24\"\n",
              "     width=\"24px\">\n",
              "    <g>\n",
              "        <path d=\"M19 3H5c-1.1 0-2 .9-2 2v14c0 1.1.9 2 2 2h14c1.1 0 2-.9 2-2V5c0-1.1-.9-2-2-2zM9 17H7v-7h2v7zm4 0h-2V7h2v10zm4 0h-2v-4h2v4z\"/>\n",
              "    </g>\n",
              "</svg>\n",
              "  </button>\n",
              "\n",
              "<style>\n",
              "  .colab-df-quickchart {\n",
              "      --bg-color: #E8F0FE;\n",
              "      --fill-color: #1967D2;\n",
              "      --hover-bg-color: #E2EBFA;\n",
              "      --hover-fill-color: #174EA6;\n",
              "      --disabled-fill-color: #AAA;\n",
              "      --disabled-bg-color: #DDD;\n",
              "  }\n",
              "\n",
              "  [theme=dark] .colab-df-quickchart {\n",
              "      --bg-color: #3B4455;\n",
              "      --fill-color: #D2E3FC;\n",
              "      --hover-bg-color: #434B5C;\n",
              "      --hover-fill-color: #FFFFFF;\n",
              "      --disabled-bg-color: #3B4455;\n",
              "      --disabled-fill-color: #666;\n",
              "  }\n",
              "\n",
              "  .colab-df-quickchart {\n",
              "    background-color: var(--bg-color);\n",
              "    border: none;\n",
              "    border-radius: 50%;\n",
              "    cursor: pointer;\n",
              "    display: none;\n",
              "    fill: var(--fill-color);\n",
              "    height: 32px;\n",
              "    padding: 0;\n",
              "    width: 32px;\n",
              "  }\n",
              "\n",
              "  .colab-df-quickchart:hover {\n",
              "    background-color: var(--hover-bg-color);\n",
              "    box-shadow: 0 1px 2px rgba(60, 64, 67, 0.3), 0 1px 3px 1px rgba(60, 64, 67, 0.15);\n",
              "    fill: var(--button-hover-fill-color);\n",
              "  }\n",
              "\n",
              "  .colab-df-quickchart-complete:disabled,\n",
              "  .colab-df-quickchart-complete:disabled:hover {\n",
              "    background-color: var(--disabled-bg-color);\n",
              "    fill: var(--disabled-fill-color);\n",
              "    box-shadow: none;\n",
              "  }\n",
              "\n",
              "  .colab-df-spinner {\n",
              "    border: 2px solid var(--fill-color);\n",
              "    border-color: transparent;\n",
              "    border-bottom-color: var(--fill-color);\n",
              "    animation:\n",
              "      spin 1s steps(1) infinite;\n",
              "  }\n",
              "\n",
              "  @keyframes spin {\n",
              "    0% {\n",
              "      border-color: transparent;\n",
              "      border-bottom-color: var(--fill-color);\n",
              "      border-left-color: var(--fill-color);\n",
              "    }\n",
              "    20% {\n",
              "      border-color: transparent;\n",
              "      border-left-color: var(--fill-color);\n",
              "      border-top-color: var(--fill-color);\n",
              "    }\n",
              "    30% {\n",
              "      border-color: transparent;\n",
              "      border-left-color: var(--fill-color);\n",
              "      border-top-color: var(--fill-color);\n",
              "      border-right-color: var(--fill-color);\n",
              "    }\n",
              "    40% {\n",
              "      border-color: transparent;\n",
              "      border-right-color: var(--fill-color);\n",
              "      border-top-color: var(--fill-color);\n",
              "    }\n",
              "    60% {\n",
              "      border-color: transparent;\n",
              "      border-right-color: var(--fill-color);\n",
              "    }\n",
              "    80% {\n",
              "      border-color: transparent;\n",
              "      border-right-color: var(--fill-color);\n",
              "      border-bottom-color: var(--fill-color);\n",
              "    }\n",
              "    90% {\n",
              "      border-color: transparent;\n",
              "      border-bottom-color: var(--fill-color);\n",
              "    }\n",
              "  }\n",
              "</style>\n",
              "\n",
              "  <script>\n",
              "    async function quickchart(key) {\n",
              "      const quickchartButtonEl =\n",
              "        document.querySelector('#' + key + ' button');\n",
              "      quickchartButtonEl.disabled = true;  // To prevent multiple clicks.\n",
              "      quickchartButtonEl.classList.add('colab-df-spinner');\n",
              "      try {\n",
              "        const charts = await google.colab.kernel.invokeFunction(\n",
              "            'suggestCharts', [key], {});\n",
              "      } catch (error) {\n",
              "        console.error('Error during call to suggestCharts:', error);\n",
              "      }\n",
              "      quickchartButtonEl.classList.remove('colab-df-spinner');\n",
              "      quickchartButtonEl.classList.add('colab-df-quickchart-complete');\n",
              "    }\n",
              "    (() => {\n",
              "      let quickchartButtonEl =\n",
              "        document.querySelector('#df-170e10b7-cf0c-440e-8af6-b7fd22f9eed2 button');\n",
              "      quickchartButtonEl.style.display =\n",
              "        google.colab.kernel.accessAllowed ? 'block' : 'none';\n",
              "    })();\n",
              "  </script>\n",
              "</div>\n",
              "\n",
              "    </div>\n",
              "  </div>\n"
            ],
            "application/vnd.google.colaboratory.intrinsic+json": {
              "type": "dataframe",
              "variable_name": "bitcoin_prices",
              "summary": "{\n  \"name\": \"bitcoin_prices\",\n  \"rows\": 2787,\n  \"fields\": [\n    {\n      \"column\": \"Price\",\n      \"properties\": {\n        \"dtype\": \"number\",\n        \"std\": 10887.84744436952,\n        \"min\": 108.58483,\n        \"max\": 63346.7890351052,\n        \"num_unique_values\": 2787,\n        \"samples\": [\n          7954.0062377205,\n          56427.0431250152,\n          4186.78374\n        ],\n        \"semantic_type\": \"\",\n        \"description\": \"\"\n      }\n    }\n  ]\n}"
            }
          },
          "metadata": {},
          "execution_count": 131
        }
      ]
    },
    {
      "cell_type": "code",
      "source": [
        "import matplotlib.pyplot as plt\n",
        "bitcoin_prices.plot(figsize=(10, 7))\n",
        "plt.ylabel(\"BTC Price\")\n",
        "plt.title(\"Price of Bitcoin from 1 Oct 2013 to 18 May 2021\", fontsize=16)\n",
        "plt.legend(fontsize=14);"
      ],
      "metadata": {
        "colab": {
          "base_uri": "https://localhost:8080/",
          "height": 643
        },
        "id": "FSMntJoNCj6s",
        "outputId": "89da8088-341a-41df-8adc-10d5179ad505"
      },
      "execution_count": 132,
      "outputs": [
        {
          "output_type": "display_data",
          "data": {
            "text/plain": [
              "<Figure size 1000x700 with 1 Axes>"
            ],
            "image/png": "[encoded data removed]"
          },
          "metadata": {}
        }
      ]
    },
    {
      "cell_type": "code",
      "source": [],
      "metadata": {
        "id": "LEfiEKzyCj34"
      },
      "execution_count": 132,
      "outputs": []
    },
    {
      "cell_type": "code",
      "source": [
        "df.index.to_numpy()"
      ],
      "metadata": {
        "id": "cllc998KCj1A",
        "colab": {
          "base_uri": "https://localhost:8080/"
        },
        "outputId": "0a71dca5-a505-42c4-bb14-18f65e6d0fb7"
      },
      "execution_count": 133,
      "outputs": [
        {
          "output_type": "execute_result",
          "data": {
            "text/plain": [
              "array(['2013-10-01T00:00:00.000000000', '2013-10-02T00:00:00.000000000',\n",
              "       '2013-10-03T00:00:00.000000000', ...,\n",
              "       '2021-05-16T00:00:00.000000000', '2021-05-17T00:00:00.000000000',\n",
              "       '2021-05-18T00:00:00.000000000'], dtype='datetime64[ns]')"
            ]
          },
          "metadata": {},
          "execution_count": 133
        }
      ]
    },
    {
      "cell_type": "code",
      "source": [
        "# Importing and formatting historical Bitcoin data with Python\n",
        "timesteps=df.index.to_numpy()\n",
        "btc_price=df[\"Closing Price (USD)\"].to_numpy()"
      ],
      "metadata": {
        "id": "oz2F9Qlwz2V8"
      },
      "execution_count": 134,
      "outputs": []
    },
    {
      "cell_type": "code",
      "source": [
        "\n",
        "# Plot from CSV\n",
        "import matplotlib.pyplot as plt\n",
        "import numpy as np\n",
        "plt.figure(figsize=(10, 7))\n",
        "plt.plot(timesteps, btc_price)\n",
        "plt.title(\"Price of Bitcoin from 1 Oct 2013 to 18 May 2021\", fontsize=16)\n",
        "plt.xlabel(\"Date\")\n",
        "plt.ylabel(\"BTC Price\");"
      ],
      "metadata": {
        "colab": {
          "base_uri": "https://localhost:8080/",
          "height": 643
        },
        "id": "1xepTfqV1t9h",
        "outputId": "f583a8a7-bc9a-4864-e161-23ab15c74157"
      },
      "execution_count": 135,
      "outputs": [
        {
          "output_type": "display_data",
          "data": {
            "text/plain": [
              "<Figure size 1000x700 with 1 Axes>"
            ],
            "image/png": "[encoded data removed]"
          },
          "metadata": {}
        }
      ]
    },
    {
      "cell_type": "code",
      "source": [],
      "metadata": {
        "id": "WjoJ6hHTzheZ"
      },
      "execution_count": 135,
      "outputs": []
    },
    {
      "cell_type": "code",
      "source": [
        "# without using pandas\n",
        "import csv\n",
        "import datetime\n",
        "timesteps=[]\n",
        "btc_prices=[]\n",
        "with open(\"/content/BTC_USD_2013-10-01_2021-05-18-CoinDesk.csv\",\"r\") as f:\n",
        "  csv_reader= csv.reader(f,delimiter=\",\")\n",
        "  next(csv_reader)\n",
        "  for line in csv_reader:\n",
        "    timesteps.append(datetime.datetime.strptime(line[1],\"%Y-%m-%d\"))\n",
        "    btc_prices.append(float(line[2]))\n"
      ],
      "metadata": {
        "id": "Zbdf0lMpHoCY"
      },
      "execution_count": 136,
      "outputs": []
    },
    {
      "cell_type": "code",
      "source": [
        "plt.figure(figsize=(10,7))\n",
        "plt.plot(timesteps,btc_prices)\n",
        "plt.ylabel(\"BTC Prices\")\n",
        "plt.xlabel(\"date\")\n",
        "plt.legend()"
      ],
      "metadata": {
        "colab": {
          "base_uri": "https://localhost:8080/",
          "height": 675
        },
        "id": "4jlvaYbo9RAR",
        "outputId": "06c72a50-b89a-49fa-a2b5-8a8c9ebe22ca"
      },
      "execution_count": 137,
      "outputs": [
        {
          "output_type": "stream",
          "name": "stderr",
          "text": [
            "WARNING:matplotlib.legend:No artists with labels found to put in legend.  Note that artists whose label start with an underscore are ignored when legend() is called with no argument.\n"
          ]
        },
        {
          "output_type": "execute_result",
          "data": {
            "text/plain": [
              "<matplotlib.legend.Legend at 0x7a7a7da13be0>"
            ]
          },
          "metadata": {},
          "execution_count": 137
        },
        {
          "output_type": "display_data",
          "data": {
            "text/plain": [
              "<Figure size 1000x700 with 1 Axes>"
            ],
            "image/png": "[encoded data removed]"
          },
          "metadata": {}
        }
      ]
    },
    {
      "cell_type": "code",
      "source": [
        "#How to split this date, it cannot be shuffled\n",
        "from sklearn.model_selection import train_test_split\n",
        "timesteps=df.index.to_numpy()\n",
        "prices=df['Closing Price (USD)'].to_numpy()\n",
        "\n",
        "X_train, X_test, y_train, y_test = train_test_split(timesteps,prices,\n",
        "                                                    test_size=0.2,\n",
        "                                                    random_state=42)\n",
        "X_train.shape, X_test.shape, y_train.shape,y_test.shape\n"
      ],
      "metadata": {
        "colab": {
          "base_uri": "https://localhost:8080/"
        },
        "id": "SVMSMhYG-7mD",
        "outputId": "b4d85072-a732-4f17-d50c-5191ef189f1a"
      },
      "execution_count": 138,
      "outputs": [
        {
          "output_type": "execute_result",
          "data": {
            "text/plain": [
              "((2229,), (558,), (2229,), (558,))"
            ]
          },
          "metadata": {},
          "execution_count": 138
        }
      ]
    },
    {
      "cell_type": "code",
      "source": [
        "# lets plot wrong train_test_split\n",
        "plt.figure(figsize=(10,7))\n",
        "plt.scatter(X_train,y_train,s=5,label=\"Train Data\")\n",
        "plt.scatter(X_test,y_test,s=5,label=\"Train Data\")\n",
        "plt.legend()"
      ],
      "metadata": {
        "colab": {
          "base_uri": "https://localhost:8080/",
          "height": 617
        },
        "id": "dGj9dX4xEsK9",
        "outputId": "8b86a95a-a716-4cf1-911b-fd5f2f2a2702"
      },
      "execution_count": 139,
      "outputs": [
        {
          "output_type": "execute_result",
          "data": {
            "text/plain": [
              "<matplotlib.legend.Legend at 0x7a7a7e8b1840>"
            ]
          },
          "metadata": {},
          "execution_count": 139
        },
        {
          "output_type": "display_data",
          "data": {
            "text/plain": [
              "<Figure size 1000x700 with 1 Axes>"
            ],
            "image/png": "[encoded data removed]"
          },
          "metadata": {}
        }
      ]
    },
    {
      "cell_type": "code",
      "source": [
        "# why is this wrong way to split data.\n",
        "# this is a Random split             --*---**---**---*------*-----***--*\n",
        "# this is a Time Series split        -------------------------**********\n",
        "\n",
        "\n",
        "#create train and test splits the right way for timeseriesdata\n",
        "split_size=int(0.8 * len(prices))\n",
        "\n",
        "# create train data splits\n",
        "X_train,y_train=timesteps[:split_size],prices[:split_size]\n",
        "X_test,y_test=timesteps[split_size:],prices[split_size:]"
      ],
      "metadata": {
        "id": "9-8Y_SmHF6e7"
      },
      "execution_count": 140,
      "outputs": []
    },
    {
      "cell_type": "code",
      "source": [
        "# lets plot wrong train_test_split\n",
        "plt.figure(figsize=(10,7))\n",
        "plt.scatter(X_train,y_train,s=5,label=\"Train Data\")\n",
        "plt.scatter(X_test,y_test,s=5,label=\"Train Data\")\n",
        "plt.legend()"
      ],
      "metadata": {
        "colab": {
          "base_uri": "https://localhost:8080/",
          "height": 617
        },
        "id": "__mc3yHMJlJN",
        "outputId": "14ce9910-0f48-41db-d040-df7166fbe216"
      },
      "execution_count": 141,
      "outputs": [
        {
          "output_type": "execute_result",
          "data": {
            "text/plain": [
              "<matplotlib.legend.Legend at 0x7a7a82e16920>"
            ]
          },
          "metadata": {},
          "execution_count": 141
        },
        {
          "output_type": "display_data",
          "data": {
            "text/plain": [
              "<Figure size 1000x700 with 1 Axes>"
            ],
            "image/png": "[encoded data removed]"
          },
          "metadata": {}
        }
      ]
    },
    {
      "cell_type": "code",
      "source": [
        "def plot_time_series(timesteps, values, format='.', start=0, end=None, label=None):\n",
        "  \"\"\"\n",
        "  Plots a timesteps (a series of points in time) against values (a series of values across timesteps).\n",
        "\n",
        "  Parameters\n",
        "  ---------\n",
        "  timesteps : array of timesteps\n",
        "  values : array of values across time\n",
        "  format : style of plot, default \".\"\n",
        "  start : where to start the plot (setting a value will index from start of timesteps & values)\n",
        "  end : where to end the plot (setting a value will index from end of timesteps & values)\n",
        "  label : label to show on plot of values\n",
        "  \"\"\"\n",
        "  # Plot the series\n",
        "  plt.plot(timesteps[start:end], values[start:end], format, label=label)\n",
        "  plt.xlabel(\"Time\")\n",
        "  plt.ylabel(\"BTC Price\")\n",
        "  if label:\n",
        "    plt.legend(fontsize=14) # make label bigger\n",
        "  plt.grid(True)"
      ],
      "metadata": {
        "id": "lbKjGkHhJlC9"
      },
      "execution_count": 142,
      "outputs": []
    },
    {
      "cell_type": "code",
      "source": [],
      "metadata": {
        "id": "bh0IxlMwJlAF"
      },
      "execution_count": 142,
      "outputs": []
    },
    {
      "cell_type": "code",
      "source": [],
      "metadata": {
        "id": "TRieOBs7Jk4t"
      },
      "execution_count": 142,
      "outputs": []
    },
    {
      "cell_type": "code",
      "source": [
        "# how is lstm goiing to predict this\n",
        "# how will any other ml algorithm predict this"
      ],
      "metadata": {
        "id": "dVtULkSEC9XR"
      },
      "execution_count": 143,
      "outputs": []
    },
    {
      "cell_type": "markdown",
      "source": [
        "# some Terms to Familiarize,\n",
        "\n",
        "*   Horizon = Number of timesteps into the future we're going to prediict\n",
        "\n",
        "*   Window_size= number of timesteps we're going to use to predict the horizon\n",
        "\n",
        "\n"
      ],
      "metadata": {
        "id": "lx72H6uGahi1"
      }
    },
    {
      "cell_type": "markdown",
      "source": [
        "Modelling Experiments\n",
        "\n",
        "We can build almost any kind of model for our problem as long as the data inputs and outputs are formatted correctly.\n",
        "\n",
        "However, just because we can build almost any kind of model, doesn't mean it'll perform well/should be used in a production setting.\n",
        "\n",
        "We'll see what this means as we build and evaluate models throughout.\n",
        "\n",
        "Before we discuss what modelling experiments we're going to run, there are two terms you should be familiar with, horizon and window.\n",
        "\n",
        "    horizon = number of timesteps to predict into future\n",
        "    window = number of timesteps from past used to predict horizon\n",
        "\n",
        "For example, if we wanted to predict the price of Bitcoin for tomorrow (1 day in the future) using the previous week's worth of Bitcoin prices (7 days in the past), the horizon would be 1 and the window would be 7.\n",
        "\n",
        "Now, how about those modelling experiments?\n",
        "Model Number \tModel Type \tHorizon size \tWindow size \tExtra data\n",
        "0 \tNaïve model (baseline) \tNA \tNA \tNA\n",
        "1 \tDense model \t1 \t7 \tNA\n",
        "2 \tSame as 1 \t1 \t30 \tNA\n",
        "3 \tSame as 1 \t7 \t30 \tNA\n",
        "4 \tConv1D \t1 \t7 \tNA\n",
        "5 \tLSTM \t1 \t7 \tNA\n",
        "6 \tSame as 1 (but with multivariate data) \t1 \t7 \tBlock reward size\n",
        "7 \tN-BEATs Algorithm \t1 \t7 \tNA\n",
        "8 \tEnsemble (multiple models optimized on different loss functions) \t1 \t7 \tNA\n",
        "9 \tFuture prediction model (model to predict future values) \t1 \t7 \tNA\n",
        "10 \tSame as 1 (but with turkey 🦃 data introduced) \t1 \t7 \tNA\n",
        "\n",
        "    🔑 Note: To reiterate, as you can see, we can build many types of models for the data we're working with. But that doesn't mean that they'll perform well. Deep learning is a powerful technique but it doesn't always work. And as always, start with a simple model first and then add complexity as needed.\n",
        "\n",
        "Model 0: Naïve forecast (baseline)\n",
        "\n",
        "As usual, let's start with a baseline.\n",
        "\n",
        "One of the most common baseline models for time series forecasting, the naïve model (also called the naïve forecast), requires no training at all.\n",
        "\n",
        "That's because all the naïve model does is use the previous timestep value to predict the next timestep value.\n",
        "\n",
        "The formula looks like this:\n",
        "\n",
        "In English:\n",
        "\n",
        "    The prediction at timestep t (y-hat) is equal to the value at timestep t-1 (the previous timestep).\n",
        "\n",
        "Sound simple?\n",
        "\n",
        "Maybe not.\n",
        "\n",
        "In an open system (like a stock market or crypto market), you'll often find beating the naïve forecast with any kind of model is quite hard.\n",
        "\n",
        "    🔑 Note: For the sake of this notebook, an open system is a system where inputs and outputs can freely flow, such as a market (stock or crypto). Where as, a closed system the inputs and outputs are contained within the system (like a poker game with your buddies, you know the buy in and you know how much the winner can get). Time series forecasting in open systems is generally quite poor.\n"
      ],
      "metadata": {
        "id": "9OyKdPGSa6Cv"
      }
    },
    {
      "cell_type": "markdown",
      "source": [
        "#Naive Model\n",
        "y<sub>t</sub> = y <sub>t-1</sub>\n",
        "\n",
        "\n",
        "\n"
      ],
      "metadata": {
        "id": "XgkIeyXLRBR8"
      }
    },
    {
      "cell_type": "code",
      "source": [
        "# Create a naïve forecast\n",
        "naive_forecast = y_test[:-1] # Naïve forecast equals every value excluding the last value\n",
        "naive_forecast[:10], naive_forecast[-10:] # View frist 10 and last 10"
      ],
      "metadata": {
        "id": "BUfriBdwRAcV",
        "colab": {
          "base_uri": "https://localhost:8080/"
        },
        "outputId": "6b474344-5271-4fec-81a6-fc3546ce56d2"
      },
      "execution_count": 144,
      "outputs": [
        {
          "output_type": "execute_result",
          "data": {
            "text/plain": [
              "(array([9226.48582088, 8794.35864452, 8798.04205463, 9081.18687849,\n",
              "        8711.53433917, 8760.89271814, 8749.52059102, 8656.97092235,\n",
              "        8500.64355816, 8469.2608989 ]),\n",
              " array([57107.12067189, 58788.20967893, 58102.19142623, 55715.54665129,\n",
              "        56573.5554719 , 52147.82118698, 49764.1320816 , 50032.69313676,\n",
              "        47885.62525472, 45604.61575361]))"
            ]
          },
          "metadata": {},
          "execution_count": 144
        }
      ]
    },
    {
      "cell_type": "code",
      "source": [
        "plt.figure(figsize=(10, 7))\n",
        "plot_time_series(timesteps=X_train, values=y_train, label=\"Train data\")\n",
        "plot_time_series(timesteps=X_test, values=y_test, label=\"Test data\")\n",
        "plot_time_series(timesteps=X_test[1:], values=naive_forecast, format=\"-\", label=\"Naive forecast\");"
      ],
      "metadata": {
        "id": "EhgJqgzmDOKT",
        "colab": {
          "base_uri": "https://localhost:8080/",
          "height": 619
        },
        "outputId": "42046633-b730-40f4-f2d4-1462297e3c25"
      },
      "execution_count": 145,
      "outputs": [
        {
          "output_type": "display_data",
          "data": {
            "text/plain": [
              "<Figure size 1000x700 with 1 Axes>"
            ],
            "image/png": "[encoded data removed]"
          },
          "metadata": {}
        }
      ]
    },
    {
      "cell_type": "markdown",
      "source": [
        "# Metrics for measuring error\n",
        "* mse\n",
        "* mae\n",
        "* rmse\n",
        "* mape/sMape\n",
        "* MASE"
      ],
      "metadata": {
        "id": "U97oBVyYHlrU"
      }
    },
    {
      "cell_type": "code",
      "source": [
        "# MASE implemented courtesy of sktime - https://github.com/alan-turing-institute/sktime/blob/ee7a06843a44f4aaec7582d847e36073a9ab0566/sktime/performance_metrics/forecasting/_functions.py#L16\n",
        "def mean_absolute_scaled_error(y_true, y_pred):\n",
        "  \"\"\"\n",
        "  Implement MASE (assuming no seasonality of data).\n",
        "  \"\"\"\n",
        "  mae = tf.reduce_mean(tf.abs(y_true - y_pred))\n",
        "\n",
        "  # Find MAE of naive forecast (no seasonality)\n",
        "  mae_naive_no_season = tf.reduce_mean(tf.abs(y_true[1:] - y_true[:-1])) # our seasonality is 1 day (hence the shifting of 1 day)\n",
        "\n",
        "  return mae / mae_naive_no_season"
      ],
      "metadata": {
        "id": "5oHqqpMSaeH9"
      },
      "execution_count": 146,
      "outputs": []
    },
    {
      "cell_type": "code",
      "source": [
        "def evaluate_preds(y_true, y_pred):\n",
        "  # Make sure float32 (for metric calculations)\n",
        "  y_true = tf.cast(y_true, dtype=tf.float32)\n",
        "  y_pred = tf.cast(y_pred, dtype=tf.float32)\n",
        "\n",
        "  # Calculate various metrics\n",
        "  mae = tf.keras.metrics.mean_absolute_error(y_true, y_pred)\n",
        "  mse = tf.keras.metrics.mean_squared_error(y_true, y_pred) # puts and emphasis on outliers (all errors get squared)\n",
        "  rmse = tf.sqrt(mse)\n",
        "  mape = tf.keras.metrics.mean_absolute_percentage_error(y_true, y_pred)\n",
        "  mase = mean_absolute_scaled_error(y_true, y_pred)\n",
        "\n",
        "  return {\"mae\": mae.numpy(),\n",
        "          \"mse\": mse.numpy(),\n",
        "          \"rmse\": rmse.numpy(),\n",
        "          \"mape\": mape.numpy(),\n",
        "          \"mase\": mase.numpy()}"
      ],
      "metadata": {
        "id": "bBz-JeMLaeAD"
      },
      "execution_count": 147,
      "outputs": []
    },
    {
      "cell_type": "code",
      "source": [
        "import tensorflow as tf\n",
        "naive_results = evaluate_preds(y_true=y_test[1:],\n",
        "                               y_pred=naive_forecast)\n",
        "naive_results"
      ],
      "metadata": {
        "id": "zumEeHqNad9L",
        "colab": {
          "base_uri": "https://localhost:8080/"
        },
        "outputId": "bc16d3a6-402e-4ff1-a7eb-6f89e4d33f9c"
      },
      "execution_count": 148,
      "outputs": [
        {
          "output_type": "execute_result",
          "data": {
            "text/plain": [
              "{'mae': 567.9802,\n",
              " 'mse': 1147547.0,\n",
              " 'rmse': 1071.2362,\n",
              " 'mape': 2.5165248,\n",
              " 'mase': 0.99957}"
            ]
          },
          "metadata": {},
          "execution_count": 148
        }
      ]
    },
    {
      "cell_type": "code",
      "source": [
        "# Find average price of Bitcoin in test dataset\n",
        "tf.reduce_mean(y_test).numpy()"
      ],
      "metadata": {
        "id": "7lXv5u3jad5-",
        "colab": {
          "base_uri": "https://localhost:8080/"
        },
        "outputId": "43dc464e-dbcc-47e8-eb55-a3f04b8dc714"
      },
      "execution_count": 149,
      "outputs": [
        {
          "output_type": "execute_result",
          "data": {
            "text/plain": [
              "20056.632963737226"
            ]
          },
          "metadata": {},
          "execution_count": 149
        }
      ]
    },
    {
      "cell_type": "code",
      "source": [
        "# MASE implemented courtesy of sktime - https://github.com/alan-turing-institute/sktime/blob/ee7a06843a44f4aaec7582d847e36073a9ab0566/sktime/performance_metrics/forecasting/_functions.py#L16\n",
        "def mean_absolute_scaled_error(y_true, y_pred):\n",
        "  \"\"\"\n",
        "  Implement MASE (assuming no seasonality of data).\n",
        "  \"\"\"\n",
        "  mae = tf.reduce_mean(tf.abs(y_true - y_pred))\n",
        "\n",
        "  # Find MAE of naive forecast (no seasonality)\n",
        "  mae_naive_no_season = tf.reduce_mean(tf.abs(y_true[1:] - y_true[:-1])) # our seasonality is 1 day (hence the shifting of 1 day)\n",
        "\n",
        "  return mae / mae_naive_no_season"
      ],
      "metadata": {
        "id": "UnUnsjL6XqUJ"
      },
      "execution_count": 150,
      "outputs": []
    },
    {
      "cell_type": "code",
      "source": [
        "\n",
        "\n",
        "def evaluate_preds(y_true, y_pred):\n",
        "  # Make sure float32 (for metric calculations)\n",
        "  y_true = tf.cast(y_true, dtype=tf.float32)\n",
        "  y_pred = tf.cast(y_pred, dtype=tf.float32)\n",
        "\n",
        "  # Calculate various metrics\n",
        "  mae = tf.keras.metrics.mean_absolute_error(y_true, y_pred)\n",
        "  mse = tf.keras.metrics.mean_squared_error(y_true, y_pred) # puts and emphasis on outliers (all errors get squared)\n",
        "  rmse = tf.sqrt(mse)\n",
        "  mape = tf.keras.metrics.mean_absolute_percentage_error(y_true, y_pred)\n",
        "  mase = mean_absolute_scaled_error(y_true, y_pred)\n",
        "\n",
        "  return {\"mae\": mae.numpy(),\n",
        "          \"mse\": mse.numpy(),\n",
        "          \"rmse\": rmse.numpy(),\n",
        "          \"mape\": mape.numpy(),\n",
        "          \"mase\": mase.numpy()}\n",
        "\n"
      ],
      "metadata": {
        "id": "dyixgB_hXqRp"
      },
      "execution_count": 151,
      "outputs": []
    },
    {
      "cell_type": "code",
      "source": [
        "\n",
        "\n",
        "naive_results = evaluate_preds(y_true=y_test[1:],\n",
        "                               y_pred=naive_forecast)\n",
        "naive_results\n",
        "\n"
      ],
      "metadata": {
        "colab": {
          "base_uri": "https://localhost:8080/"
        },
        "id": "Me61JpHpXqO8",
        "outputId": "aa128130-7214-47d9-c526-9177cb9ba333"
      },
      "execution_count": 152,
      "outputs": [
        {
          "output_type": "execute_result",
          "data": {
            "text/plain": [
              "{'mae': 567.9802,\n",
              " 'mse': 1147547.0,\n",
              " 'rmse': 1071.2362,\n",
              " 'mape': 2.5165248,\n",
              " 'mase': 0.99957}"
            ]
          },
          "metadata": {},
          "execution_count": 152
        }
      ]
    },
    {
      "cell_type": "code",
      "source": [
        "#what do we want toi do with our bitcoin data\n",
        "print(f\"We want to use: {btc_price[:7]} to predict this: {btc_price[7]}\")"
      ],
      "metadata": {
        "id": "T4pW9SFfXqMi",
        "colab": {
          "base_uri": "https://localhost:8080/"
        },
        "outputId": "68ac0da2-1340-4e90-841e-35373c55f2cd"
      },
      "execution_count": 153,
      "outputs": [
        {
          "output_type": "stream",
          "name": "stdout",
          "text": [
            "We want to use: [123.65499 125.455   108.58483 118.67466 121.33866 120.65533 121.795  ] to predict this: 123.033\n"
          ]
        }
      ]
    },
    {
      "cell_type": "code",
      "source": [],
      "metadata": {
        "id": "TZOMNUrRXqJ9"
      },
      "execution_count": 153,
      "outputs": []
    },
    {
      "cell_type": "code",
      "source": [
        "0.#create function to label windowed dataa\n",
        "btc_price[:10]"
      ],
      "metadata": {
        "colab": {
          "base_uri": "https://localhost:8080/"
        },
        "id": "hWyoXUpYNNBV",
        "outputId": "208ffcb3-acfd-43be-d056-3b7f70e4eb80"
      },
      "execution_count": 154,
      "outputs": [
        {
          "output_type": "execute_result",
          "data": {
            "text/plain": [
              "array([123.65499, 125.455  , 108.58483, 118.67466, 121.33866, 120.65533,\n",
              "       121.795  , 123.033  , 124.049  , 125.96116])"
            ]
          },
          "metadata": {},
          "execution_count": 154
        }
      ]
    },
    {
      "cell_type": "code",
      "source": [
        "btc_price[:-7]"
      ],
      "metadata": {
        "colab": {
          "base_uri": "https://localhost:8080/"
        },
        "id": "5nSNPvDFHHqL",
        "outputId": "edb68ce0-d651-4dac-9714-58f4dba74c52"
      },
      "execution_count": 155,
      "outputs": [
        {
          "output_type": "execute_result",
          "data": {
            "text/plain": [
              "array([  123.65499   ,   125.455     ,   108.58483   , ...,\n",
              "       58788.20967893, 58102.19142623, 55715.54665129])"
            ]
          },
          "metadata": {},
          "execution_count": 155
        }
      ]
    },
    {
      "cell_type": "code",
      "source": [
        "#lets setup global variables for window and horizon size\n",
        "HORIZON=1\n",
        "WINDOW_SIZE=7\n",
        "\n",
        "def get_labelled_window(x, horizon=HORIZON):\n",
        "\n",
        "  \"\"\"\n",
        "  crteates labelled data\n",
        "  if horizon =1\n",
        "  input=[1,2,3,4,5,6]  output: ([1, 2, 3, 4, 5, 6],[7])\n",
        "  \"\"\"\n",
        "\n",
        "  return x[:,:-horizon], x[:,-horizon:]"
      ],
      "metadata": {
        "id": "bSJJ_c79NjKe"
      },
      "execution_count": 156,
      "outputs": []
    },
    {
      "cell_type": "code",
      "source": [
        "# print(f\"we want ot use: {btc_price[:,:-5]}\\n to predict: {btc_price[5]}\")"
      ],
      "metadata": {
        "id": "PfVkRXnMQGTK"
      },
      "execution_count": 157,
      "outputs": []
    },
    {
      "cell_type": "code",
      "source": [
        "test_window,test_label=get_labelled_window(tf.expand_dims(tf.range(8),axis=0))"
      ],
      "metadata": {
        "id": "bgI0Ras_Qran"
      },
      "execution_count": 158,
      "outputs": []
    },
    {
      "cell_type": "code",
      "source": [
        "print(f\" this is {test_window} to predict {test_label}\")"
      ],
      "metadata": {
        "id": "IPdRZyK1QHk5",
        "colab": {
          "base_uri": "https://localhost:8080/"
        },
        "outputId": "e76f067b-1a06-4f7c-ffd5-d7a570c0813e"
      },
      "execution_count": 159,
      "outputs": [
        {
          "output_type": "stream",
          "name": "stdout",
          "text": [
            " this is [[0 1 2 3 4 5 6]] to predict [[7]]\n"
          ]
        }
      ]
    },
    {
      "cell_type": "code",
      "source": [
        "print(f\" this is {tf.squeeze(test_window)} to predict {tf.squeeze(test_label)}\")"
      ],
      "metadata": {
        "id": "DwwyPbTNqjGA",
        "colab": {
          "base_uri": "https://localhost:8080/"
        },
        "outputId": "1bc8c4bc-042b-42d6-e29c-faf5ffdb7335"
      },
      "execution_count": 160,
      "outputs": [
        {
          "output_type": "stream",
          "name": "stdout",
          "text": [
            " this is [0 1 2 3 4 5 6] to predict 7\n"
          ]
        }
      ]
    },
    {
      "cell_type": "markdown",
      "source": [
        "Our Function will\n",
        "1. Create a window srep of specific window size eg ([1,2,3,4,5,6])\n",
        "2.\n",
        "Use numPy indexing to create a 2D array of multiple window steps, for example:\n",
        "```\n",
        "[\n",
        "[0,1,2,3,4,5,6],\n",
        "[1,2,3,4,5,6,7],\n",
        "[2,3,4,5,6,7,8],\n",
        "]\n",
        "```\n",
        "3. Uses the 2D array of multiple window step (from 2.) to index on a target series (e.g. the historical price of bitcoin)\n",
        "4. Uses out 1get labelled_windows()` finction we created above to turn the window steps into windows with specified horizon"
      ],
      "metadata": {
        "id": "31w7M0OZ7LCP"
      }
    },
    {
      "cell_type": "code",
      "source": [
        "# fast and robust sliding eindow optimization\n",
        "# https://towardsdatascience.com/fast-and-robust-sliding-window-vectorization-with-numpy-3ad950ed62f5"
      ],
      "metadata": {
        "id": "FFPoJQ4pMYcA"
      },
      "execution_count": 161,
      "outputs": []
    },
    {
      "cell_type": "code",
      "source": [
        "window_size=7\n",
        "horizon=1\n",
        "window_step = np.expand_dims(np.arange(window_size+horizon),axis=0)"
      ],
      "metadata": {
        "id": "5ZQ9aSnMHoLF"
      },
      "execution_count": 162,
      "outputs": []
    },
    {
      "cell_type": "code",
      "source": [
        "window_step"
      ],
      "metadata": {
        "colab": {
          "base_uri": "https://localhost:8080/"
        },
        "id": "0NjEpMZuH53x",
        "outputId": "585ae116-8319-48f3-954d-34f812bfb701"
      },
      "execution_count": 163,
      "outputs": [
        {
          "output_type": "execute_result",
          "data": {
            "text/plain": [
              "array([[0, 1, 2, 3, 4, 5, 6, 7]])"
            ]
          },
          "metadata": {},
          "execution_count": 163
        }
      ]
    },
    {
      "cell_type": "code",
      "source": [],
      "metadata": {
        "id": "yuFCfZNpH-MB"
      },
      "execution_count": 163,
      "outputs": []
    },
    {
      "cell_type": "code",
      "source": [],
      "metadata": {
        "id": "4to28h3JtIgQ"
      },
      "execution_count": 163,
      "outputs": []
    },
    {
      "cell_type": "code",
      "source": [],
      "metadata": {
        "id": "IqnLVD2_tQiA"
      },
      "execution_count": 163,
      "outputs": []
    },
    {
      "cell_type": "code",
      "source": [
        "# create a function toview numpy arrays as windows\n",
        "def make_window(x,window_size=WINDOW_SIZE,horizon=HORIZON):\n",
        "  window_step = np.expand_dims(np.arange(window_size+horizon),axis=0)\n",
        "\n",
        "  window_indexes=window_step+np.expand_dims(np.arange(len(x)-(window_size+horizon-1)),axis=0).T\n",
        "\n",
        "  windowed_array=x[window_indexes]\n",
        "\n",
        "  windows,labels = get_labelled_window(x=windowed_array,horizon=horizon)\n",
        "  return windows,labels"
      ],
      "metadata": {
        "id": "EhOGiqEANJ1G"
      },
      "execution_count": 164,
      "outputs": []
    },
    {
      "cell_type": "code",
      "source": [
        "# window_step = np.expand_dims(np.arange(WINDOW_SIZE+HORIZON),axis=0)"
      ],
      "metadata": {
        "id": "jh_n43qOnrKT"
      },
      "execution_count": 165,
      "outputs": []
    },
    {
      "cell_type": "code",
      "source": [
        "# window_indexes=window_step + np.expand_dims(np.arange(len(btc_price)-7),axis=0)"
      ],
      "metadata": {
        "id": "hR0gfhy7nrGc"
      },
      "execution_count": 166,
      "outputs": []
    },
    {
      "cell_type": "code",
      "source": [
        "full_windows,full_labels = make_window(btc_price,WINDOW_SIZE,HORIZON)"
      ],
      "metadata": {
        "id": "nRadS7YnogAZ"
      },
      "execution_count": 167,
      "outputs": []
    },
    {
      "cell_type": "code",
      "source": [
        "def make_train_test_split(x,label,test_split=0.2):\n",
        "  \"\"\"\n",
        "  splitting time series data in a sequential manner (temporal data)\n",
        "  \"\"\"\n",
        "  split_size=int(len(x)*(1-test_split))\n",
        "  train_window = x[:split_size]\n",
        "  train_label = label[:split_size]\n",
        "  test_window = x[split_size:]\n",
        "  test_label = label[split_size:]\n",
        "  return train_window, train_label, test_window, test_label"
      ],
      "metadata": {
        "id": "NFigCRdWuH_-"
      },
      "execution_count": 168,
      "outputs": []
    },
    {
      "cell_type": "code",
      "source": [
        "train_window, train_label, test_window, test_label = make_train_test_split(full_windows,full_labels)"
      ],
      "metadata": {
        "id": "nAZCG4vzuH9g"
      },
      "execution_count": 169,
      "outputs": []
    },
    {
      "cell_type": "code",
      "source": [
        "len(train_window)"
      ],
      "metadata": {
        "id": "Zqvz36i9t80-",
        "colab": {
          "base_uri": "https://localhost:8080/"
        },
        "outputId": "bd525346-f1d0-4250-b86e-3fe443ce3cc8"
      },
      "execution_count": 170,
      "outputs": [
        {
          "output_type": "execute_result",
          "data": {
            "text/plain": [
              "2224"
            ]
          },
          "metadata": {},
          "execution_count": 170
        }
      ]
    },
    {
      "cell_type": "code",
      "source": [
        "len(full_windows)"
      ],
      "metadata": {
        "colab": {
          "base_uri": "https://localhost:8080/"
        },
        "id": "gV8i_hUKUYvL",
        "outputId": "4044d54b-7289-4009-f503-310b57d000cb"
      },
      "execution_count": 171,
      "outputs": [
        {
          "output_type": "execute_result",
          "data": {
            "text/plain": [
              "2780"
            ]
          },
          "metadata": {},
          "execution_count": 171
        }
      ]
    },
    {
      "cell_type": "code",
      "source": [
        "len(full_windows)*0.8"
      ],
      "metadata": {
        "colab": {
          "base_uri": "https://localhost:8080/"
        },
        "id": "eF2OuI7pUcRj",
        "outputId": "d9933bb0-74ea-4dbe-e303-460cd8a5eaee"
      },
      "execution_count": 172,
      "outputs": [
        {
          "output_type": "execute_result",
          "data": {
            "text/plain": [
              "2224.0"
            ]
          },
          "metadata": {},
          "execution_count": 172
        }
      ]
    },
    {
      "cell_type": "markdown",
      "source": [
        "#Make a modelling checkpoint\n",
        "\n",
        "Because our model's performance will fluctuate from experiment to\n",
        "experiment, we're going to write a model checkpoint so we\n",
        "can comapre apples to apples\n",
        "\n",
        "More specifically, we want to comapre each of our model's best\n",
        "performance against the other model's best performance"
      ],
      "metadata": {
        "id": "_kIeZ0niXtMf"
      }
    },
    {
      "cell_type": "code",
      "source": [
        "import os\n",
        "def create_model_checkpoint(model_name, save_path=\"model_experiments\"):\n",
        "  return tf.keras.callbacks.ModelCheckpoint(filepath=os.path.join(save_path, model_name), # create filepath to save model\n",
        "                                            verbose=0, # only output a limited amount of text\n",
        "                                            monitor=\"val_loss\",\n",
        "                                            save_best_only=True)\n"
      ],
      "metadata": {
        "id": "TkiX7QGEUhH8"
      },
      "execution_count": 173,
      "outputs": []
    },
    {
      "cell_type": "code",
      "source": [],
      "metadata": {
        "id": "TI7rW8GeFAdU"
      },
      "execution_count": 173,
      "outputs": []
    },
    {
      "cell_type": "markdown",
      "source": [
        "#Model Eval"
      ],
      "metadata": {
        "id": "ynPW-fyzFBHw"
      }
    },
    {
      "cell_type": "code",
      "source": [
        "def evaluate_preds(y_true, y_pred):\n",
        "  # Make sure float32 (for metric calculations)\n",
        "  y_true = tf.cast(y_true, dtype=tf.float32)\n",
        "  y_pred = tf.cast(y_pred, dtype=tf.float32)\n",
        "\n",
        "  # Calculate various metrics\n",
        "  mae = tf.keras.metrics.mean_absolute_error(y_true, y_pred)\n",
        "  mse = tf.keras.metrics.mean_squared_error(y_true, y_pred)\n",
        "  rmse = tf.sqrt(mse)\n",
        "  mape = tf.keras.metrics.mean_absolute_percentage_error(y_true, y_pred)\n",
        "  mase = mean_absolute_scaled_error(y_true, y_pred)\n",
        "\n",
        "  # Account for different sized metrics (for longer horizons, reduce to single number)\n",
        "  if mae.ndim > 0: # if mae isn't already a scalar, reduce it to one by aggregating tensors to mean\n",
        "    mae = tf.reduce_mean(mae)\n",
        "    mse = tf.reduce_mean(mse)\n",
        "    rmse = tf.reduce_mean(rmse)\n",
        "    mape = tf.reduce_mean(mape)\n",
        "    mase = tf.reduce_mean(mase)\n",
        "\n",
        "  return {\"mae\": mae.numpy(),\n",
        "          \"mse\": mse.numpy(),\n",
        "          \"rmse\": rmse.numpy(),\n",
        "          \"mape\": mape.numpy(),\n",
        "          \"mase\": mase.numpy()}\n"
      ],
      "metadata": {
        "id": "DOxy489nE_k8"
      },
      "execution_count": 174,
      "outputs": []
    },
    {
      "cell_type": "markdown",
      "source": [
        "#Model 1"
      ],
      "metadata": {
        "id": "hLNK5_dGE2gG"
      }
    },
    {
      "cell_type": "code",
      "source": [
        "import tensorflow as tf\n",
        "from tensorflow.keras import layers\n",
        "\n",
        "tf.random.set_seed(42)\n",
        " # construct mnodel\n",
        "model_1= tf.keras.Sequential([\n",
        "     layers.Dense(128,activation=\"relu\"),\n",
        "     layers.Dense(HORIZON,activation='linear')\n",
        "\n",
        " ],name= \"model_1_dense\")\n",
        "\n",
        " #compile\n",
        "model_1.compile(loss=\"mae\",\n",
        "                optimizer=tf.keras.optimizers.Adam(),\n",
        "                metrics=[\"mae\",\"mse\"])\n",
        "\n",
        "model_1_history=model_1.fit(x=train_window,\n",
        "             y=train_label,\n",
        "             epochs=100,\n",
        "             verbose=1,\n",
        "             batch_size=32,\n",
        "             validation_data=(test_window,test_label),\n",
        "             callbacks=([create_model_checkpoint(model_name=model_1.name)])\n",
        "\n",
        " )"
      ],
      "metadata": {
        "colab": {
          "base_uri": "https://localhost:8080/"
        },
        "id": "L_TUJmWyafGI",
        "outputId": "4548cc2c-786a-4521-d141-6daa43bf8c30"
      },
      "execution_count": 175,
      "outputs": [
        {
          "output_type": "stream",
          "name": "stdout",
          "text": [
            "Epoch 1/100\n",
            "70/70 [==============================] - 1s 12ms/step - loss: 318.3431 - mae: 318.3431 - mse: 549538.6250 - val_loss: 892.1084 - val_mae: 892.1084 - val_mse: 2559240.7500\n",
            "Epoch 2/100\n",
            "70/70 [==============================] - 1s 10ms/step - loss: 164.9494 - mae: 164.9494 - mse: 139762.0000 - val_loss: 840.7527 - val_mae: 840.7527 - val_mse: 2379876.5000\n",
            "Epoch 3/100\n",
            "70/70 [==============================] - 2s 23ms/step - loss: 150.0601 - mae: 150.0601 - mse: 125156.0547 - val_loss: 776.8635 - val_mae: 776.8635 - val_mse: 2001696.5000\n",
            "Epoch 4/100\n",
            "70/70 [==============================] - 1s 19ms/step - loss: 148.6429 - mae: 148.6429 - mse: 118204.9453 - val_loss: 752.8629 - val_mae: 752.8629 - val_mse: 1859548.7500\n",
            "Epoch 5/100\n",
            "70/70 [==============================] - 0s 5ms/step - loss: 149.5000 - mae: 149.5000 - mse: 115522.7969 - val_loss: 804.4322 - val_mae: 804.4322 - val_mse: 1957421.3750\n",
            "Epoch 6/100\n",
            "70/70 [==============================] - 1s 12ms/step - loss: 134.9232 - mae: 134.9232 - mse: 102630.9297 - val_loss: 701.4922 - val_mae: 701.4922 - val_mse: 1655118.3750\n",
            "Epoch 7/100\n",
            "70/70 [==============================] - 1s 10ms/step - loss: 136.1604 - mae: 136.1604 - mse: 102354.3281 - val_loss: 687.4969 - val_mae: 687.4969 - val_mse: 1583342.7500\n",
            "Epoch 8/100\n",
            "70/70 [==============================] - 0s 3ms/step - loss: 133.5713 - mae: 133.5713 - mse: 97843.4844 - val_loss: 703.7937 - val_mae: 703.7937 - val_mse: 1676859.1250\n",
            "Epoch 9/100\n",
            "70/70 [==============================] - 0s 3ms/step - loss: 128.7584 - mae: 128.7584 - mse: 89816.8516 - val_loss: 1073.7969 - val_mae: 1073.7969 - val_mse: 2833997.2500\n",
            "Epoch 10/100\n",
            "70/70 [==============================] - 1s 10ms/step - loss: 149.2039 - mae: 149.2039 - mse: 106063.1953 - val_loss: 654.4150 - val_mae: 654.4150 - val_mse: 1484970.6250\n",
            "Epoch 11/100\n",
            "70/70 [==============================] - 0s 3ms/step - loss: 126.1498 - mae: 126.1498 - mse: 89311.5625 - val_loss: 886.0043 - val_mae: 886.0043 - val_mse: 2112703.0000\n",
            "Epoch 12/100\n",
            "70/70 [==============================] - 0s 3ms/step - loss: 128.2196 - mae: 128.2196 - mse: 91927.0391 - val_loss: 878.6144 - val_mae: 878.6144 - val_mse: 2078038.3750\n",
            "Epoch 13/100\n",
            "70/70 [==============================] - 1s 10ms/step - loss: 125.7256 - mae: 125.7256 - mse: 86886.2344 - val_loss: 625.4996 - val_mae: 625.4996 - val_mse: 1370477.0000\n",
            "Epoch 14/100\n",
            "70/70 [==============================] - 0s 3ms/step - loss: 133.7479 - mae: 133.7479 - mse: 93441.5000 - val_loss: 1196.6631 - val_mae: 1196.6631 - val_mse: 3317156.2500\n",
            "Epoch 15/100\n",
            "70/70 [==============================] - 1s 10ms/step - loss: 133.9714 - mae: 133.9714 - mse: 92270.4766 - val_loss: 617.2829 - val_mae: 617.2829 - val_mse: 1321561.8750\n",
            "Epoch 16/100\n",
            "70/70 [==============================] - 1s 10ms/step - loss: 118.9146 - mae: 118.9146 - mse: 81959.1094 - val_loss: 612.3897 - val_mae: 612.3897 - val_mse: 1301014.0000\n",
            "Epoch 17/100\n",
            "70/70 [==============================] - 0s 3ms/step - loss: 119.0448 - mae: 119.0448 - mse: 79975.7656 - val_loss: 632.9478 - val_mae: 632.9478 - val_mse: 1373913.0000\n",
            "Epoch 18/100\n",
            "70/70 [==============================] - 0s 3ms/step - loss: 125.7907 - mae: 125.7907 - mse: 84184.3750 - val_loss: 619.1288 - val_mae: 619.1288 - val_mse: 1332472.1250\n",
            "Epoch 19/100\n",
            "70/70 [==============================] - 0s 3ms/step - loss: 130.0206 - mae: 130.0206 - mse: 89657.5547 - val_loss: 620.2343 - val_mae: 620.2343 - val_mse: 1331102.8750\n",
            "Epoch 20/100\n",
            "70/70 [==============================] - 0s 3ms/step - loss: 118.8067 - mae: 118.8067 - mse: 81143.6562 - val_loss: 694.4303 - val_mae: 694.4303 - val_mse: 1465214.0000\n",
            "Epoch 21/100\n",
            "70/70 [==============================] - 1s 9ms/step - loss: 118.3800 - mae: 118.3800 - mse: 74440.0859 - val_loss: 608.3525 - val_mae: 608.3525 - val_mse: 1269133.8750\n",
            "Epoch 22/100\n",
            "70/70 [==============================] - 1s 9ms/step - loss: 116.2833 - mae: 116.2833 - mse: 78446.7734 - val_loss: 592.0462 - val_mae: 592.0462 - val_mse: 1236314.6250\n",
            "Epoch 23/100\n",
            "70/70 [==============================] - 0s 3ms/step - loss: 119.6253 - mae: 119.6253 - mse: 80247.8047 - val_loss: 592.2649 - val_mae: 592.2649 - val_mse: 1249218.1250\n",
            "Epoch 24/100\n",
            "70/70 [==============================] - 0s 3ms/step - loss: 115.3093 - mae: 115.3093 - mse: 75603.5391 - val_loss: 659.1619 - val_mae: 659.1619 - val_mse: 1406833.3750\n",
            "Epoch 25/100\n",
            "70/70 [==============================] - 1s 9ms/step - loss: 115.2244 - mae: 115.2244 - mse: 74131.0859 - val_loss: 579.7496 - val_mae: 579.7496 - val_mse: 1211077.1250\n",
            "Epoch 26/100\n",
            "70/70 [==============================] - 2s 22ms/step - loss: 119.3020 - mae: 119.3020 - mse: 81006.1172 - val_loss: 579.7206 - val_mae: 579.7206 - val_mse: 1209982.6250\n",
            "Epoch 27/100\n",
            "70/70 [==============================] - 1s 7ms/step - loss: 116.7207 - mae: 116.7207 - mse: 75633.5781 - val_loss: 907.3170 - val_mae: 907.3170 - val_mse: 2248812.0000\n",
            "Epoch 28/100\n",
            "70/70 [==============================] - 1s 14ms/step - loss: 118.8952 - mae: 118.8952 - mse: 80284.5312 - val_loss: 633.7587 - val_mae: 633.7587 - val_mse: 1302230.2500\n",
            "Epoch 29/100\n",
            "70/70 [==============================] - 2s 32ms/step - loss: 120.7314 - mae: 120.7314 - mse: 81136.8750 - val_loss: 578.9421 - val_mae: 578.9421 - val_mse: 1199837.8750\n",
            "Epoch 30/100\n",
            "70/70 [==============================] - 0s 6ms/step - loss: 111.6990 - mae: 111.6990 - mse: 72906.2969 - val_loss: 601.3272 - val_mae: 601.3272 - val_mse: 1231333.5000\n",
            "Epoch 31/100\n",
            "70/70 [==============================] - 0s 5ms/step - loss: 120.2868 - mae: 120.2868 - mse: 75798.5859 - val_loss: 720.5310 - val_mae: 720.5310 - val_mse: 1514383.0000\n",
            "Epoch 32/100\n",
            "70/70 [==============================] - 1s 17ms/step - loss: 113.3410 - mae: 113.3410 - mse: 74648.0000 - val_loss: 577.2996 - val_mae: 577.2996 - val_mse: 1193488.7500\n",
            "Epoch 33/100\n",
            "70/70 [==============================] - 0s 6ms/step - loss: 120.1059 - mae: 120.1059 - mse: 78124.3438 - val_loss: 605.9454 - val_mae: 605.9454 - val_mse: 1238374.6250\n",
            "Epoch 34/100\n",
            "70/70 [==============================] - 1s 21ms/step - loss: 124.2201 - mae: 124.2201 - mse: 87526.0000 - val_loss: 572.4627 - val_mae: 572.4627 - val_mse: 1184876.2500\n",
            "Epoch 35/100\n",
            "70/70 [==============================] - 0s 6ms/step - loss: 111.2462 - mae: 111.2462 - mse: 74249.1406 - val_loss: 581.0277 - val_mae: 581.0277 - val_mse: 1206934.7500\n",
            "Epoch 36/100\n",
            "70/70 [==============================] - 1s 7ms/step - loss: 115.7570 - mae: 115.7570 - mse: 74884.5469 - val_loss: 812.9327 - val_mae: 812.9327 - val_mse: 1796393.0000\n",
            "Epoch 37/100\n",
            "70/70 [==============================] - 0s 6ms/step - loss: 116.0189 - mae: 116.0189 - mse: 76571.3906 - val_loss: 572.4943 - val_mae: 572.4943 - val_mse: 1183545.7500\n",
            "Epoch 38/100\n",
            "70/70 [==============================] - 1s 8ms/step - loss: 123.5475 - mae: 123.5475 - mse: 78860.5938 - val_loss: 705.2653 - val_mae: 705.2653 - val_mse: 1469189.8750\n",
            "Epoch 39/100\n",
            "70/70 [==============================] - 0s 5ms/step - loss: 113.9035 - mae: 113.9035 - mse: 74789.1484 - val_loss: 578.4027 - val_mae: 578.4027 - val_mse: 1197786.2500\n",
            "Epoch 40/100\n",
            "70/70 [==============================] - 0s 7ms/step - loss: 114.9032 - mae: 114.9032 - mse: 74479.1562 - val_loss: 614.5927 - val_mae: 614.5927 - val_mse: 1274699.2500\n",
            "Epoch 41/100\n",
            "70/70 [==============================] - 0s 6ms/step - loss: 109.5140 - mae: 109.5140 - mse: 71329.8828 - val_loss: 769.0936 - val_mae: 769.0936 - val_mse: 1707406.8750\n",
            "Epoch 42/100\n",
            "70/70 [==============================] - 1s 11ms/step - loss: 119.4680 - mae: 119.4680 - mse: 77186.4609 - val_loss: 613.9005 - val_mae: 613.9005 - val_mse: 1246462.0000\n",
            "Epoch 43/100\n",
            "70/70 [==============================] - 2s 23ms/step - loss: 111.9338 - mae: 111.9338 - mse: 73026.8516 - val_loss: 566.9931 - val_mae: 566.9931 - val_mse: 1165868.3750\n",
            "Epoch 44/100\n",
            "70/70 [==============================] - 1s 8ms/step - loss: 111.4411 - mae: 111.4411 - mse: 73080.3828 - val_loss: 579.8418 - val_mae: 579.8418 - val_mse: 1179714.6250\n",
            "Epoch 45/100\n",
            "70/70 [==============================] - 1s 12ms/step - loss: 113.6796 - mae: 113.6796 - mse: 75895.9375 - val_loss: 583.5851 - val_mae: 583.5851 - val_mse: 1188703.1250\n",
            "Epoch 46/100\n",
            "70/70 [==============================] - 1s 18ms/step - loss: 124.5857 - mae: 124.5857 - mse: 84266.3516 - val_loss: 599.8391 - val_mae: 599.8391 - val_mse: 1219669.8750\n",
            "Epoch 47/100\n",
            "70/70 [==============================] - 1s 14ms/step - loss: 115.0863 - mae: 115.0863 - mse: 74113.3203 - val_loss: 890.6064 - val_mae: 890.6064 - val_mse: 2050938.0000\n",
            "Epoch 48/100\n",
            "70/70 [==============================] - 1s 8ms/step - loss: 129.9659 - mae: 129.9659 - mse: 84306.1328 - val_loss: 571.5721 - val_mae: 571.5721 - val_mse: 1176270.5000\n",
            "Epoch 49/100\n",
            "70/70 [==============================] - 1s 11ms/step - loss: 130.0989 - mae: 130.0989 - mse: 87977.8750 - val_loss: 572.3569 - val_mae: 572.3569 - val_mse: 1182807.2500\n",
            "Epoch 50/100\n",
            "70/70 [==============================] - 0s 6ms/step - loss: 114.9575 - mae: 114.9575 - mse: 73153.9609 - val_loss: 589.9051 - val_mae: 589.9051 - val_mse: 1200714.8750\n",
            "Epoch 51/100\n",
            "70/70 [==============================] - 0s 6ms/step - loss: 116.7555 - mae: 116.7555 - mse: 74702.3750 - val_loss: 570.6921 - val_mae: 570.6921 - val_mse: 1175994.2500\n",
            "Epoch 52/100\n",
            "70/70 [==============================] - 0s 6ms/step - loss: 120.0344 - mae: 120.0344 - mse: 76408.8516 - val_loss: 620.5614 - val_mae: 620.5614 - val_mse: 1260129.1250\n",
            "Epoch 53/100\n",
            "70/70 [==============================] - 0s 7ms/step - loss: 110.4893 - mae: 110.4893 - mse: 71536.1484 - val_loss: 640.2816 - val_mae: 640.2816 - val_mse: 1324122.8750\n",
            "Epoch 54/100\n",
            "70/70 [==============================] - 0s 6ms/step - loss: 110.9574 - mae: 110.9574 - mse: 72429.8828 - val_loss: 572.0400 - val_mae: 572.0400 - val_mse: 1162412.1250\n",
            "Epoch 55/100\n",
            "70/70 [==============================] - 1s 9ms/step - loss: 113.3963 - mae: 113.3963 - mse: 74922.4062 - val_loss: 569.9822 - val_mae: 569.9822 - val_mse: 1170886.2500\n",
            "Epoch 56/100\n",
            "70/70 [==============================] - 1s 10ms/step - loss: 109.4723 - mae: 109.4723 - mse: 69823.8047 - val_loss: 794.7346 - val_mae: 794.7346 - val_mse: 1799852.7500\n",
            "Epoch 57/100\n",
            "70/70 [==============================] - 1s 10ms/step - loss: 112.5379 - mae: 112.5379 - mse: 71931.2969 - val_loss: 583.2513 - val_mae: 583.2513 - val_mse: 1207773.8750\n",
            "Epoch 58/100\n",
            "70/70 [==============================] - 1s 11ms/step - loss: 119.1205 - mae: 119.1205 - mse: 76923.0547 - val_loss: 588.3856 - val_mae: 588.3856 - val_mse: 1201324.8750\n",
            "Epoch 59/100\n",
            "70/70 [==============================] - 1s 15ms/step - loss: 111.0475 - mae: 111.0475 - mse: 71505.2266 - val_loss: 583.3002 - val_mae: 583.3002 - val_mse: 1187319.2500\n",
            "Epoch 60/100\n",
            "70/70 [==============================] - 1s 8ms/step - loss: 110.1053 - mae: 110.1053 - mse: 69424.5156 - val_loss: 573.8362 - val_mae: 573.8362 - val_mse: 1177884.1250\n",
            "Epoch 61/100\n",
            "70/70 [==============================] - 0s 6ms/step - loss: 106.5573 - mae: 106.5573 - mse: 69527.6094 - val_loss: 567.3165 - val_mae: 567.3165 - val_mse: 1161209.0000\n",
            "Epoch 62/100\n",
            "70/70 [==============================] - 0s 6ms/step - loss: 107.6441 - mae: 107.6441 - mse: 70328.4062 - val_loss: 574.4232 - val_mae: 574.4232 - val_mse: 1179134.7500\n",
            "Epoch 63/100\n",
            "70/70 [==============================] - 0s 5ms/step - loss: 112.8648 - mae: 112.8648 - mse: 73905.1797 - val_loss: 665.8022 - val_mae: 665.8022 - val_mse: 1398176.7500\n",
            "Epoch 64/100\n",
            "70/70 [==============================] - 0s 5ms/step - loss: 119.6723 - mae: 119.6723 - mse: 75544.9297 - val_loss: 772.4651 - val_mae: 772.4651 - val_mse: 1664462.0000\n",
            "Epoch 65/100\n",
            "70/70 [==============================] - 1s 10ms/step - loss: 113.8563 - mae: 113.8563 - mse: 73694.7891 - val_loss: 725.0759 - val_mae: 725.0759 - val_mse: 1528614.5000\n",
            "Epoch 66/100\n",
            "70/70 [==============================] - 1s 15ms/step - loss: 109.9705 - mae: 109.9705 - mse: 70544.1875 - val_loss: 599.8647 - val_mae: 599.8647 - val_mse: 1214209.5000\n",
            "Epoch 67/100\n",
            "70/70 [==============================] - 1s 11ms/step - loss: 110.3368 - mae: 110.3368 - mse: 71711.0391 - val_loss: 595.2892 - val_mae: 595.2892 - val_mse: 1231339.3750\n",
            "Epoch 68/100\n",
            "70/70 [==============================] - 1s 13ms/step - loss: 109.4058 - mae: 109.4058 - mse: 71254.4609 - val_loss: 565.1301 - val_mae: 565.1301 - val_mse: 1149653.1250\n",
            "Epoch 69/100\n",
            "70/70 [==============================] - 0s 3ms/step - loss: 109.8738 - mae: 109.8738 - mse: 69471.5078 - val_loss: 573.9146 - val_mae: 573.9146 - val_mse: 1171007.6250\n",
            "Epoch 70/100\n",
            "70/70 [==============================] - 0s 3ms/step - loss: 118.8683 - mae: 118.8683 - mse: 77573.6484 - val_loss: 576.9570 - val_mae: 576.9570 - val_mse: 1184569.5000\n",
            "Epoch 71/100\n",
            "70/70 [==============================] - 0s 3ms/step - loss: 107.8627 - mae: 107.8627 - mse: 69938.3047 - val_loss: 611.1223 - val_mae: 611.1223 - val_mse: 1236346.5000\n",
            "Epoch 72/100\n",
            "70/70 [==============================] - 0s 3ms/step - loss: 113.3108 - mae: 113.3108 - mse: 72525.3125 - val_loss: 727.2606 - val_mae: 727.2606 - val_mse: 1561605.5000\n",
            "Epoch 73/100\n",
            "70/70 [==============================] - 0s 3ms/step - loss: 110.3248 - mae: 110.3248 - mse: 72178.7969 - val_loss: 602.5126 - val_mae: 602.5126 - val_mse: 1219620.2500\n",
            "Epoch 74/100\n",
            "70/70 [==============================] - 0s 3ms/step - loss: 115.2480 - mae: 115.2480 - mse: 72117.8516 - val_loss: 590.5323 - val_mae: 590.5323 - val_mse: 1217982.6250\n",
            "Epoch 75/100\n",
            "70/70 [==============================] - 0s 3ms/step - loss: 109.9737 - mae: 109.9737 - mse: 70903.3438 - val_loss: 703.3352 - val_mae: 703.3352 - val_mse: 1460912.3750\n",
            "Epoch 76/100\n",
            "70/70 [==============================] - 0s 3ms/step - loss: 109.7138 - mae: 109.7138 - mse: 69878.7422 - val_loss: 594.1261 - val_mae: 594.1261 - val_mse: 1231146.6250\n",
            "Epoch 77/100\n",
            "70/70 [==============================] - 0s 3ms/step - loss: 108.4519 - mae: 108.4519 - mse: 70230.8438 - val_loss: 615.4266 - val_mae: 615.4266 - val_mse: 1268357.1250\n",
            "Epoch 78/100\n",
            "70/70 [==============================] - 0s 3ms/step - loss: 111.4981 - mae: 111.4981 - mse: 74395.0547 - val_loss: 612.0488 - val_mae: 612.0488 - val_mse: 1259481.6250\n",
            "Epoch 79/100\n",
            "70/70 [==============================] - 0s 3ms/step - loss: 130.4987 - mae: 130.4987 - mse: 82365.7734 - val_loss: 566.3771 - val_mae: 566.3771 - val_mse: 1165485.6250\n",
            "Epoch 80/100\n",
            "70/70 [==============================] - 0s 3ms/step - loss: 121.5545 - mae: 121.5545 - mse: 75901.2109 - val_loss: 847.1155 - val_mae: 847.1155 - val_mse: 1899940.8750\n",
            "Epoch 81/100\n",
            "70/70 [==============================] - 0s 3ms/step - loss: 109.0861 - mae: 109.0861 - mse: 69320.9609 - val_loss: 622.4910 - val_mae: 622.4910 - val_mse: 1262008.7500\n",
            "Epoch 82/100\n",
            "70/70 [==============================] - 0s 3ms/step - loss: 111.8378 - mae: 111.8378 - mse: 71563.9531 - val_loss: 569.8787 - val_mae: 569.8787 - val_mse: 1161966.8750\n",
            "Epoch 83/100\n",
            "70/70 [==============================] - 0s 3ms/step - loss: 110.1971 - mae: 110.1971 - mse: 69524.2031 - val_loss: 586.2363 - val_mae: 586.2363 - val_mse: 1209586.3750\n",
            "Epoch 84/100\n",
            "70/70 [==============================] - 0s 3ms/step - loss: 112.2770 - mae: 112.2770 - mse: 69752.0781 - val_loss: 584.3303 - val_mae: 584.3303 - val_mse: 1190171.7500\n",
            "Epoch 85/100\n",
            "70/70 [==============================] - 0s 3ms/step - loss: 109.9658 - mae: 109.9658 - mse: 71141.2656 - val_loss: 566.3373 - val_mae: 566.3373 - val_mse: 1148677.5000\n",
            "Epoch 86/100\n",
            "70/70 [==============================] - 0s 3ms/step - loss: 126.1713 - mae: 126.1713 - mse: 81607.1328 - val_loss: 834.8001 - val_mae: 834.8001 - val_mse: 1858088.8750\n",
            "Epoch 87/100\n",
            "70/70 [==============================] - 0s 3ms/step - loss: 108.6944 - mae: 108.6944 - mse: 68176.7344 - val_loss: 620.7383 - val_mae: 620.7383 - val_mse: 1286919.6250\n",
            "Epoch 88/100\n",
            "70/70 [==============================] - 0s 3ms/step - loss: 116.2599 - mae: 116.2599 - mse: 74592.1719 - val_loss: 584.2257 - val_mae: 584.2257 - val_mse: 1179342.5000\n",
            "Epoch 89/100\n",
            "70/70 [==============================] - 0s 4ms/step - loss: 120.3846 - mae: 120.3846 - mse: 77187.9219 - val_loss: 1045.9965 - val_mae: 1045.9965 - val_mse: 2648914.0000\n",
            "Epoch 90/100\n",
            "70/70 [==============================] - 0s 3ms/step - loss: 114.6090 - mae: 114.6090 - mse: 73061.6875 - val_loss: 609.8439 - val_mae: 609.8439 - val_mse: 1237083.0000\n",
            "Epoch 91/100\n",
            "70/70 [==============================] - 0s 3ms/step - loss: 116.1223 - mae: 116.1223 - mse: 75148.6328 - val_loss: 631.6377 - val_mae: 631.6377 - val_mse: 1282116.3750\n",
            "Epoch 92/100\n",
            "70/70 [==============================] - 0s 3ms/step - loss: 106.8498 - mae: 106.8498 - mse: 69453.2031 - val_loss: 581.7169 - val_mae: 581.7169 - val_mse: 1196491.7500\n",
            "Epoch 93/100\n",
            "70/70 [==============================] - 0s 3ms/step - loss: 106.6084 - mae: 106.6084 - mse: 68671.5000 - val_loss: 585.7205 - val_mae: 585.7205 - val_mse: 1208449.0000\n",
            "Epoch 94/100\n",
            "70/70 [==============================] - 0s 3ms/step - loss: 109.7809 - mae: 109.7809 - mse: 69794.5938 - val_loss: 567.9813 - val_mae: 567.9813 - val_mse: 1163660.5000\n",
            "Epoch 95/100\n",
            "70/70 [==============================] - 0s 4ms/step - loss: 107.7274 - mae: 107.7274 - mse: 69792.1875 - val_loss: 590.0305 - val_mae: 590.0305 - val_mse: 1220082.5000\n",
            "Epoch 96/100\n",
            "70/70 [==============================] - 0s 3ms/step - loss: 122.2626 - mae: 122.2626 - mse: 81702.5938 - val_loss: 578.9896 - val_mae: 578.9896 - val_mse: 1176028.0000\n",
            "Epoch 97/100\n",
            "70/70 [==============================] - 0s 3ms/step - loss: 111.2596 - mae: 111.2596 - mse: 70257.6797 - val_loss: 566.4847 - val_mae: 566.4847 - val_mse: 1156868.5000\n",
            "Epoch 98/100\n",
            "70/70 [==============================] - 0s 3ms/step - loss: 111.8575 - mae: 111.8575 - mse: 70708.0469 - val_loss: 578.5081 - val_mae: 578.5081 - val_mse: 1168153.0000\n",
            "Epoch 99/100\n",
            "70/70 [==============================] - 0s 3ms/step - loss: 112.7705 - mae: 112.7705 - mse: 70768.7734 - val_loss: 610.1963 - val_mae: 610.1963 - val_mse: 1263764.2500\n",
            "Epoch 100/100\n",
            "70/70 [==============================] - 0s 3ms/step - loss: 119.3427 - mae: 119.3427 - mse: 77760.5703 - val_loss: 681.1845 - val_mae: 681.1845 - val_mse: 1396184.2500\n"
          ]
        }
      ]
    },
    {
      "cell_type": "code",
      "source": [
        "model_1.evaluate(test_window,test_label)"
      ],
      "metadata": {
        "colab": {
          "base_uri": "https://localhost:8080/"
        },
        "id": "kDhFi8DVr_q0",
        "outputId": "db53dc9d-60c3-49b7-f4a6-1b0fe20cca19"
      },
      "execution_count": 176,
      "outputs": [
        {
          "output_type": "stream",
          "name": "stdout",
          "text": [
            "18/18 [==============================] - 0s 2ms/step - loss: 681.1845 - mae: 681.1845 - mse: 1396184.2500\n"
          ]
        },
        {
          "output_type": "execute_result",
          "data": {
            "text/plain": [
              "[681.1845092773438, 681.1845092773438, 1396184.25]"
            ]
          },
          "metadata": {},
          "execution_count": 176
        }
      ]
    },
    {
      "cell_type": "code",
      "source": [
        "model_1_load=tf.keras.models.load_model(\"/content/model_experiments/model_1_dense/\")"
      ],
      "metadata": {
        "id": "42I7Ez1Itddy"
      },
      "execution_count": 177,
      "outputs": []
    },
    {
      "cell_type": "code",
      "source": [
        "model_1_load.evaluate(test_window,test_label)"
      ],
      "metadata": {
        "colab": {
          "base_uri": "https://localhost:8080/"
        },
        "id": "iHR7La0Zufkw",
        "outputId": "7ed96b81-4031-4982-e736-e8e5be950d6e"
      },
      "execution_count": 178,
      "outputs": [
        {
          "output_type": "stream",
          "name": "stdout",
          "text": [
            "18/18 [==============================] - 0s 2ms/step - loss: 565.1301 - mae: 565.1301 - mse: 1149653.1250\n"
          ]
        },
        {
          "output_type": "execute_result",
          "data": {
            "text/plain": [
              "[565.1300659179688, 565.1300659179688, 1149653.125]"
            ]
          },
          "metadata": {},
          "execution_count": 178
        }
      ]
    },
    {
      "cell_type": "markdown",
      "source": [
        "# Model 2"
      ],
      "metadata": {
        "id": "kcDKCC0CEN2I"
      }
    },
    {
      "cell_type": "markdown",
      "source": [],
      "metadata": {
        "id": "Qgb_hJ8TENxn"
      }
    },
    {
      "cell_type": "code",
      "source": [
        "window_size=30\n",
        "horizon=1\n",
        "full_window,full_label=make_window(btc_price,window_size=window_size,horizon=horizon)\n",
        "train_window, train_label, test_window, test_label = make_train_test_split(full_window,full_label)"
      ],
      "metadata": {
        "id": "iIHfHjyTuijZ"
      },
      "execution_count": 179,
      "outputs": []
    },
    {
      "cell_type": "code",
      "source": [
        "import tensorflow as tf\n",
        "from tensorflow.keras import layers\n",
        "\n",
        "tf.random.set_seed(42)\n",
        " # construct mnodel\n",
        "model_2= tf.keras.Sequential([\n",
        "     layers.Dense(128,activation=\"relu\"),\n",
        "     layers.Dense(HORIZON,activation='linear')\n",
        "\n",
        " ],name= \"model_2_dense\")\n",
        "\n",
        " #compile\n",
        "model_2.compile(loss=\"mae\",\n",
        "                optimizer=tf.keras.optimizers.Adam(),\n",
        "                metrics=[\"mae\",\"mse\"])\n",
        "\n",
        "model_2_history=model_2.fit(x=train_window,\n",
        "             y=train_label,\n",
        "             epochs=100,\n",
        "             verbose=1,\n",
        "             batch_size=32,\n",
        "             validation_data=(test_window,test_label),\n",
        "             callbacks=([create_model_checkpoint(model_name=model_2.name)])\n",
        "\n",
        " )"
      ],
      "metadata": {
        "id": "ccyI4ytedj5C",
        "colab": {
          "base_uri": "https://localhost:8080/"
        },
        "outputId": "213cd074-8bb4-4821-bf7c-3a5cdb657b10"
      },
      "execution_count": 180,
      "outputs": [
        {
          "output_type": "stream",
          "name": "stdout",
          "text": [
            "Epoch 1/100\n",
            "69/69 [==============================] - 1s 12ms/step - loss: 409.5917 - mae: 409.5917 - mse: 875654.8750 - val_loss: 1533.4227 - val_mae: 1533.4227 - val_mse: 7022184.5000\n",
            "Epoch 2/100\n",
            "69/69 [==============================] - 1s 9ms/step - loss: 193.6397 - mae: 193.6397 - mse: 177299.5781 - val_loss: 1059.4371 - val_mae: 1059.4371 - val_mse: 3791995.2500\n",
            "Epoch 3/100\n",
            "69/69 [==============================] - 1s 9ms/step - loss: 177.2474 - mae: 177.2474 - mse: 149891.6562 - val_loss: 800.7782 - val_mae: 800.7782 - val_mse: 2155538.5000\n",
            "Epoch 4/100\n",
            "69/69 [==============================] - 0s 3ms/step - loss: 160.8710 - mae: 160.8710 - mse: 120517.6719 - val_loss: 1122.0188 - val_mae: 1122.0188 - val_mse: 3737409.7500\n",
            "Epoch 5/100\n",
            "69/69 [==============================] - 1s 10ms/step - loss: 164.6093 - mae: 164.6093 - mse: 129405.0938 - val_loss: 728.8079 - val_mae: 728.8079 - val_mse: 1875972.1250\n",
            "Epoch 6/100\n",
            "69/69 [==============================] - 0s 3ms/step - loss: 163.0981 - mae: 163.0981 - mse: 118068.4609 - val_loss: 753.1464 - val_mae: 753.1464 - val_mse: 1810537.2500\n",
            "Epoch 7/100\n",
            "69/69 [==============================] - 0s 3ms/step - loss: 148.7479 - mae: 148.7479 - mse: 104010.0391 - val_loss: 863.8710 - val_mae: 863.8710 - val_mse: 2117812.0000\n",
            "Epoch 8/100\n",
            "69/69 [==============================] - 0s 3ms/step - loss: 167.1259 - mae: 167.1259 - mse: 132460.9531 - val_loss: 933.2484 - val_mae: 933.2484 - val_mse: 2658772.0000\n",
            "Epoch 9/100\n",
            "69/69 [==============================] - 0s 3ms/step - loss: 145.9090 - mae: 145.9090 - mse: 102454.9219 - val_loss: 1002.1645 - val_mae: 1002.1645 - val_mse: 2620632.5000\n",
            "Epoch 10/100\n",
            "69/69 [==============================] - 0s 3ms/step - loss: 170.4450 - mae: 170.4450 - mse: 124227.3828 - val_loss: 982.4371 - val_mae: 982.4371 - val_mse: 2789748.5000\n",
            "Epoch 11/100\n",
            "69/69 [==============================] - 0s 3ms/step - loss: 163.4961 - mae: 163.4961 - mse: 120510.1172 - val_loss: 1213.6088 - val_mae: 1213.6088 - val_mse: 3462483.5000\n",
            "Epoch 12/100\n",
            "69/69 [==============================] - 1s 10ms/step - loss: 140.0346 - mae: 140.0346 - mse: 96335.3438 - val_loss: 689.4815 - val_mae: 689.4815 - val_mse: 1628683.7500\n",
            "Epoch 13/100\n",
            "69/69 [==============================] - 0s 3ms/step - loss: 138.2050 - mae: 138.2050 - mse: 96262.7344 - val_loss: 783.3350 - val_mae: 783.3350 - val_mse: 1938151.0000\n",
            "Epoch 14/100\n",
            "69/69 [==============================] - 0s 3ms/step - loss: 149.8492 - mae: 149.8492 - mse: 108810.4688 - val_loss: 867.6682 - val_mae: 867.6682 - val_mse: 2106509.7500\n",
            "Epoch 15/100\n",
            "69/69 [==============================] - 1s 13ms/step - loss: 143.5003 - mae: 143.5003 - mse: 93758.8828 - val_loss: 669.9161 - val_mae: 669.9161 - val_mse: 1529786.8750\n",
            "Epoch 16/100\n",
            "69/69 [==============================] - 0s 4ms/step - loss: 156.5155 - mae: 156.5155 - mse: 107540.1484 - val_loss: 1505.8217 - val_mae: 1505.8217 - val_mse: 4954767.0000\n",
            "Epoch 17/100\n",
            "69/69 [==============================] - 0s 4ms/step - loss: 195.2764 - mae: 195.2764 - mse: 158973.7188 - val_loss: 836.1822 - val_mae: 836.1822 - val_mse: 2163464.2500\n",
            "Epoch 18/100\n",
            "69/69 [==============================] - 0s 4ms/step - loss: 141.1651 - mae: 141.1651 - mse: 96003.3516 - val_loss: 1029.4294 - val_mae: 1029.4294 - val_mse: 2711127.7500\n",
            "Epoch 19/100\n",
            "69/69 [==============================] - 1s 15ms/step - loss: 136.9034 - mae: 136.9034 - mse: 97268.5703 - val_loss: 645.6683 - val_mae: 645.6683 - val_mse: 1480303.0000\n",
            "Epoch 20/100\n",
            "69/69 [==============================] - 0s 3ms/step - loss: 147.2884 - mae: 147.2884 - mse: 102154.2422 - val_loss: 721.3627 - val_mae: 721.3627 - val_mse: 1680097.6250\n",
            "Epoch 21/100\n",
            "69/69 [==============================] - 0s 3ms/step - loss: 148.9639 - mae: 148.9639 - mse: 106228.7031 - val_loss: 1389.7698 - val_mae: 1389.7698 - val_mse: 4290746.5000\n",
            "Epoch 22/100\n",
            "69/69 [==============================] - 1s 10ms/step - loss: 185.3971 - mae: 185.3971 - mse: 136084.0781 - val_loss: 638.8854 - val_mae: 638.8854 - val_mse: 1405300.3750\n",
            "Epoch 23/100\n",
            "69/69 [==============================] - 0s 3ms/step - loss: 161.7069 - mae: 161.7069 - mse: 116153.4453 - val_loss: 702.1357 - val_mae: 702.1357 - val_mse: 1566686.5000\n",
            "Epoch 24/100\n",
            "69/69 [==============================] - 1s 10ms/step - loss: 138.8710 - mae: 138.8710 - mse: 92250.6172 - val_loss: 627.6746 - val_mae: 627.6746 - val_mse: 1389625.5000\n",
            "Epoch 25/100\n",
            "69/69 [==============================] - 0s 3ms/step - loss: 143.2771 - mae: 143.2771 - mse: 94808.8516 - val_loss: 633.1740 - val_mae: 633.1740 - val_mse: 1415068.8750\n",
            "Epoch 26/100\n",
            "69/69 [==============================] - 0s 3ms/step - loss: 153.8034 - mae: 153.8034 - mse: 108323.1094 - val_loss: 688.9213 - val_mae: 688.9213 - val_mse: 1521542.7500\n",
            "Epoch 27/100\n",
            "69/69 [==============================] - 0s 3ms/step - loss: 137.6156 - mae: 137.6156 - mse: 88250.6875 - val_loss: 710.5031 - val_mae: 710.5031 - val_mse: 1615117.1250\n",
            "Epoch 28/100\n",
            "69/69 [==============================] - 0s 3ms/step - loss: 148.3746 - mae: 148.3746 - mse: 105665.6406 - val_loss: 1085.4758 - val_mae: 1085.4758 - val_mse: 3092032.0000\n",
            "Epoch 29/100\n",
            "69/69 [==============================] - 1s 10ms/step - loss: 138.9668 - mae: 138.9668 - mse: 90674.9609 - val_loss: 625.4820 - val_mae: 625.4820 - val_mse: 1362288.2500\n",
            "Epoch 30/100\n",
            "69/69 [==============================] - 0s 3ms/step - loss: 147.7934 - mae: 147.7934 - mse: 98800.8828 - val_loss: 694.3670 - val_mae: 694.3670 - val_mse: 1508831.5000\n",
            "Epoch 31/100\n",
            "69/69 [==============================] - 0s 3ms/step - loss: 131.6389 - mae: 131.6389 - mse: 88657.2188 - val_loss: 858.9919 - val_mae: 858.9919 - val_mse: 2026359.2500\n",
            "Epoch 32/100\n",
            "69/69 [==============================] - 0s 3ms/step - loss: 132.0421 - mae: 132.0421 - mse: 87866.7031 - val_loss: 628.9121 - val_mae: 628.9121 - val_mse: 1362690.6250\n",
            "Epoch 33/100\n",
            "69/69 [==============================] - 1s 10ms/step - loss: 120.1025 - mae: 120.1025 - mse: 79738.5234 - val_loss: 607.7546 - val_mae: 607.7546 - val_mse: 1277297.5000\n",
            "Epoch 34/100\n",
            "69/69 [==============================] - 0s 3ms/step - loss: 130.3837 - mae: 130.3837 - mse: 87173.3828 - val_loss: 644.1967 - val_mae: 644.1967 - val_mse: 1372601.7500\n",
            "Epoch 35/100\n",
            "69/69 [==============================] - 0s 3ms/step - loss: 127.5684 - mae: 127.5684 - mse: 81515.9844 - val_loss: 610.8539 - val_mae: 610.8539 - val_mse: 1271911.8750\n",
            "Epoch 36/100\n",
            "69/69 [==============================] - 0s 3ms/step - loss: 123.9964 - mae: 123.9964 - mse: 81961.1719 - val_loss: 626.5844 - val_mae: 626.5844 - val_mse: 1314232.3750\n",
            "Epoch 37/100\n",
            "69/69 [==============================] - 0s 3ms/step - loss: 154.1181 - mae: 154.1181 - mse: 107580.2812 - val_loss: 740.5190 - val_mae: 740.5190 - val_mse: 1589366.3750\n",
            "Epoch 38/100\n",
            "69/69 [==============================] - 0s 3ms/step - loss: 140.6638 - mae: 140.6638 - mse: 93085.7422 - val_loss: 1160.9645 - val_mae: 1160.9645 - val_mse: 3185262.5000\n",
            "Epoch 39/100\n",
            "69/69 [==============================] - 0s 3ms/step - loss: 154.5022 - mae: 154.5022 - mse: 106250.3516 - val_loss: 631.0796 - val_mae: 631.0796 - val_mse: 1321343.7500\n",
            "Epoch 40/100\n",
            "69/69 [==============================] - 0s 3ms/step - loss: 134.8391 - mae: 134.8391 - mse: 90460.9297 - val_loss: 733.2050 - val_mae: 733.2050 - val_mse: 1590576.7500\n",
            "Epoch 41/100\n",
            "69/69 [==============================] - 0s 3ms/step - loss: 129.0409 - mae: 129.0409 - mse: 85887.0547 - val_loss: 905.8761 - val_mae: 905.8761 - val_mse: 2156206.7500\n",
            "Epoch 42/100\n",
            "69/69 [==============================] - 0s 3ms/step - loss: 132.3415 - mae: 132.3415 - mse: 87652.3203 - val_loss: 621.3876 - val_mae: 621.3876 - val_mse: 1318412.2500\n",
            "Epoch 43/100\n",
            "69/69 [==============================] - 0s 3ms/step - loss: 156.9134 - mae: 156.9134 - mse: 107147.4141 - val_loss: 682.3915 - val_mae: 682.3915 - val_mse: 1472369.3750\n",
            "Epoch 44/100\n",
            "69/69 [==============================] - 0s 3ms/step - loss: 138.4357 - mae: 138.4357 - mse: 92020.6250 - val_loss: 1142.5450 - val_mae: 1142.5450 - val_mse: 3320922.0000\n",
            "Epoch 45/100\n",
            "69/69 [==============================] - 0s 3ms/step - loss: 143.9370 - mae: 143.9370 - mse: 100039.0703 - val_loss: 1535.8383 - val_mae: 1535.8383 - val_mse: 5381841.0000\n",
            "Epoch 46/100\n",
            "69/69 [==============================] - 1s 10ms/step - loss: 145.9443 - mae: 145.9443 - mse: 96849.4766 - val_loss: 601.0967 - val_mae: 601.0967 - val_mse: 1251744.7500\n",
            "Epoch 47/100\n",
            "69/69 [==============================] - 0s 3ms/step - loss: 128.5860 - mae: 128.5860 - mse: 85537.0703 - val_loss: 608.1232 - val_mae: 608.1232 - val_mse: 1307170.1250\n",
            "Epoch 48/100\n",
            "69/69 [==============================] - 0s 3ms/step - loss: 160.6493 - mae: 160.6493 - mse: 120595.8984 - val_loss: 932.3831 - val_mae: 932.3831 - val_mse: 2240149.5000\n",
            "Epoch 49/100\n",
            "69/69 [==============================] - 0s 3ms/step - loss: 140.9540 - mae: 140.9540 - mse: 92385.2031 - val_loss: 849.3160 - val_mae: 849.3160 - val_mse: 2051933.0000\n",
            "Epoch 50/100\n",
            "69/69 [==============================] - 0s 3ms/step - loss: 141.9162 - mae: 141.9162 - mse: 97975.7109 - val_loss: 707.5015 - val_mae: 707.5015 - val_mse: 1582589.5000\n",
            "Epoch 51/100\n",
            "69/69 [==============================] - 0s 3ms/step - loss: 153.2250 - mae: 153.2250 - mse: 103261.3047 - val_loss: 723.7860 - val_mae: 723.7860 - val_mse: 1605177.5000\n",
            "Epoch 52/100\n",
            "69/69 [==============================] - 0s 3ms/step - loss: 129.4986 - mae: 129.4986 - mse: 80876.1484 - val_loss: 636.8506 - val_mae: 636.8506 - val_mse: 1333028.2500\n",
            "Epoch 53/100\n",
            "69/69 [==============================] - 0s 3ms/step - loss: 143.6213 - mae: 143.6213 - mse: 93911.6016 - val_loss: 854.3192 - val_mae: 854.3192 - val_mse: 2055923.5000\n",
            "Epoch 54/100\n",
            "69/69 [==============================] - 0s 3ms/step - loss: 158.1950 - mae: 158.1950 - mse: 107135.8594 - val_loss: 972.6515 - val_mae: 972.6515 - val_mse: 2554192.7500\n",
            "Epoch 55/100\n",
            "69/69 [==============================] - 0s 3ms/step - loss: 121.3983 - mae: 121.3983 - mse: 77019.4219 - val_loss: 607.7487 - val_mae: 607.7487 - val_mse: 1266686.0000\n",
            "Epoch 56/100\n",
            "69/69 [==============================] - 0s 4ms/step - loss: 142.2718 - mae: 142.2718 - mse: 97081.6250 - val_loss: 629.3166 - val_mae: 629.3166 - val_mse: 1297262.5000\n",
            "Epoch 57/100\n",
            "69/69 [==============================] - 0s 4ms/step - loss: 138.5708 - mae: 138.5708 - mse: 89625.3047 - val_loss: 1075.8295 - val_mae: 1075.8295 - val_mse: 2805034.0000\n",
            "Epoch 58/100\n",
            "69/69 [==============================] - 0s 4ms/step - loss: 140.3651 - mae: 140.3651 - mse: 92857.0078 - val_loss: 673.8188 - val_mae: 673.8188 - val_mse: 1484604.0000\n",
            "Epoch 59/100\n",
            "69/69 [==============================] - 0s 5ms/step - loss: 116.8505 - mae: 116.8505 - mse: 74383.9531 - val_loss: 770.1156 - val_mae: 770.1156 - val_mse: 1698454.2500\n",
            "Epoch 60/100\n",
            "69/69 [==============================] - 0s 4ms/step - loss: 121.6517 - mae: 121.6517 - mse: 76837.0234 - val_loss: 769.6945 - val_mae: 769.6945 - val_mse: 1749782.6250\n",
            "Epoch 61/100\n",
            "69/69 [==============================] - 0s 5ms/step - loss: 141.1404 - mae: 141.1404 - mse: 95048.4062 - val_loss: 747.7316 - val_mae: 747.7316 - val_mse: 1721508.3750\n",
            "Epoch 62/100\n",
            "69/69 [==============================] - 0s 4ms/step - loss: 134.8030 - mae: 134.8030 - mse: 83066.3828 - val_loss: 699.0249 - val_mae: 699.0249 - val_mse: 1476152.8750\n",
            "Epoch 63/100\n",
            "69/69 [==============================] - 2s 22ms/step - loss: 126.8005 - mae: 126.8005 - mse: 78985.7734 - val_loss: 594.1935 - val_mae: 594.1935 - val_mse: 1231128.3750\n",
            "Epoch 64/100\n",
            "69/69 [==============================] - 0s 3ms/step - loss: 128.7682 - mae: 128.7682 - mse: 82469.5312 - val_loss: 1135.5526 - val_mae: 1135.5526 - val_mse: 3274055.7500\n",
            "Epoch 65/100\n",
            "69/69 [==============================] - 0s 3ms/step - loss: 137.2968 - mae: 137.2968 - mse: 90206.2500 - val_loss: 731.5289 - val_mae: 731.5289 - val_mse: 1620537.7500\n",
            "Epoch 66/100\n",
            "69/69 [==============================] - 0s 3ms/step - loss: 120.6915 - mae: 120.6915 - mse: 72987.1250 - val_loss: 705.3184 - val_mae: 705.3184 - val_mse: 1491981.6250\n",
            "Epoch 67/100\n",
            "69/69 [==============================] - 0s 3ms/step - loss: 121.3493 - mae: 121.3493 - mse: 79520.3594 - val_loss: 627.7012 - val_mae: 627.7012 - val_mse: 1277991.8750\n",
            "Epoch 68/100\n",
            "69/69 [==============================] - 0s 3ms/step - loss: 125.7507 - mae: 125.7507 - mse: 82970.2891 - val_loss: 716.5322 - val_mae: 716.5322 - val_mse: 1541536.3750\n",
            "Epoch 69/100\n",
            "69/69 [==============================] - 0s 3ms/step - loss: 136.0517 - mae: 136.0517 - mse: 86214.0469 - val_loss: 607.5372 - val_mae: 607.5372 - val_mse: 1238627.0000\n",
            "Epoch 70/100\n",
            "69/69 [==============================] - 0s 3ms/step - loss: 124.0184 - mae: 124.0184 - mse: 79801.6484 - val_loss: 601.5253 - val_mae: 601.5253 - val_mse: 1248777.0000\n",
            "Epoch 71/100\n",
            "69/69 [==============================] - 0s 3ms/step - loss: 123.9265 - mae: 123.9265 - mse: 78268.4844 - val_loss: 713.0050 - val_mae: 713.0050 - val_mse: 1572529.0000\n",
            "Epoch 72/100\n",
            "69/69 [==============================] - 0s 4ms/step - loss: 122.8417 - mae: 122.8417 - mse: 76236.3672 - val_loss: 625.5575 - val_mae: 625.5575 - val_mse: 1313455.6250\n",
            "Epoch 73/100\n",
            "69/69 [==============================] - 0s 3ms/step - loss: 131.3981 - mae: 131.3981 - mse: 87245.7578 - val_loss: 1317.9816 - val_mae: 1317.9816 - val_mse: 3827426.0000\n",
            "Epoch 74/100\n",
            "69/69 [==============================] - 0s 3ms/step - loss: 135.8347 - mae: 135.8347 - mse: 89984.7578 - val_loss: 791.1507 - val_mae: 791.1507 - val_mse: 1801545.2500\n",
            "Epoch 75/100\n",
            "69/69 [==============================] - 0s 3ms/step - loss: 122.4660 - mae: 122.4660 - mse: 78007.7656 - val_loss: 1006.4218 - val_mae: 1006.4218 - val_mse: 2487833.0000\n",
            "Epoch 76/100\n",
            "69/69 [==============================] - 0s 3ms/step - loss: 128.8259 - mae: 128.8259 - mse: 85842.2188 - val_loss: 661.6826 - val_mae: 661.6826 - val_mse: 1398682.5000\n",
            "Epoch 77/100\n",
            "69/69 [==============================] - 0s 3ms/step - loss: 166.2718 - mae: 166.2718 - mse: 121926.9062 - val_loss: 749.2475 - val_mae: 749.2475 - val_mse: 1610331.0000\n",
            "Epoch 78/100\n",
            "69/69 [==============================] - 0s 3ms/step - loss: 119.8192 - mae: 119.8192 - mse: 77117.2969 - val_loss: 627.8029 - val_mae: 627.8029 - val_mse: 1303681.5000\n",
            "Epoch 79/100\n",
            "69/69 [==============================] - 1s 10ms/step - loss: 123.0668 - mae: 123.0668 - mse: 79839.4375 - val_loss: 590.4777 - val_mae: 590.4777 - val_mse: 1206395.1250\n",
            "Epoch 80/100\n",
            "69/69 [==============================] - 1s 9ms/step - loss: 127.6871 - mae: 127.6871 - mse: 81551.9766 - val_loss: 587.9276 - val_mae: 587.9276 - val_mse: 1196333.6250\n",
            "Epoch 81/100\n",
            "69/69 [==============================] - 0s 3ms/step - loss: 128.2513 - mae: 128.2513 - mse: 85940.5781 - val_loss: 1062.4176 - val_mae: 1062.4176 - val_mse: 2693774.2500\n",
            "Epoch 82/100\n",
            "69/69 [==============================] - 0s 3ms/step - loss: 169.4501 - mae: 169.4501 - mse: 119287.9531 - val_loss: 890.5204 - val_mae: 890.5204 - val_mse: 2243691.2500\n",
            "Epoch 83/100\n",
            "69/69 [==============================] - 0s 3ms/step - loss: 133.4661 - mae: 133.4661 - mse: 87504.0703 - val_loss: 646.6870 - val_mae: 646.6870 - val_mse: 1314763.8750\n",
            "Epoch 84/100\n",
            "69/69 [==============================] - 0s 3ms/step - loss: 139.4250 - mae: 139.4250 - mse: 89826.4766 - val_loss: 732.8408 - val_mae: 732.8408 - val_mse: 1551027.7500\n",
            "Epoch 85/100\n",
            "69/69 [==============================] - 0s 3ms/step - loss: 128.4968 - mae: 128.4968 - mse: 82066.2656 - val_loss: 590.9567 - val_mae: 590.9567 - val_mse: 1218070.1250\n",
            "Epoch 86/100\n",
            "69/69 [==============================] - 0s 3ms/step - loss: 118.5343 - mae: 118.5343 - mse: 76570.2891 - val_loss: 786.9344 - val_mae: 786.9344 - val_mse: 1750372.5000\n",
            "Epoch 87/100\n",
            "69/69 [==============================] - 0s 3ms/step - loss: 123.3508 - mae: 123.3508 - mse: 82087.7500 - val_loss: 613.9667 - val_mae: 613.9667 - val_mse: 1273739.6250\n",
            "Epoch 88/100\n",
            "69/69 [==============================] - 0s 3ms/step - loss: 123.0893 - mae: 123.0893 - mse: 79374.8984 - val_loss: 1251.8284 - val_mae: 1251.8284 - val_mse: 3529196.5000\n",
            "Epoch 89/100\n",
            "69/69 [==============================] - 0s 3ms/step - loss: 132.1591 - mae: 132.1591 - mse: 84819.8203 - val_loss: 898.6357 - val_mae: 898.6357 - val_mse: 2079129.0000\n",
            "Epoch 90/100\n",
            "69/69 [==============================] - 0s 3ms/step - loss: 123.1860 - mae: 123.1860 - mse: 81382.3125 - val_loss: 848.8666 - val_mae: 848.8666 - val_mse: 1920682.2500\n",
            "Epoch 91/100\n",
            "69/69 [==============================] - 0s 3ms/step - loss: 145.2227 - mae: 145.2227 - mse: 97966.3438 - val_loss: 793.1575 - val_mae: 793.1575 - val_mse: 1853669.3750\n",
            "Epoch 92/100\n",
            "69/69 [==============================] - 0s 3ms/step - loss: 121.6164 - mae: 121.6164 - mse: 77119.4844 - val_loss: 859.6257 - val_mae: 859.6257 - val_mse: 1969129.2500\n",
            "Epoch 93/100\n",
            "69/69 [==============================] - 0s 3ms/step - loss: 113.4544 - mae: 113.4544 - mse: 71395.0156 - val_loss: 602.0963 - val_mae: 602.0963 - val_mse: 1208186.8750\n",
            "Epoch 94/100\n",
            "69/69 [==============================] - 0s 3ms/step - loss: 119.9168 - mae: 119.9168 - mse: 77018.6562 - val_loss: 745.2408 - val_mae: 745.2408 - val_mse: 1586451.8750\n",
            "Epoch 95/100\n",
            "69/69 [==============================] - 0s 3ms/step - loss: 125.6389 - mae: 125.6389 - mse: 78708.8594 - val_loss: 857.9442 - val_mae: 857.9442 - val_mse: 2048291.7500\n",
            "Epoch 96/100\n",
            "69/69 [==============================] - 0s 3ms/step - loss: 115.3252 - mae: 115.3252 - mse: 71997.5000 - val_loss: 738.9465 - val_mae: 738.9465 - val_mse: 1621029.3750\n",
            "Epoch 97/100\n",
            "69/69 [==============================] - 0s 3ms/step - loss: 141.3214 - mae: 141.3214 - mse: 91547.9141 - val_loss: 675.0434 - val_mae: 675.0434 - val_mse: 1382543.8750\n",
            "Epoch 98/100\n",
            "69/69 [==============================] - 1s 12ms/step - loss: 131.4429 - mae: 131.4429 - mse: 81788.9141 - val_loss: 580.8843 - val_mae: 580.8843 - val_mse: 1177362.5000\n",
            "Epoch 99/100\n",
            "69/69 [==============================] - 0s 4ms/step - loss: 137.3967 - mae: 137.3967 - mse: 87774.6016 - val_loss: 749.6340 - val_mae: 749.6340 - val_mse: 1680186.3750\n",
            "Epoch 100/100\n",
            "69/69 [==============================] - 0s 5ms/step - loss: 136.6944 - mae: 136.6944 - mse: 91300.7109 - val_loss: 609.4890 - val_mae: 609.4890 - val_mse: 1218108.5000\n"
          ]
        }
      ]
    },
    {
      "cell_type": "code",
      "source": [
        "plt.plot(model_2_history.history[\"mae\"],label=f\"{model_2.name} mae\")\n",
        "plt.plot(model_1_history.history[\"mae\"],label=f\"{model_1.name} mae\")\n",
        "plt.legend()\n",
        "plt.show()"
      ],
      "metadata": {
        "id": "5rEor5bMeDUT",
        "colab": {
          "base_uri": "https://localhost:8080/",
          "height": 430
        },
        "outputId": "1b0abf38-dd5a-4212-9f6c-1f5374a65f08"
      },
      "execution_count": 181,
      "outputs": [
        {
          "output_type": "display_data",
          "data": {
            "text/plain": [
              "<Figure size 640x480 with 1 Axes>"
            ],
            "image/png": "[encoded data removed]"
          },
          "metadata": {}
        }
      ]
    },
    {
      "cell_type": "markdown",
      "source": [
        "# Model 3"
      ],
      "metadata": {
        "id": "UR3GovmLEDZJ"
      }
    },
    {
      "cell_type": "code",
      "source": [
        "window_size=30\n",
        "horizon=7\n",
        "full_window,full_label=make_window(btc_price,window_size=window_size,horizon=horizon)\n",
        "train_window, train_label, test_window, test_label = make_train_test_split(full_window,full_label)\n",
        "\n",
        "\n",
        "tf.random.set_seed(42)\n",
        " # construct mnodel\n",
        "model_3= tf.keras.Sequential([\n",
        "     layers.Dense(128,activation=\"relu\"),\n",
        "     layers.Dense(HORIZON,activation='linear')\n",
        "\n",
        " ],name= \"model_3_dense\")\n",
        "\n",
        " #compile\n",
        "model_3.compile(loss=\"mae\",\n",
        "                optimizer=tf.keras.optimizers.Adam(),\n",
        "                metrics=[\"mae\",\"mse\"])\n",
        "\n",
        "model_3_history=model_3.fit(x=train_window,\n",
        "             y=train_label,\n",
        "             epochs=100,\n",
        "             verbose=1,\n",
        "             batch_size=32,\n",
        "             validation_data=(test_window,test_label),\n",
        "             callbacks=([create_model_checkpoint(model_name=model_3.name)])\n",
        "\n",
        " )"
      ],
      "metadata": {
        "id": "sU5cuVwmzIrj",
        "colab": {
          "base_uri": "https://localhost:8080/"
        },
        "outputId": "f85f9b39-2ead-4a34-d149-66d75631ba53"
      },
      "execution_count": 182,
      "outputs": [
        {
          "output_type": "stream",
          "name": "stdout",
          "text": [
            "Epoch 1/100\n",
            "69/69 [==============================] - 1s 13ms/step - loss: 403.4671 - mae: 403.4671 - mse: 706298.1250 - val_loss: 1478.8870 - val_mae: 1478.8870 - val_mse: 6904192.5000\n",
            "Epoch 2/100\n",
            "69/69 [==============================] - 1s 14ms/step - loss: 273.1322 - mae: 273.1322 - mse: 354897.9688 - val_loss: 1349.1396 - val_mae: 1349.1396 - val_mse: 6168181.5000\n",
            "Epoch 3/100\n",
            "69/69 [==============================] - 1s 15ms/step - loss: 270.3030 - mae: 270.3030 - mse: 348408.8125 - val_loss: 1335.4001 - val_mae: 1335.4001 - val_mse: 5919760.5000\n",
            "Epoch 4/100\n",
            "69/69 [==============================] - 1s 12ms/step - loss: 262.2414 - mae: 262.2414 - mse: 326177.8750 - val_loss: 1306.2413 - val_mae: 1306.2413 - val_mse: 5813260.0000\n",
            "Epoch 5/100\n",
            "69/69 [==============================] - 0s 3ms/step - loss: 241.6814 - mae: 241.6814 - mse: 296656.4062 - val_loss: 1335.4017 - val_mae: 1335.4017 - val_mse: 5910150.0000\n",
            "Epoch 6/100\n",
            "69/69 [==============================] - 1s 10ms/step - loss: 250.9499 - mae: 250.9499 - mse: 312289.8750 - val_loss: 1277.0170 - val_mae: 1277.0170 - val_mse: 5578731.0000\n",
            "Epoch 7/100\n",
            "69/69 [==============================] - 0s 3ms/step - loss: 269.5464 - mae: 269.5464 - mse: 332540.0000 - val_loss: 1280.7068 - val_mae: 1280.7068 - val_mse: 5545990.0000\n",
            "Epoch 8/100\n",
            "69/69 [==============================] - 1s 9ms/step - loss: 233.5684 - mae: 233.5684 - mse: 286498.9375 - val_loss: 1269.0582 - val_mae: 1269.0582 - val_mse: 5569831.0000\n",
            "Epoch 9/100\n",
            "69/69 [==============================] - 0s 3ms/step - loss: 244.0302 - mae: 244.0302 - mse: 296342.2500 - val_loss: 1304.7784 - val_mae: 1304.7784 - val_mse: 5786075.5000\n",
            "Epoch 10/100\n",
            "69/69 [==============================] - 0s 3ms/step - loss: 239.4457 - mae: 239.4457 - mse: 295150.2812 - val_loss: 1291.6552 - val_mae: 1291.6552 - val_mse: 5689266.5000\n",
            "Epoch 11/100\n",
            "69/69 [==============================] - 0s 3ms/step - loss: 240.9717 - mae: 240.9717 - mse: 288710.5000 - val_loss: 1395.1157 - val_mae: 1395.1157 - val_mse: 6071183.0000\n",
            "Epoch 12/100\n",
            "69/69 [==============================] - 0s 3ms/step - loss: 242.4571 - mae: 242.4571 - mse: 288471.8438 - val_loss: 1345.7909 - val_mae: 1345.7909 - val_mse: 6002885.0000\n",
            "Epoch 13/100\n",
            "69/69 [==============================] - 0s 3ms/step - loss: 279.4506 - mae: 279.4506 - mse: 349587.6250 - val_loss: 1614.1990 - val_mae: 1614.1990 - val_mse: 7273813.0000\n",
            "Epoch 14/100\n",
            "69/69 [==============================] - 0s 4ms/step - loss: 242.6574 - mae: 242.6574 - mse: 282049.9062 - val_loss: 1474.7477 - val_mae: 1474.7477 - val_mse: 7002708.0000\n",
            "Epoch 15/100\n",
            "69/69 [==============================] - 1s 9ms/step - loss: 242.7603 - mae: 242.7603 - mse: 290737.5000 - val_loss: 1266.4282 - val_mae: 1266.4282 - val_mse: 5441048.0000\n",
            "Epoch 16/100\n",
            "69/69 [==============================] - 0s 3ms/step - loss: 265.0700 - mae: 265.0700 - mse: 324158.8750 - val_loss: 1385.7844 - val_mae: 1385.7844 - val_mse: 6331166.0000\n",
            "Epoch 17/100\n",
            "69/69 [==============================] - 1s 8ms/step - loss: 263.7842 - mae: 263.7842 - mse: 320403.0625 - val_loss: 1281.2977 - val_mae: 1281.2977 - val_mse: 5511864.0000\n",
            "Epoch 18/100\n",
            "69/69 [==============================] - 0s 6ms/step - loss: 233.4996 - mae: 233.4996 - mse: 273422.5312 - val_loss: 1275.5175 - val_mae: 1275.5175 - val_mse: 5658963.5000\n",
            "Epoch 19/100\n",
            "69/69 [==============================] - 0s 3ms/step - loss: 248.2476 - mae: 248.2476 - mse: 304357.0312 - val_loss: 1271.9030 - val_mae: 1271.9030 - val_mse: 5393435.5000\n",
            "Epoch 20/100\n",
            "69/69 [==============================] - 0s 3ms/step - loss: 232.8920 - mae: 232.8920 - mse: 283187.7188 - val_loss: 1291.5001 - val_mae: 1291.5001 - val_mse: 5528271.5000\n",
            "Epoch 21/100\n",
            "69/69 [==============================] - 1s 10ms/step - loss: 231.3883 - mae: 231.3883 - mse: 284256.5938 - val_loss: 1222.8562 - val_mae: 1222.8562 - val_mse: 5130463.0000\n",
            "Epoch 22/100\n",
            "69/69 [==============================] - 0s 3ms/step - loss: 257.8176 - mae: 257.8176 - mse: 315000.9688 - val_loss: 1615.2812 - val_mae: 1615.2812 - val_mse: 7236677.0000\n",
            "Epoch 23/100\n",
            "69/69 [==============================] - 1s 10ms/step - loss: 266.3123 - mae: 266.3123 - mse: 329143.8438 - val_loss: 1210.0292 - val_mae: 1210.0292 - val_mse: 5094198.5000\n",
            "Epoch 24/100\n",
            "69/69 [==============================] - 0s 3ms/step - loss: 243.0461 - mae: 243.0461 - mse: 290202.4062 - val_loss: 1226.8755 - val_mae: 1226.8755 - val_mse: 5219787.0000\n",
            "Epoch 25/100\n",
            "69/69 [==============================] - 0s 3ms/step - loss: 246.7225 - mae: 246.7225 - mse: 297561.7812 - val_loss: 1359.9504 - val_mae: 1359.9504 - val_mse: 5838093.5000\n",
            "Epoch 26/100\n",
            "69/69 [==============================] - 0s 3ms/step - loss: 245.3641 - mae: 245.3641 - mse: 297348.1875 - val_loss: 1252.1719 - val_mae: 1252.1719 - val_mse: 5434034.5000\n",
            "Epoch 27/100\n",
            "69/69 [==============================] - 0s 3ms/step - loss: 249.7255 - mae: 249.7255 - mse: 293268.3750 - val_loss: 1283.8514 - val_mae: 1283.8514 - val_mse: 5715580.5000\n",
            "Epoch 28/100\n",
            "69/69 [==============================] - 0s 3ms/step - loss: 228.8712 - mae: 228.8712 - mse: 270310.5625 - val_loss: 1433.2029 - val_mae: 1433.2029 - val_mse: 6165774.0000\n",
            "Epoch 29/100\n",
            "69/69 [==============================] - 0s 3ms/step - loss: 228.6123 - mae: 228.6123 - mse: 267743.6250 - val_loss: 1353.0468 - val_mae: 1353.0468 - val_mse: 5768670.0000\n",
            "Epoch 30/100\n",
            "69/69 [==============================] - 1s 10ms/step - loss: 244.2261 - mae: 244.2261 - mse: 292573.7812 - val_loss: 1195.6121 - val_mae: 1195.6121 - val_mse: 4964886.0000\n",
            "Epoch 31/100\n",
            "69/69 [==============================] - 0s 3ms/step - loss: 242.7904 - mae: 242.7904 - mse: 290221.7188 - val_loss: 1230.8875 - val_mae: 1230.8875 - val_mse: 5207464.0000\n",
            "Epoch 32/100\n",
            "69/69 [==============================] - 0s 3ms/step - loss: 226.7166 - mae: 226.7166 - mse: 271866.6250 - val_loss: 1305.0173 - val_mae: 1305.0173 - val_mse: 5525860.0000\n",
            "Epoch 33/100\n",
            "69/69 [==============================] - 0s 4ms/step - loss: 229.9958 - mae: 229.9958 - mse: 270235.2812 - val_loss: 1405.7178 - val_mae: 1405.7178 - val_mse: 6351383.0000\n",
            "Epoch 34/100\n",
            "69/69 [==============================] - 0s 4ms/step - loss: 242.0101 - mae: 242.0101 - mse: 297568.0312 - val_loss: 1904.1014 - val_mae: 1904.1014 - val_mse: 9121325.0000\n",
            "Epoch 35/100\n",
            "69/69 [==============================] - 0s 5ms/step - loss: 235.1677 - mae: 235.1677 - mse: 285855.0938 - val_loss: 1222.7509 - val_mae: 1222.7509 - val_mse: 5185747.5000\n",
            "Epoch 36/100\n",
            "69/69 [==============================] - 0s 4ms/step - loss: 232.4003 - mae: 232.4003 - mse: 276288.2500 - val_loss: 1205.7788 - val_mae: 1205.7788 - val_mse: 5078308.5000\n",
            "Epoch 37/100\n",
            "69/69 [==============================] - 0s 4ms/step - loss: 230.8075 - mae: 230.8075 - mse: 271838.6875 - val_loss: 1292.1266 - val_mae: 1292.1265 - val_mse: 5456156.0000\n",
            "Epoch 38/100\n",
            "69/69 [==============================] - 0s 5ms/step - loss: 220.4165 - mae: 220.4165 - mse: 258080.2969 - val_loss: 1203.4503 - val_mae: 1203.4503 - val_mse: 5091467.0000\n",
            "Epoch 39/100\n",
            "69/69 [==============================] - 0s 5ms/step - loss: 247.8124 - mae: 247.8124 - mse: 306542.5312 - val_loss: 1563.0806 - val_mae: 1563.0806 - val_mse: 6772103.0000\n",
            "Epoch 40/100\n",
            "69/69 [==============================] - 0s 5ms/step - loss: 233.7941 - mae: 233.7941 - mse: 276045.9688 - val_loss: 1222.5488 - val_mae: 1222.5488 - val_mse: 5229607.5000\n",
            "Epoch 41/100\n",
            "69/69 [==============================] - 0s 3ms/step - loss: 234.5357 - mae: 234.5357 - mse: 280382.6250 - val_loss: 1226.6123 - val_mae: 1226.6123 - val_mse: 5110426.5000\n",
            "Epoch 42/100\n",
            "69/69 [==============================] - 0s 3ms/step - loss: 227.4284 - mae: 227.4284 - mse: 261493.2344 - val_loss: 1631.1047 - val_mae: 1631.1047 - val_mse: 7241022.5000\n",
            "Epoch 43/100\n",
            "69/69 [==============================] - 0s 3ms/step - loss: 230.5291 - mae: 230.5291 - mse: 272448.9688 - val_loss: 1264.8894 - val_mae: 1264.8894 - val_mse: 5297179.0000\n",
            "Epoch 44/100\n",
            "69/69 [==============================] - 0s 3ms/step - loss: 231.2737 - mae: 231.2737 - mse: 264406.5000 - val_loss: 1333.1431 - val_mae: 1333.1431 - val_mse: 6013194.0000\n",
            "Epoch 45/100\n",
            "69/69 [==============================] - 1s 10ms/step - loss: 223.4404 - mae: 223.4404 - mse: 260251.5156 - val_loss: 1193.4421 - val_mae: 1193.4421 - val_mse: 4950225.5000\n",
            "Epoch 46/100\n",
            "69/69 [==============================] - 0s 3ms/step - loss: 225.6552 - mae: 225.6552 - mse: 260757.5312 - val_loss: 1247.8931 - val_mae: 1247.8931 - val_mse: 5333263.5000\n",
            "Epoch 47/100\n",
            "69/69 [==============================] - 0s 3ms/step - loss: 235.0428 - mae: 235.0428 - mse: 278547.3438 - val_loss: 1193.7671 - val_mae: 1193.7671 - val_mse: 4978007.5000\n",
            "Epoch 48/100\n",
            "69/69 [==============================] - 0s 3ms/step - loss: 233.0131 - mae: 233.0131 - mse: 278485.4375 - val_loss: 1314.2186 - val_mae: 1314.2186 - val_mse: 5836449.0000\n",
            "Epoch 49/100\n",
            "69/69 [==============================] - 0s 3ms/step - loss: 240.4608 - mae: 240.4608 - mse: 285462.4375 - val_loss: 1466.6752 - val_mae: 1466.6752 - val_mse: 6327679.0000\n",
            "Epoch 50/100\n",
            "69/69 [==============================] - 0s 3ms/step - loss: 253.7043 - mae: 253.7043 - mse: 313759.9375 - val_loss: 1650.4852 - val_mae: 1650.4852 - val_mse: 7938905.5000\n",
            "Epoch 51/100\n",
            "69/69 [==============================] - 0s 3ms/step - loss: 228.4811 - mae: 228.4811 - mse: 267219.7188 - val_loss: 1407.0861 - val_mae: 1407.0861 - val_mse: 6041748.5000\n",
            "Epoch 52/100\n",
            "69/69 [==============================] - 0s 3ms/step - loss: 259.3869 - mae: 259.3869 - mse: 309300.9062 - val_loss: 1239.2452 - val_mae: 1239.2452 - val_mse: 5234255.0000\n",
            "Epoch 53/100\n",
            "69/69 [==============================] - 0s 3ms/step - loss: 231.9414 - mae: 231.9414 - mse: 273568.2812 - val_loss: 1229.9347 - val_mae: 1229.9347 - val_mse: 5354797.0000\n",
            "Epoch 54/100\n",
            "69/69 [==============================] - 0s 3ms/step - loss: 226.8198 - mae: 226.8198 - mse: 272002.6562 - val_loss: 1360.4316 - val_mae: 1360.4316 - val_mse: 5857348.0000\n",
            "Epoch 55/100\n",
            "69/69 [==============================] - 0s 3ms/step - loss: 233.4449 - mae: 233.4449 - mse: 276299.9375 - val_loss: 1337.7903 - val_mae: 1337.7903 - val_mse: 5664529.5000\n",
            "Epoch 56/100\n",
            "69/69 [==============================] - 0s 3ms/step - loss: 243.1166 - mae: 243.1166 - mse: 276560.0938 - val_loss: 1365.9878 - val_mae: 1365.9878 - val_mse: 5973026.0000\n",
            "Epoch 57/100\n",
            "69/69 [==============================] - 0s 3ms/step - loss: 228.3051 - mae: 228.3051 - mse: 270029.9375 - val_loss: 1217.5959 - val_mae: 1217.5959 - val_mse: 5104923.0000\n",
            "Epoch 58/100\n",
            "69/69 [==============================] - 0s 3ms/step - loss: 223.5322 - mae: 223.5322 - mse: 261576.7344 - val_loss: 1382.7217 - val_mae: 1382.7217 - val_mse: 5916074.5000\n",
            "Epoch 59/100\n",
            "69/69 [==============================] - 0s 3ms/step - loss: 222.9555 - mae: 222.9555 - mse: 257495.2188 - val_loss: 1202.0461 - val_mae: 1202.0461 - val_mse: 5067487.0000\n",
            "Epoch 60/100\n",
            "69/69 [==============================] - 0s 3ms/step - loss: 239.2600 - mae: 239.2600 - mse: 290710.2812 - val_loss: 1289.4880 - val_mae: 1289.4880 - val_mse: 5549852.0000\n",
            "Epoch 61/100\n",
            "69/69 [==============================] - 0s 3ms/step - loss: 224.2049 - mae: 224.2049 - mse: 263362.2812 - val_loss: 1249.3080 - val_mae: 1249.3080 - val_mse: 5249564.0000\n",
            "Epoch 62/100\n",
            "69/69 [==============================] - 0s 3ms/step - loss: 220.7932 - mae: 220.7932 - mse: 259668.6250 - val_loss: 1206.8647 - val_mae: 1206.8647 - val_mse: 5133182.5000\n",
            "Epoch 63/100\n",
            "69/69 [==============================] - 0s 3ms/step - loss: 226.3573 - mae: 226.3573 - mse: 267051.7812 - val_loss: 1453.4934 - val_mae: 1453.4934 - val_mse: 6301281.5000\n",
            "Epoch 64/100\n",
            "69/69 [==============================] - 1s 9ms/step - loss: 238.3664 - mae: 238.3664 - mse: 277139.2500 - val_loss: 1193.1569 - val_mae: 1193.1569 - val_mse: 4968624.0000\n",
            "Epoch 65/100\n",
            "69/69 [==============================] - 0s 3ms/step - loss: 220.4643 - mae: 220.4643 - mse: 260432.6094 - val_loss: 1252.8434 - val_mae: 1252.8434 - val_mse: 5308967.0000\n",
            "Epoch 66/100\n",
            "69/69 [==============================] - 0s 3ms/step - loss: 235.3773 - mae: 235.3773 - mse: 279340.3750 - val_loss: 1467.3052 - val_mae: 1467.3052 - val_mse: 6329763.5000\n",
            "Epoch 67/100\n",
            "69/69 [==============================] - 0s 3ms/step - loss: 240.3037 - mae: 240.3037 - mse: 287348.6250 - val_loss: 1207.4399 - val_mae: 1207.4399 - val_mse: 5030921.0000\n",
            "Epoch 68/100\n",
            "69/69 [==============================] - 0s 3ms/step - loss: 221.6160 - mae: 221.6160 - mse: 261878.3125 - val_loss: 1448.6373 - val_mae: 1448.6373 - val_mse: 6286562.0000\n",
            "Epoch 69/100\n",
            "69/69 [==============================] - 0s 3ms/step - loss: 231.3051 - mae: 231.3051 - mse: 266665.2188 - val_loss: 1204.7424 - val_mae: 1204.7424 - val_mse: 5061859.5000\n",
            "Epoch 70/100\n",
            "69/69 [==============================] - 0s 3ms/step - loss: 220.7761 - mae: 220.7761 - mse: 260436.3281 - val_loss: 1215.7291 - val_mae: 1215.7291 - val_mse: 5085863.5000\n",
            "Epoch 71/100\n",
            "69/69 [==============================] - 0s 3ms/step - loss: 236.0939 - mae: 236.0939 - mse: 273966.4062 - val_loss: 1230.7910 - val_mae: 1230.7910 - val_mse: 5313410.0000\n",
            "Epoch 72/100\n",
            "69/69 [==============================] - 0s 3ms/step - loss: 233.6571 - mae: 233.6571 - mse: 268556.8750 - val_loss: 1482.7311 - val_mae: 1482.7311 - val_mse: 6943029.5000\n",
            "Epoch 73/100\n",
            "69/69 [==============================] - 0s 3ms/step - loss: 230.5865 - mae: 230.5865 - mse: 274602.9688 - val_loss: 1519.3391 - val_mae: 1519.3391 - val_mse: 6956275.5000\n",
            "Epoch 74/100\n",
            "69/69 [==============================] - 0s 3ms/step - loss: 229.3277 - mae: 229.3277 - mse: 271548.4688 - val_loss: 1791.9200 - val_mae: 1791.9200 - val_mse: 8359958.5000\n",
            "Epoch 75/100\n",
            "69/69 [==============================] - 0s 3ms/step - loss: 226.9356 - mae: 226.9356 - mse: 265429.3750 - val_loss: 1232.2086 - val_mae: 1232.2086 - val_mse: 5242964.0000\n",
            "Epoch 76/100\n",
            "69/69 [==============================] - 0s 3ms/step - loss: 229.3773 - mae: 229.3773 - mse: 268239.6250 - val_loss: 1259.3639 - val_mae: 1259.3639 - val_mse: 5432786.0000\n",
            "Epoch 77/100\n",
            "69/69 [==============================] - 0s 4ms/step - loss: 224.2336 - mae: 224.2336 - mse: 260136.3125 - val_loss: 1199.7573 - val_mae: 1199.7573 - val_mse: 5050816.0000\n",
            "Epoch 78/100\n",
            "69/69 [==============================] - 0s 3ms/step - loss: 231.6008 - mae: 231.6008 - mse: 270581.5000 - val_loss: 1593.2513 - val_mae: 1593.2513 - val_mse: 7608452.0000\n",
            "Epoch 79/100\n",
            "69/69 [==============================] - 0s 3ms/step - loss: 221.2654 - mae: 221.2654 - mse: 257553.3438 - val_loss: 1236.1901 - val_mae: 1236.1901 - val_mse: 5272706.5000\n",
            "Epoch 80/100\n",
            "69/69 [==============================] - 0s 3ms/step - loss: 229.4976 - mae: 229.4976 - mse: 268778.0312 - val_loss: 1218.3453 - val_mae: 1218.3453 - val_mse: 5124516.5000\n",
            "Epoch 81/100\n",
            "69/69 [==============================] - 0s 3ms/step - loss: 245.0889 - mae: 245.0889 - mse: 290604.8438 - val_loss: 1692.2369 - val_mae: 1692.2369 - val_mse: 8181090.0000\n",
            "Epoch 82/100\n",
            "69/69 [==============================] - 1s 13ms/step - loss: 236.0134 - mae: 236.0134 - mse: 281864.8750 - val_loss: 1191.7360 - val_mae: 1191.7360 - val_mse: 5037504.0000\n",
            "Epoch 83/100\n",
            "69/69 [==============================] - 0s 4ms/step - loss: 232.3957 - mae: 232.3957 - mse: 273243.2812 - val_loss: 1464.4602 - val_mae: 1464.4602 - val_mse: 6379864.5000\n",
            "Epoch 84/100\n",
            "69/69 [==============================] - 1s 14ms/step - loss: 227.1915 - mae: 227.1915 - mse: 261878.6094 - val_loss: 1187.1449 - val_mae: 1187.1449 - val_mse: 4974725.0000\n",
            "Epoch 85/100\n",
            "69/69 [==============================] - 0s 5ms/step - loss: 234.1248 - mae: 234.1248 - mse: 267796.5938 - val_loss: 1556.0835 - val_mae: 1556.0834 - val_mse: 6828461.0000\n",
            "Epoch 86/100\n",
            "69/69 [==============================] - 0s 3ms/step - loss: 238.6272 - mae: 238.6272 - mse: 282586.8750 - val_loss: 1307.0599 - val_mae: 1307.0599 - val_mse: 5788621.5000\n",
            "Epoch 87/100\n",
            "69/69 [==============================] - 0s 3ms/step - loss: 230.9540 - mae: 230.9540 - mse: 272083.0625 - val_loss: 1204.8783 - val_mae: 1204.8783 - val_mse: 5124939.5000\n",
            "Epoch 88/100\n",
            "69/69 [==============================] - 0s 3ms/step - loss: 230.0952 - mae: 230.0952 - mse: 266249.5625 - val_loss: 1657.2269 - val_mae: 1657.2269 - val_mse: 7457727.5000\n",
            "Epoch 89/100\n",
            "69/69 [==============================] - 0s 3ms/step - loss: 221.1821 - mae: 221.1821 - mse: 257809.1094 - val_loss: 1199.6875 - val_mae: 1199.6875 - val_mse: 5084777.5000\n",
            "Epoch 90/100\n",
            "69/69 [==============================] - 0s 3ms/step - loss: 231.8046 - mae: 231.8046 - mse: 280440.1250 - val_loss: 1422.6910 - val_mae: 1422.6910 - val_mse: 6280259.0000\n",
            "Epoch 91/100\n",
            "69/69 [==============================] - 0s 3ms/step - loss: 247.7293 - mae: 247.7293 - mse: 286655.0312 - val_loss: 1207.5093 - val_mae: 1207.5093 - val_mse: 5122393.0000\n",
            "Epoch 92/100\n",
            "69/69 [==============================] - 0s 3ms/step - loss: 226.8944 - mae: 226.8944 - mse: 268557.0000 - val_loss: 1205.0026 - val_mae: 1205.0026 - val_mse: 5079858.0000\n",
            "Epoch 93/100\n",
            "69/69 [==============================] - 0s 3ms/step - loss: 249.6632 - mae: 249.6632 - mse: 291887.9062 - val_loss: 1965.4025 - val_mae: 1965.4025 - val_mse: 9537327.0000\n",
            "Epoch 94/100\n",
            "69/69 [==============================] - 0s 3ms/step - loss: 228.5723 - mae: 228.5723 - mse: 262924.5000 - val_loss: 1539.8147 - val_mae: 1539.8147 - val_mse: 6837065.5000\n",
            "Epoch 95/100\n",
            "69/69 [==============================] - 0s 3ms/step - loss: 221.6791 - mae: 221.6791 - mse: 255231.8906 - val_loss: 1220.5972 - val_mae: 1220.5972 - val_mse: 5186373.0000\n",
            "Epoch 96/100\n",
            "69/69 [==============================] - 0s 3ms/step - loss: 215.9384 - mae: 215.9384 - mse: 254283.6094 - val_loss: 1274.4801 - val_mae: 1274.4801 - val_mse: 5406886.0000\n",
            "Epoch 97/100\n",
            "69/69 [==============================] - 0s 4ms/step - loss: 224.4647 - mae: 224.4647 - mse: 255707.2812 - val_loss: 1201.4814 - val_mae: 1201.4814 - val_mse: 5070173.5000\n",
            "Epoch 98/100\n",
            "69/69 [==============================] - 0s 4ms/step - loss: 220.3053 - mae: 220.3053 - mse: 258939.0781 - val_loss: 1202.4746 - val_mae: 1202.4746 - val_mse: 5024878.5000\n",
            "Epoch 99/100\n",
            "69/69 [==============================] - 0s 3ms/step - loss: 217.6400 - mae: 217.6400 - mse: 257492.5312 - val_loss: 1213.0747 - val_mae: 1213.0747 - val_mse: 5123382.0000\n",
            "Epoch 100/100\n",
            "69/69 [==============================] - 0s 3ms/step - loss: 232.1490 - mae: 232.1490 - mse: 280930.4688 - val_loss: 1495.0155 - val_mae: 1495.0155 - val_mse: 6475146.5000\n"
          ]
        }
      ]
    },
    {
      "cell_type": "code",
      "source": [
        "plt.plot(model_2_history.history[\"mae\"],label=f\"{model_2.name} mae\")\n",
        "plt.plot(model_1_history.history[\"mae\"],label=f\"{model_1.name} mae\")\n",
        "plt.plot(model_3_history.history[\"mae\"],label=f\"{model_3.name} mae\")\n",
        "plt.xlabel(xlabel=\"epochs\")\n",
        "plt.ylabel(ylabel=\"MAE\")\n",
        "plt.legend()\n",
        "plt.show()"
      ],
      "metadata": {
        "colab": {
          "base_uri": "https://localhost:8080/",
          "height": 54
        },
        "id": "dBt9hVtk5aZB",
        "outputId": "db86f2af-f08c-4228-92e2-51b0c3cc429b"
      },
      "execution_count": 183,
      "outputs": [
        {
          "output_type": "display_data",
          "data": {
            "text/plain": [
              "<Figure size 640x480 with 1 Axes>"
            ],
            "image/png": "[encoded data removed]"
          },
          "metadata": {}
        }
      ]
    },
    {
      "cell_type": "markdown",
      "source": [
        "#model_5"
      ],
      "metadata": {
        "id": "9MH53_QfAxi_"
      }
    },
    {
      "cell_type": "code",
      "source": [
        "window_size=30\n",
        "horizon=1\n",
        "full_window,full_label=make_window(btc_price,window_size=window_size,horizon=horizon)\n",
        "train_window, train_label, test_window, test_label = make_train_test_split(full_window,full_label)\n",
        "\n",
        "\n",
        "tf.random.set_seed(42)\n",
        " # construct mnodel many to one\n",
        "inputs= tf.keras.Input(shape=(window_size,horizon))\n",
        "# x=tf.keras.layers.LSTM(128,activation=\"tanh\",return_sequences=True)(inputs)\n",
        "x=tf.keras.layers.LSTM(128,activation=\"relu\")(inputs)\n",
        "output=tf.keras.layers.Dense(horizon)(x)\n",
        "model_5=tf.keras.Model(inputs=inputs,outputs=output)\n",
        "\n",
        "\n",
        "\n",
        "\n",
        " #compile\n",
        "model_5.compile(loss=\"mae\",\n",
        "                optimizer=tf.keras.optimizers.Adam(),\n",
        "               )\n",
        "\n",
        "model_5_history=model_5.fit(x=train_window,\n",
        "             y=train_label,\n",
        "             epochs=100,\n",
        "             verbose=1,\n",
        "             batch_size=128,\n",
        "             validation_data=(test_window,test_label),\n",
        "             callbacks=([create_model_checkpoint(model_name=model_5.name)])\n",
        "\n",
        " )"
      ],
      "metadata": {
        "id": "F35W9ddG5qHU",
        "colab": {
          "base_uri": "https://localhost:8080/"
        },
        "outputId": "af5c9f5d-b0cd-421e-a2b8-a288a9cc0545"
      },
      "execution_count": null,
      "outputs": [
        {
          "output_type": "stream",
          "name": "stdout",
          "text": [
            "Epoch 1/100\n",
            "18/18 [==============================] - 5s 189ms/step - loss: 1749.6321 - val_loss: 8395.7061\n",
            "Epoch 2/100\n",
            "18/18 [==============================] - 1s 79ms/step - loss: 1632.6219 - val_loss: 12620.1084\n",
            "Epoch 3/100\n",
            "18/18 [==============================] - 2s 132ms/step - loss: 2568.1270 - val_loss: 8992.7324\n",
            "Epoch 4/100\n",
            "18/18 [==============================] - 2s 124ms/step - loss: 1342.9421 - val_loss: 10643.0820\n",
            "Epoch 5/100\n",
            "18/18 [==============================] - 2s 110ms/step - loss: 3045.3420 - val_loss: 17011.7773\n",
            "Epoch 6/100\n",
            "18/18 [==============================] - 1s 78ms/step - loss: 2922.7817 - val_loss: 34637.2461\n",
            "Epoch 7/100\n",
            "18/18 [==============================] - 1s 77ms/step - loss: 3514.0720 - val_loss: 37569.8945\n",
            "Epoch 8/100\n",
            "18/18 [==============================] - 1s 77ms/step - loss: 9471.3184 - val_loss: 15388.5059\n",
            "Epoch 9/100\n",
            "18/18 [==============================] - 1s 78ms/step - loss: 8879.7207 - val_loss: 39228.5430\n",
            "Epoch 10/100\n",
            "18/18 [==============================] - 2s 100ms/step - loss: 6861.8501 - val_loss: 148131.9375\n",
            "Epoch 11/100\n",
            "18/18 [==============================] - 2s 122ms/step - loss: 12980.8545 - val_loss: 14341.5928\n",
            "Epoch 12/100\n",
            "18/18 [==============================] - 3s 175ms/step - loss: 1882.2426 - val_loss: 7452.2383\n",
            "Epoch 13/100\n",
            "18/18 [==============================] - 4s 220ms/step - loss: 1394.1794 - val_loss: 7116.7622\n",
            "Epoch 14/100\n",
            "18/18 [==============================] - 3s 177ms/step - loss: 1013.0000 - val_loss: 4059.7908\n",
            "Epoch 15/100\n",
            "18/18 [==============================] - 4s 230ms/step - loss: 789.9135 - val_loss: 3155.6582\n",
            "Epoch 16/100\n",
            "18/18 [==============================] - 3s 176ms/step - loss: 642.0068 - val_loss: 3024.3040\n",
            "Epoch 17/100\n",
            "18/18 [==============================] - 1s 78ms/step - loss: 617.9105 - val_loss: 3866.3230\n",
            "Epoch 18/100\n",
            "18/18 [==============================] - 1s 77ms/step - loss: 646.3620 - val_loss: 3074.2444\n",
            "Epoch 19/100\n",
            "18/18 [==============================] - 1s 78ms/step - loss: 570.0565 - val_loss: 3083.8101\n",
            "Epoch 20/100\n",
            "18/18 [==============================] - 1s 84ms/step - loss: 565.1785 - val_loss: 3478.7993\n",
            "Epoch 21/100\n",
            "18/18 [==============================] - 4s 230ms/step - loss: 554.5194 - val_loss: 2387.7170\n",
            "Epoch 22/100\n",
            "18/18 [==============================] - 1s 78ms/step - loss: 552.5369 - val_loss: 3943.8237\n",
            "Epoch 23/100\n",
            "18/18 [==============================] - 1s 79ms/step - loss: 565.0793 - val_loss: 2848.6748\n",
            "Epoch 24/100\n",
            "14/18 [======================>.......] - ETA: 0s - loss: 530.9315"
          ]
        }
      ]
    },
    {
      "cell_type": "code",
      "source": [],
      "metadata": {
        "id": "orcY_zI-RI5J"
      },
      "execution_count": null,
      "outputs": []
    }
  ]
}