{
  "nbformat": 4,
  "nbformat_minor": 0,
  "metadata": {
    "colab": {
      "provenance": [],
      "collapsed_sections": [
        "UR3GovmLEDZJ"
      ],
      "gpuType": "T4",
      "authorship_tag": "ABX9TyPT4echPede4eRqbMCxTwd3",
      "include_colab_link": true
    },
    "kernelspec": {
      "name": "python3",
      "display_name": "Python 3"
    },
    "language_info": {
      "name": "python"
    },
    "accelerator": "GPU"
  },
  "cells": [
    {
      "cell_type": "markdown",
      "metadata": {
        "id": "view-in-github",
        "colab_type": "text"
      },
      "source": [
        "<a href=\"https://colab.research.google.com/github/khanabdulmajid/CNN/blob/master/10_Time__Series_Forecasting.ipynb\" target=\"_parent\"><img src=\"https://colab.research.google.com/assets/colab-badge.svg\" alt=\"Open In Colab\"/></a>"
      ]
    },
    {
      "cell_type": "code",
      "execution_count": 1,
      "metadata": {
        "id": "VdU2d3XsDK3Q"
      },
      "outputs": [],
      "source": [
        "#Get Data Bitcoin"
      ]
    },
    {
      "cell_type": "code",
      "source": [
        "!wget https://raw.githubusercontent.com/mrdbourke/tensorflow-deep-learning/main/extras/BTC_USD_2013-10-01_2021-05-18-CoinDesk.csv"
      ],
      "metadata": {
        "colab": {
          "base_uri": "https://localhost:8080/"
        },
        "id": "BkTEXY0pDT9b",
        "outputId": "bb75e051-8154-4dd9-ac4e-77985462b9fc"
      },
      "execution_count": 2,
      "outputs": [
        {
          "output_type": "stream",
          "name": "stdout",
          "text": [
            "--2024-03-10 17:02:11--  https://raw.githubusercontent.com/mrdbourke/tensorflow-deep-learning/main/extras/BTC_USD_2013-10-01_2021-05-18-CoinDesk.csv\n",
            "Resolving raw.githubusercontent.com (raw.githubusercontent.com)... 185.199.108.133, 185.199.109.133, 185.199.110.133, ...\n",
            "Connecting to raw.githubusercontent.com (raw.githubusercontent.com)|185.199.108.133|:443... connected.\n",
            "HTTP request sent, awaiting response... 200 OK\n",
            "Length: 178509 (174K) [text/plain]\n",
            "Saving to: ‘BTC_USD_2013-10-01_2021-05-18-CoinDesk.csv’\n",
            "\n",
            "BTC_USD_2013-10-01_ 100%[===================>] 174.33K  --.-KB/s    in 0.01s   \n",
            "\n",
            "2024-03-10 17:02:11 (17.4 MB/s) - ‘BTC_USD_2013-10-01_2021-05-18-CoinDesk.csv’ saved [178509/178509]\n",
            "\n"
          ]
        }
      ]
    },
    {
      "cell_type": "code",
      "source": [
        "#importing time series data with panda\n",
        "\n",
        "import pandas as pd\n",
        "\n",
        "df = pd.read_csv(\"/content/BTC_USD_2013-10-01_2021-05-18-CoinDesk.csv\",\n",
        "                 parse_dates=[\"Date\"],\n",
        "                 index_col=[\"Date\"]\n",
        "                 )\n"
      ],
      "metadata": {
        "id": "y10gbIVgEc3k"
      },
      "execution_count": 3,
      "outputs": []
    },
    {
      "cell_type": "code",
      "source": [
        "df.head()"
      ],
      "metadata": {
        "colab": {
          "base_uri": "https://localhost:8080/",
          "height": 237
        },
        "id": "3LBJ9MWdG-0U",
        "outputId": "73573367-a6e8-4c4d-d6b5-05615dc2208b"
      },
      "execution_count": 4,
      "outputs": [
        {
          "output_type": "execute_result",
          "data": {
            "text/plain": [
              "           Currency  Closing Price (USD)  24h Open (USD)  24h High (USD)  \\\n",
              "Date                                                                       \n",
              "2013-10-01      BTC            123.65499       124.30466       124.75166   \n",
              "2013-10-02      BTC            125.45500       123.65499       125.75850   \n",
              "2013-10-03      BTC            108.58483       125.45500       125.66566   \n",
              "2013-10-04      BTC            118.67466       108.58483       118.67500   \n",
              "2013-10-05      BTC            121.33866       118.67466       121.93633   \n",
              "\n",
              "            24h Low (USD)  \n",
              "Date                       \n",
              "2013-10-01      122.56349  \n",
              "2013-10-02      123.63383  \n",
              "2013-10-03       83.32833  \n",
              "2013-10-04      107.05816  \n",
              "2013-10-05      118.00566  "
            ],
            "text/html": [
              "\n",
              "  <div id=\"df-ee90f90b-edf5-4fc0-8b1c-a4b2d1fa9b9c\" class=\"colab-df-container\">\n",
              "    <div>\n",
              "<style scoped>\n",
              "    .dataframe tbody tr th:only-of-type {\n",
              "        vertical-align: middle;\n",
              "    }\n",
              "\n",
              "    .dataframe tbody tr th {\n",
              "        vertical-align: top;\n",
              "    }\n",
              "\n",
              "    .dataframe thead th {\n",
              "        text-align: right;\n",
              "    }\n",
              "</style>\n",
              "<table border=\"1\" class=\"dataframe\">\n",
              "  <thead>\n",
              "    <tr style=\"text-align: right;\">\n",
              "      <th></th>\n",
              "      <th>Currency</th>\n",
              "      <th>Closing Price (USD)</th>\n",
              "      <th>24h Open (USD)</th>\n",
              "      <th>24h High (USD)</th>\n",
              "      <th>24h Low (USD)</th>\n",
              "    </tr>\n",
              "    <tr>\n",
              "      <th>Date</th>\n",
              "      <th></th>\n",
              "      <th></th>\n",
              "      <th></th>\n",
              "      <th></th>\n",
              "      <th></th>\n",
              "    </tr>\n",
              "  </thead>\n",
              "  <tbody>\n",
              "    <tr>\n",
              "      <th>2013-10-01</th>\n",
              "      <td>BTC</td>\n",
              "      <td>123.65499</td>\n",
              "      <td>124.30466</td>\n",
              "      <td>124.75166</td>\n",
              "      <td>122.56349</td>\n",
              "    </tr>\n",
              "    <tr>\n",
              "      <th>2013-10-02</th>\n",
              "      <td>BTC</td>\n",
              "      <td>125.45500</td>\n",
              "      <td>123.65499</td>\n",
              "      <td>125.75850</td>\n",
              "      <td>123.63383</td>\n",
              "    </tr>\n",
              "    <tr>\n",
              "      <th>2013-10-03</th>\n",
              "      <td>BTC</td>\n",
              "      <td>108.58483</td>\n",
              "      <td>125.45500</td>\n",
              "      <td>125.66566</td>\n",
              "      <td>83.32833</td>\n",
              "    </tr>\n",
              "    <tr>\n",
              "      <th>2013-10-04</th>\n",
              "      <td>BTC</td>\n",
              "      <td>118.67466</td>\n",
              "      <td>108.58483</td>\n",
              "      <td>118.67500</td>\n",
              "      <td>107.05816</td>\n",
              "    </tr>\n",
              "    <tr>\n",
              "      <th>2013-10-05</th>\n",
              "      <td>BTC</td>\n",
              "      <td>121.33866</td>\n",
              "      <td>118.67466</td>\n",
              "      <td>121.93633</td>\n",
              "      <td>118.00566</td>\n",
              "    </tr>\n",
              "  </tbody>\n",
              "</table>\n",
              "</div>\n",
              "    <div class=\"colab-df-buttons\">\n",
              "\n",
              "  <div class=\"colab-df-container\">\n",
              "    <button class=\"colab-df-convert\" onclick=\"convertToInteractive('df-ee90f90b-edf5-4fc0-8b1c-a4b2d1fa9b9c')\"\n",
              "            title=\"Convert this dataframe to an interactive table.\"\n",
              "            style=\"display:none;\">\n",
              "\n",
              "  <svg xmlns=\"http://www.w3.org/2000/svg\" height=\"24px\" viewBox=\"0 -960 960 960\">\n",
              "    <path d=\"M120-120v-720h720v720H120Zm60-500h600v-160H180v160Zm220 220h160v-160H400v160Zm0 220h160v-160H400v160ZM180-400h160v-160H180v160Zm440 0h160v-160H620v160ZM180-180h160v-160H180v160Zm440 0h160v-160H620v160Z\"/>\n",
              "  </svg>\n",
              "    </button>\n",
              "\n",
              "  <style>\n",
              "    .colab-df-container {\n",
              "      display:flex;\n",
              "      gap: 12px;\n",
              "    }\n",
              "\n",
              "    .colab-df-convert {\n",
              "      background-color: #E8F0FE;\n",
              "      border: none;\n",
              "      border-radius: 50%;\n",
              "      cursor: pointer;\n",
              "      display: none;\n",
              "      fill: #1967D2;\n",
              "      height: 32px;\n",
              "      padding: 0 0 0 0;\n",
              "      width: 32px;\n",
              "    }\n",
              "\n",
              "    .colab-df-convert:hover {\n",
              "      background-color: #E2EBFA;\n",
              "      box-shadow: 0px 1px 2px rgba(60, 64, 67, 0.3), 0px 1px 3px 1px rgba(60, 64, 67, 0.15);\n",
              "      fill: #174EA6;\n",
              "    }\n",
              "\n",
              "    .colab-df-buttons div {\n",
              "      margin-bottom: 4px;\n",
              "    }\n",
              "\n",
              "    [theme=dark] .colab-df-convert {\n",
              "      background-color: #3B4455;\n",
              "      fill: #D2E3FC;\n",
              "    }\n",
              "\n",
              "    [theme=dark] .colab-df-convert:hover {\n",
              "      background-color: #434B5C;\n",
              "      box-shadow: 0px 1px 3px 1px rgba(0, 0, 0, 0.15);\n",
              "      filter: drop-shadow(0px 1px 2px rgba(0, 0, 0, 0.3));\n",
              "      fill: #FFFFFF;\n",
              "    }\n",
              "  </style>\n",
              "\n",
              "    <script>\n",
              "      const buttonEl =\n",
              "        document.querySelector('#df-ee90f90b-edf5-4fc0-8b1c-a4b2d1fa9b9c button.colab-df-convert');\n",
              "      buttonEl.style.display =\n",
              "        google.colab.kernel.accessAllowed ? 'block' : 'none';\n",
              "\n",
              "      async function convertToInteractive(key) {\n",
              "        const element = document.querySelector('#df-ee90f90b-edf5-4fc0-8b1c-a4b2d1fa9b9c');\n",
              "        const dataTable =\n",
              "          await google.colab.kernel.invokeFunction('convertToInteractive',\n",
              "                                                    [key], {});\n",
              "        if (!dataTable) return;\n",
              "\n",
              "        const docLinkHtml = 'Like what you see? Visit the ' +\n",
              "          '<a target=\"_blank\" href=https://colab.research.google.com/notebooks/data_table.ipynb>data table notebook</a>'\n",
              "          + ' to learn more about interactive tables.';\n",
              "        element.innerHTML = '';\n",
              "        dataTable['output_type'] = 'display_data';\n",
              "        await google.colab.output.renderOutput(dataTable, element);\n",
              "        const docLink = document.createElement('div');\n",
              "        docLink.innerHTML = docLinkHtml;\n",
              "        element.appendChild(docLink);\n",
              "      }\n",
              "    </script>\n",
              "  </div>\n",
              "\n",
              "\n",
              "<div id=\"df-3fb8ffd0-de74-4c29-aeab-895331e3edb4\">\n",
              "  <button class=\"colab-df-quickchart\" onclick=\"quickchart('df-3fb8ffd0-de74-4c29-aeab-895331e3edb4')\"\n",
              "            title=\"Suggest charts\"\n",
              "            style=\"display:none;\">\n",
              "\n",
              "<svg xmlns=\"http://www.w3.org/2000/svg\" height=\"24px\"viewBox=\"0 0 24 24\"\n",
              "     width=\"24px\">\n",
              "    <g>\n",
              "        <path d=\"M19 3H5c-1.1 0-2 .9-2 2v14c0 1.1.9 2 2 2h14c1.1 0 2-.9 2-2V5c0-1.1-.9-2-2-2zM9 17H7v-7h2v7zm4 0h-2V7h2v10zm4 0h-2v-4h2v4z\"/>\n",
              "    </g>\n",
              "</svg>\n",
              "  </button>\n",
              "\n",
              "<style>\n",
              "  .colab-df-quickchart {\n",
              "      --bg-color: #E8F0FE;\n",
              "      --fill-color: #1967D2;\n",
              "      --hover-bg-color: #E2EBFA;\n",
              "      --hover-fill-color: #174EA6;\n",
              "      --disabled-fill-color: #AAA;\n",
              "      --disabled-bg-color: #DDD;\n",
              "  }\n",
              "\n",
              "  [theme=dark] .colab-df-quickchart {\n",
              "      --bg-color: #3B4455;\n",
              "      --fill-color: #D2E3FC;\n",
              "      --hover-bg-color: #434B5C;\n",
              "      --hover-fill-color: #FFFFFF;\n",
              "      --disabled-bg-color: #3B4455;\n",
              "      --disabled-fill-color: #666;\n",
              "  }\n",
              "\n",
              "  .colab-df-quickchart {\n",
              "    background-color: var(--bg-color);\n",
              "    border: none;\n",
              "    border-radius: 50%;\n",
              "    cursor: pointer;\n",
              "    display: none;\n",
              "    fill: var(--fill-color);\n",
              "    height: 32px;\n",
              "    padding: 0;\n",
              "    width: 32px;\n",
              "  }\n",
              "\n",
              "  .colab-df-quickchart:hover {\n",
              "    background-color: var(--hover-bg-color);\n",
              "    box-shadow: 0 1px 2px rgba(60, 64, 67, 0.3), 0 1px 3px 1px rgba(60, 64, 67, 0.15);\n",
              "    fill: var(--button-hover-fill-color);\n",
              "  }\n",
              "\n",
              "  .colab-df-quickchart-complete:disabled,\n",
              "  .colab-df-quickchart-complete:disabled:hover {\n",
              "    background-color: var(--disabled-bg-color);\n",
              "    fill: var(--disabled-fill-color);\n",
              "    box-shadow: none;\n",
              "  }\n",
              "\n",
              "  .colab-df-spinner {\n",
              "    border: 2px solid var(--fill-color);\n",
              "    border-color: transparent;\n",
              "    border-bottom-color: var(--fill-color);\n",
              "    animation:\n",
              "      spin 1s steps(1) infinite;\n",
              "  }\n",
              "\n",
              "  @keyframes spin {\n",
              "    0% {\n",
              "      border-color: transparent;\n",
              "      border-bottom-color: var(--fill-color);\n",
              "      border-left-color: var(--fill-color);\n",
              "    }\n",
              "    20% {\n",
              "      border-color: transparent;\n",
              "      border-left-color: var(--fill-color);\n",
              "      border-top-color: var(--fill-color);\n",
              "    }\n",
              "    30% {\n",
              "      border-color: transparent;\n",
              "      border-left-color: var(--fill-color);\n",
              "      border-top-color: var(--fill-color);\n",
              "      border-right-color: var(--fill-color);\n",
              "    }\n",
              "    40% {\n",
              "      border-color: transparent;\n",
              "      border-right-color: var(--fill-color);\n",
              "      border-top-color: var(--fill-color);\n",
              "    }\n",
              "    60% {\n",
              "      border-color: transparent;\n",
              "      border-right-color: var(--fill-color);\n",
              "    }\n",
              "    80% {\n",
              "      border-color: transparent;\n",
              "      border-right-color: var(--fill-color);\n",
              "      border-bottom-color: var(--fill-color);\n",
              "    }\n",
              "    90% {\n",
              "      border-color: transparent;\n",
              "      border-bottom-color: var(--fill-color);\n",
              "    }\n",
              "  }\n",
              "</style>\n",
              "\n",
              "  <script>\n",
              "    async function quickchart(key) {\n",
              "      const quickchartButtonEl =\n",
              "        document.querySelector('#' + key + ' button');\n",
              "      quickchartButtonEl.disabled = true;  // To prevent multiple clicks.\n",
              "      quickchartButtonEl.classList.add('colab-df-spinner');\n",
              "      try {\n",
              "        const charts = await google.colab.kernel.invokeFunction(\n",
              "            'suggestCharts', [key], {});\n",
              "      } catch (error) {\n",
              "        console.error('Error during call to suggestCharts:', error);\n",
              "      }\n",
              "      quickchartButtonEl.classList.remove('colab-df-spinner');\n",
              "      quickchartButtonEl.classList.add('colab-df-quickchart-complete');\n",
              "    }\n",
              "    (() => {\n",
              "      let quickchartButtonEl =\n",
              "        document.querySelector('#df-3fb8ffd0-de74-4c29-aeab-895331e3edb4 button');\n",
              "      quickchartButtonEl.style.display =\n",
              "        google.colab.kernel.accessAllowed ? 'block' : 'none';\n",
              "    })();\n",
              "  </script>\n",
              "</div>\n",
              "\n",
              "    </div>\n",
              "  </div>\n"
            ],
            "application/vnd.google.colaboratory.intrinsic+json": {
              "type": "dataframe",
              "variable_name": "df",
              "summary": "{\n  \"name\": \"df\",\n  \"rows\": 2787,\n  \"fields\": [\n    {\n      \"column\": \"Date\",\n      \"properties\": {\n        \"dtype\": \"date\",\n        \"min\": \"2013-10-01 00:00:00\",\n        \"max\": \"2021-05-18 00:00:00\",\n        \"num_unique_values\": 2787,\n        \"samples\": [\n          \"2019-06-11 00:00:00\",\n          \"2021-05-03 00:00:00\",\n          \"2017-10-05 00:00:00\"\n        ],\n        \"semantic_type\": \"\",\n        \"description\": \"\"\n      }\n    },\n    {\n      \"column\": \"Currency\",\n      \"properties\": {\n        \"dtype\": \"category\",\n        \"num_unique_values\": 1,\n        \"samples\": [\n          \"BTC\"\n        ],\n        \"semantic_type\": \"\",\n        \"description\": \"\"\n      }\n    },\n    {\n      \"column\": \"Closing Price (USD)\",\n      \"properties\": {\n        \"dtype\": \"number\",\n        \"std\": 10887.84744436952,\n        \"min\": 108.58483,\n        \"max\": 63346.7890351052,\n        \"num_unique_values\": 2787,\n        \"samples\": [\n          7954.0062377205\n        ],\n        \"semantic_type\": \"\",\n        \"description\": \"\"\n      }\n    },\n    {\n      \"column\": \"24h Open (USD)\",\n      \"properties\": {\n        \"dtype\": \"number\",\n        \"std\": 10863.80077212387,\n        \"min\": 108.58483,\n        \"max\": 63562.6735446382,\n        \"num_unique_values\": 2787,\n        \"samples\": [\n          7600.9225047785\n        ],\n        \"semantic_type\": \"\",\n        \"description\": \"\"\n      }\n    },\n    {\n      \"column\": \"24h High (USD)\",\n      \"properties\": {\n        \"dtype\": \"number\",\n        \"std\": 11206.779756254151,\n        \"min\": 118.675,\n        \"max\": 64801.787869525,\n        \"num_unique_values\": 2787,\n        \"samples\": [\n          8064.9001353225\n        ],\n        \"semantic_type\": \"\",\n        \"description\": \"\"\n      }\n    },\n    {\n      \"column\": \"24h Low (USD)\",\n      \"properties\": {\n        \"dtype\": \"number\",\n        \"std\": 10475.8112518284,\n        \"min\": 83.32833,\n        \"max\": 62094.6329143272,\n        \"num_unique_values\": 2785,\n        \"samples\": [\n          7714.610306452\n        ],\n        \"semantic_type\": \"\",\n        \"description\": \"\"\n      }\n    }\n  ]\n}"
            }
          },
          "metadata": {},
          "execution_count": 4
        }
      ]
    },
    {
      "cell_type": "code",
      "source": [
        "df.info()"
      ],
      "metadata": {
        "colab": {
          "base_uri": "https://localhost:8080/"
        },
        "id": "qx_aJC_PHMGb",
        "outputId": "88c7af9a-39f9-4291-d91d-111f73874593"
      },
      "execution_count": 5,
      "outputs": [
        {
          "output_type": "stream",
          "name": "stdout",
          "text": [
            "<class 'pandas.core.frame.DataFrame'>\n",
            "DatetimeIndex: 2787 entries, 2013-10-01 to 2021-05-18\n",
            "Data columns (total 5 columns):\n",
            " #   Column               Non-Null Count  Dtype  \n",
            "---  ------               --------------  -----  \n",
            " 0   Currency             2787 non-null   object \n",
            " 1   Closing Price (USD)  2787 non-null   float64\n",
            " 2   24h Open (USD)       2787 non-null   float64\n",
            " 3   24h High (USD)       2787 non-null   float64\n",
            " 4   24h Low (USD)        2787 non-null   float64\n",
            "dtypes: float64(4), object(1)\n",
            "memory usage: 130.6+ KB\n"
          ]
        }
      ]
    },
    {
      "cell_type": "code",
      "source": [
        "bitcoin_prices = pd.DataFrame(df[\"Closing Price (USD)\"]).rename(columns={\"Closing Price (USD)\": \"Price\"})\n",
        "bitcoin_prices.head()"
      ],
      "metadata": {
        "colab": {
          "base_uri": "https://localhost:8080/",
          "height": 237
        },
        "id": "ctcZDnJ2CdpZ",
        "outputId": "3f904dc8-d4d6-4d90-da19-829b46df5141"
      },
      "execution_count": 6,
      "outputs": [
        {
          "output_type": "execute_result",
          "data": {
            "text/plain": [
              "                Price\n",
              "Date                 \n",
              "2013-10-01  123.65499\n",
              "2013-10-02  125.45500\n",
              "2013-10-03  108.58483\n",
              "2013-10-04  118.67466\n",
              "2013-10-05  121.33866"
            ],
            "text/html": [
              "\n",
              "  <div id=\"df-9779c812-6e38-4f19-bc0c-d7873c5c55b5\" class=\"colab-df-container\">\n",
              "    <div>\n",
              "<style scoped>\n",
              "    .dataframe tbody tr th:only-of-type {\n",
              "        vertical-align: middle;\n",
              "    }\n",
              "\n",
              "    .dataframe tbody tr th {\n",
              "        vertical-align: top;\n",
              "    }\n",
              "\n",
              "    .dataframe thead th {\n",
              "        text-align: right;\n",
              "    }\n",
              "</style>\n",
              "<table border=\"1\" class=\"dataframe\">\n",
              "  <thead>\n",
              "    <tr style=\"text-align: right;\">\n",
              "      <th></th>\n",
              "      <th>Price</th>\n",
              "    </tr>\n",
              "    <tr>\n",
              "      <th>Date</th>\n",
              "      <th></th>\n",
              "    </tr>\n",
              "  </thead>\n",
              "  <tbody>\n",
              "    <tr>\n",
              "      <th>2013-10-01</th>\n",
              "      <td>123.65499</td>\n",
              "    </tr>\n",
              "    <tr>\n",
              "      <th>2013-10-02</th>\n",
              "      <td>125.45500</td>\n",
              "    </tr>\n",
              "    <tr>\n",
              "      <th>2013-10-03</th>\n",
              "      <td>108.58483</td>\n",
              "    </tr>\n",
              "    <tr>\n",
              "      <th>2013-10-04</th>\n",
              "      <td>118.67466</td>\n",
              "    </tr>\n",
              "    <tr>\n",
              "      <th>2013-10-05</th>\n",
              "      <td>121.33866</td>\n",
              "    </tr>\n",
              "  </tbody>\n",
              "</table>\n",
              "</div>\n",
              "    <div class=\"colab-df-buttons\">\n",
              "\n",
              "  <div class=\"colab-df-container\">\n",
              "    <button class=\"colab-df-convert\" onclick=\"convertToInteractive('df-9779c812-6e38-4f19-bc0c-d7873c5c55b5')\"\n",
              "            title=\"Convert this dataframe to an interactive table.\"\n",
              "            style=\"display:none;\">\n",
              "\n",
              "  <svg xmlns=\"http://www.w3.org/2000/svg\" height=\"24px\" viewBox=\"0 -960 960 960\">\n",
              "    <path d=\"M120-120v-720h720v720H120Zm60-500h600v-160H180v160Zm220 220h160v-160H400v160Zm0 220h160v-160H400v160ZM180-400h160v-160H180v160Zm440 0h160v-160H620v160ZM180-180h160v-160H180v160Zm440 0h160v-160H620v160Z\"/>\n",
              "  </svg>\n",
              "    </button>\n",
              "\n",
              "  <style>\n",
              "    .colab-df-container {\n",
              "      display:flex;\n",
              "      gap: 12px;\n",
              "    }\n",
              "\n",
              "    .colab-df-convert {\n",
              "      background-color: #E8F0FE;\n",
              "      border: none;\n",
              "      border-radius: 50%;\n",
              "      cursor: pointer;\n",
              "      display: none;\n",
              "      fill: #1967D2;\n",
              "      height: 32px;\n",
              "      padding: 0 0 0 0;\n",
              "      width: 32px;\n",
              "    }\n",
              "\n",
              "    .colab-df-convert:hover {\n",
              "      background-color: #E2EBFA;\n",
              "      box-shadow: 0px 1px 2px rgba(60, 64, 67, 0.3), 0px 1px 3px 1px rgba(60, 64, 67, 0.15);\n",
              "      fill: #174EA6;\n",
              "    }\n",
              "\n",
              "    .colab-df-buttons div {\n",
              "      margin-bottom: 4px;\n",
              "    }\n",
              "\n",
              "    [theme=dark] .colab-df-convert {\n",
              "      background-color: #3B4455;\n",
              "      fill: #D2E3FC;\n",
              "    }\n",
              "\n",
              "    [theme=dark] .colab-df-convert:hover {\n",
              "      background-color: #434B5C;\n",
              "      box-shadow: 0px 1px 3px 1px rgba(0, 0, 0, 0.15);\n",
              "      filter: drop-shadow(0px 1px 2px rgba(0, 0, 0, 0.3));\n",
              "      fill: #FFFFFF;\n",
              "    }\n",
              "  </style>\n",
              "\n",
              "    <script>\n",
              "      const buttonEl =\n",
              "        document.querySelector('#df-9779c812-6e38-4f19-bc0c-d7873c5c55b5 button.colab-df-convert');\n",
              "      buttonEl.style.display =\n",
              "        google.colab.kernel.accessAllowed ? 'block' : 'none';\n",
              "\n",
              "      async function convertToInteractive(key) {\n",
              "        const element = document.querySelector('#df-9779c812-6e38-4f19-bc0c-d7873c5c55b5');\n",
              "        const dataTable =\n",
              "          await google.colab.kernel.invokeFunction('convertToInteractive',\n",
              "                                                    [key], {});\n",
              "        if (!dataTable) return;\n",
              "\n",
              "        const docLinkHtml = 'Like what you see? Visit the ' +\n",
              "          '<a target=\"_blank\" href=https://colab.research.google.com/notebooks/data_table.ipynb>data table notebook</a>'\n",
              "          + ' to learn more about interactive tables.';\n",
              "        element.innerHTML = '';\n",
              "        dataTable['output_type'] = 'display_data';\n",
              "        await google.colab.output.renderOutput(dataTable, element);\n",
              "        const docLink = document.createElement('div');\n",
              "        docLink.innerHTML = docLinkHtml;\n",
              "        element.appendChild(docLink);\n",
              "      }\n",
              "    </script>\n",
              "  </div>\n",
              "\n",
              "\n",
              "<div id=\"df-d1e91e5c-83e1-4188-aded-ac681ef088b7\">\n",
              "  <button class=\"colab-df-quickchart\" onclick=\"quickchart('df-d1e91e5c-83e1-4188-aded-ac681ef088b7')\"\n",
              "            title=\"Suggest charts\"\n",
              "            style=\"display:none;\">\n",
              "\n",
              "<svg xmlns=\"http://www.w3.org/2000/svg\" height=\"24px\"viewBox=\"0 0 24 24\"\n",
              "     width=\"24px\">\n",
              "    <g>\n",
              "        <path d=\"M19 3H5c-1.1 0-2 .9-2 2v14c0 1.1.9 2 2 2h14c1.1 0 2-.9 2-2V5c0-1.1-.9-2-2-2zM9 17H7v-7h2v7zm4 0h-2V7h2v10zm4 0h-2v-4h2v4z\"/>\n",
              "    </g>\n",
              "</svg>\n",
              "  </button>\n",
              "\n",
              "<style>\n",
              "  .colab-df-quickchart {\n",
              "      --bg-color: #E8F0FE;\n",
              "      --fill-color: #1967D2;\n",
              "      --hover-bg-color: #E2EBFA;\n",
              "      --hover-fill-color: #174EA6;\n",
              "      --disabled-fill-color: #AAA;\n",
              "      --disabled-bg-color: #DDD;\n",
              "  }\n",
              "\n",
              "  [theme=dark] .colab-df-quickchart {\n",
              "      --bg-color: #3B4455;\n",
              "      --fill-color: #D2E3FC;\n",
              "      --hover-bg-color: #434B5C;\n",
              "      --hover-fill-color: #FFFFFF;\n",
              "      --disabled-bg-color: #3B4455;\n",
              "      --disabled-fill-color: #666;\n",
              "  }\n",
              "\n",
              "  .colab-df-quickchart {\n",
              "    background-color: var(--bg-color);\n",
              "    border: none;\n",
              "    border-radius: 50%;\n",
              "    cursor: pointer;\n",
              "    display: none;\n",
              "    fill: var(--fill-color);\n",
              "    height: 32px;\n",
              "    padding: 0;\n",
              "    width: 32px;\n",
              "  }\n",
              "\n",
              "  .colab-df-quickchart:hover {\n",
              "    background-color: var(--hover-bg-color);\n",
              "    box-shadow: 0 1px 2px rgba(60, 64, 67, 0.3), 0 1px 3px 1px rgba(60, 64, 67, 0.15);\n",
              "    fill: var(--button-hover-fill-color);\n",
              "  }\n",
              "\n",
              "  .colab-df-quickchart-complete:disabled,\n",
              "  .colab-df-quickchart-complete:disabled:hover {\n",
              "    background-color: var(--disabled-bg-color);\n",
              "    fill: var(--disabled-fill-color);\n",
              "    box-shadow: none;\n",
              "  }\n",
              "\n",
              "  .colab-df-spinner {\n",
              "    border: 2px solid var(--fill-color);\n",
              "    border-color: transparent;\n",
              "    border-bottom-color: var(--fill-color);\n",
              "    animation:\n",
              "      spin 1s steps(1) infinite;\n",
              "  }\n",
              "\n",
              "  @keyframes spin {\n",
              "    0% {\n",
              "      border-color: transparent;\n",
              "      border-bottom-color: var(--fill-color);\n",
              "      border-left-color: var(--fill-color);\n",
              "    }\n",
              "    20% {\n",
              "      border-color: transparent;\n",
              "      border-left-color: var(--fill-color);\n",
              "      border-top-color: var(--fill-color);\n",
              "    }\n",
              "    30% {\n",
              "      border-color: transparent;\n",
              "      border-left-color: var(--fill-color);\n",
              "      border-top-color: var(--fill-color);\n",
              "      border-right-color: var(--fill-color);\n",
              "    }\n",
              "    40% {\n",
              "      border-color: transparent;\n",
              "      border-right-color: var(--fill-color);\n",
              "      border-top-color: var(--fill-color);\n",
              "    }\n",
              "    60% {\n",
              "      border-color: transparent;\n",
              "      border-right-color: var(--fill-color);\n",
              "    }\n",
              "    80% {\n",
              "      border-color: transparent;\n",
              "      border-right-color: var(--fill-color);\n",
              "      border-bottom-color: var(--fill-color);\n",
              "    }\n",
              "    90% {\n",
              "      border-color: transparent;\n",
              "      border-bottom-color: var(--fill-color);\n",
              "    }\n",
              "  }\n",
              "</style>\n",
              "\n",
              "  <script>\n",
              "    async function quickchart(key) {\n",
              "      const quickchartButtonEl =\n",
              "        document.querySelector('#' + key + ' button');\n",
              "      quickchartButtonEl.disabled = true;  // To prevent multiple clicks.\n",
              "      quickchartButtonEl.classList.add('colab-df-spinner');\n",
              "      try {\n",
              "        const charts = await google.colab.kernel.invokeFunction(\n",
              "            'suggestCharts', [key], {});\n",
              "      } catch (error) {\n",
              "        console.error('Error during call to suggestCharts:', error);\n",
              "      }\n",
              "      quickchartButtonEl.classList.remove('colab-df-spinner');\n",
              "      quickchartButtonEl.classList.add('colab-df-quickchart-complete');\n",
              "    }\n",
              "    (() => {\n",
              "      let quickchartButtonEl =\n",
              "        document.querySelector('#df-d1e91e5c-83e1-4188-aded-ac681ef088b7 button');\n",
              "      quickchartButtonEl.style.display =\n",
              "        google.colab.kernel.accessAllowed ? 'block' : 'none';\n",
              "    })();\n",
              "  </script>\n",
              "</div>\n",
              "\n",
              "    </div>\n",
              "  </div>\n"
            ],
            "application/vnd.google.colaboratory.intrinsic+json": {
              "type": "dataframe",
              "variable_name": "bitcoin_prices",
              "summary": "{\n  \"name\": \"bitcoin_prices\",\n  \"rows\": 2787,\n  \"fields\": [\n    {\n      \"column\": \"Date\",\n      \"properties\": {\n        \"dtype\": \"date\",\n        \"min\": \"2013-10-01 00:00:00\",\n        \"max\": \"2021-05-18 00:00:00\",\n        \"num_unique_values\": 2787,\n        \"samples\": [\n          \"2019-06-11 00:00:00\",\n          \"2021-05-03 00:00:00\",\n          \"2017-10-05 00:00:00\"\n        ],\n        \"semantic_type\": \"\",\n        \"description\": \"\"\n      }\n    },\n    {\n      \"column\": \"Price\",\n      \"properties\": {\n        \"dtype\": \"number\",\n        \"std\": 10887.84744436952,\n        \"min\": 108.58483,\n        \"max\": 63346.7890351052,\n        \"num_unique_values\": 2787,\n        \"samples\": [\n          7954.0062377205,\n          56427.0431250152,\n          4186.78374\n        ],\n        \"semantic_type\": \"\",\n        \"description\": \"\"\n      }\n    }\n  ]\n}"
            }
          },
          "metadata": {},
          "execution_count": 6
        }
      ]
    },
    {
      "cell_type": "code",
      "source": [
        "import matplotlib.pyplot as plt\n",
        "bitcoin_prices.plot(figsize=(10, 7))\n",
        "plt.ylabel(\"BTC Price\")\n",
        "plt.title(\"Price of Bitcoin from 1 Oct 2013 to 18 May 2021\", fontsize=16)\n",
        "plt.legend(fontsize=14);"
      ],
      "metadata": {
        "colab": {
          "base_uri": "https://localhost:8080/",
          "height": 570
        },
        "id": "FSMntJoNCj6s",
        "outputId": "1b0d698f-d562-40ce-fdc0-d601b3bdee3a"
      },
      "execution_count": 7,
      "outputs": [
        {
          "output_type": "display_data",
          "data": {
            "text/plain": [
              "<Figure size 1000x700 with 1 Axes>"
            ],
            "image/png": "[encoded data removed]"
          },
          "metadata": {}
        }
      ]
    },
    {
      "cell_type": "code",
      "source": [],
      "metadata": {
        "id": "LEfiEKzyCj34"
      },
      "execution_count": 7,
      "outputs": []
    },
    {
      "cell_type": "code",
      "source": [
        "df.index.to_numpy()"
      ],
      "metadata": {
        "id": "cllc998KCj1A",
        "colab": {
          "base_uri": "https://localhost:8080/"
        },
        "outputId": "d8f2be1f-bd64-40ec-e003-6edb6544eb7b"
      },
      "execution_count": 8,
      "outputs": [
        {
          "output_type": "execute_result",
          "data": {
            "text/plain": [
              "array(['2013-10-01T00:00:00.000000000', '2013-10-02T00:00:00.000000000',\n",
              "       '2013-10-03T00:00:00.000000000', ...,\n",
              "       '2021-05-16T00:00:00.000000000', '2021-05-17T00:00:00.000000000',\n",
              "       '2021-05-18T00:00:00.000000000'], dtype='datetime64[ns]')"
            ]
          },
          "metadata": {},
          "execution_count": 8
        }
      ]
    },
    {
      "cell_type": "code",
      "source": [
        "# Importing and formatting historical Bitcoin data with Python\n",
        "timesteps=df.index.to_numpy()\n",
        "btc_price=df[\"Closing Price (USD)\"].to_numpy()"
      ],
      "metadata": {
        "id": "oz2F9Qlwz2V8"
      },
      "execution_count": 9,
      "outputs": []
    },
    {
      "cell_type": "code",
      "source": [
        "\n",
        "# Plot from CSV\n",
        "import matplotlib.pyplot as plt\n",
        "import numpy as np\n",
        "plt.figure(figsize=(10, 7))\n",
        "plt.plot(timesteps, btc_price)\n",
        "plt.title(\"Price of Bitcoin from 1 Oct 2013 to 18 May 2021\", fontsize=16)\n",
        "plt.xlabel(\"Date\")\n",
        "plt.ylabel(\"BTC Price\");"
      ],
      "metadata": {
        "colab": {
          "base_uri": "https://localhost:8080/",
          "height": 570
        },
        "id": "1xepTfqV1t9h",
        "outputId": "bb31e01e-e4fd-4724-aa8d-7495213bc22a"
      },
      "execution_count": 10,
      "outputs": [
        {
          "output_type": "display_data",
          "data": {
            "text/plain": [
              "<Figure size 1000x700 with 1 Axes>"
            ],
            "image/png": "[encoded data removed]"
          },
          "metadata": {}
        }
      ]
    },
    {
      "cell_type": "code",
      "source": [],
      "metadata": {
        "id": "WjoJ6hHTzheZ"
      },
      "execution_count": 10,
      "outputs": []
    },
    {
      "cell_type": "code",
      "source": [
        "# without using pandas\n",
        "import csv\n",
        "import datetime\n",
        "timesteps=[]\n",
        "btc_prices=[]\n",
        "with open(\"/content/BTC_USD_2013-10-01_2021-05-18-CoinDesk.csv\",\"r\") as f:\n",
        "  csv_reader= csv.reader(f,delimiter=\",\")\n",
        "  next(csv_reader)\n",
        "  for line in csv_reader:\n",
        "    timesteps.append(datetime.datetime.strptime(line[1],\"%Y-%m-%d\"))\n",
        "    btc_prices.append(float(line[2]))\n"
      ],
      "metadata": {
        "id": "Zbdf0lMpHoCY"
      },
      "execution_count": 11,
      "outputs": []
    },
    {
      "cell_type": "code",
      "source": [
        "plt.figure(figsize=(10,7))\n",
        "plt.plot(timesteps,btc_prices)\n",
        "plt.ylabel(\"BTC Prices\")\n",
        "plt.xlabel(\"date\")\n",
        "plt.legend()"
      ],
      "metadata": {
        "colab": {
          "base_uri": "https://localhost:8080/",
          "height": 604
        },
        "id": "4jlvaYbo9RAR",
        "outputId": "4d1f504a-0512-42e2-c88c-74318a19c2a7"
      },
      "execution_count": 12,
      "outputs": [
        {
          "output_type": "stream",
          "name": "stderr",
          "text": [
            "WARNING:matplotlib.legend:No artists with labels found to put in legend.  Note that artists whose label start with an underscore are ignored when legend() is called with no argument.\n"
          ]
        },
        {
          "output_type": "execute_result",
          "data": {
            "text/plain": [
              "<matplotlib.legend.Legend at 0x7eba94875690>"
            ]
          },
          "metadata": {},
          "execution_count": 12
        },
        {
          "output_type": "display_data",
          "data": {
            "text/plain": [
              "<Figure size 1000x700 with 1 Axes>"
            ],
            "image/png": "[encoded data removed]"
          },
          "metadata": {}
        }
      ]
    },
    {
      "cell_type": "code",
      "source": [
        "#How to split this date, it cannot be shuffled\n",
        "from sklearn.model_selection import train_test_split\n",
        "timesteps=df.index.to_numpy()\n",
        "prices=df['Closing Price (USD)'].to_numpy()\n",
        "\n",
        "X_train, X_test, y_train, y_test = train_test_split(timesteps,prices,\n",
        "                                                    test_size=0.2,\n",
        "                                                    random_state=42)\n",
        "X_train.shape, X_test.shape, y_train.shape,y_test.shape\n"
      ],
      "metadata": {
        "colab": {
          "base_uri": "https://localhost:8080/"
        },
        "id": "SVMSMhYG-7mD",
        "outputId": "cef7b8e2-5e1d-4001-a4c1-caa571ca9a38"
      },
      "execution_count": 13,
      "outputs": [
        {
          "output_type": "execute_result",
          "data": {
            "text/plain": [
              "((2229,), (558,), (2229,), (558,))"
            ]
          },
          "metadata": {},
          "execution_count": 13
        }
      ]
    },
    {
      "cell_type": "code",
      "source": [
        "# lets plot wrong train_test_split\n",
        "plt.figure(figsize=(10,7))\n",
        "plt.scatter(X_train,y_train,s=5,label=\"Train Data\")\n",
        "plt.scatter(X_test,y_test,s=5,label=\"Train Data\")\n",
        "plt.legend()"
      ],
      "metadata": {
        "colab": {
          "base_uri": "https://localhost:8080/",
          "height": 561
        },
        "id": "dGj9dX4xEsK9",
        "outputId": "e25377e4-3c85-4117-d68a-6c74a82dff4e"
      },
      "execution_count": 14,
      "outputs": [
        {
          "output_type": "execute_result",
          "data": {
            "text/plain": [
              "<matplotlib.legend.Legend at 0x7eba8ae4fdf0>"
            ]
          },
          "metadata": {},
          "execution_count": 14
        },
        {
          "output_type": "display_data",
          "data": {
            "text/plain": [
              "<Figure size 1000x700 with 1 Axes>"
            ],
            "image/png": "[encoded data removed]"
          },
          "metadata": {}
        }
      ]
    },
    {
      "cell_type": "code",
      "source": [
        "# why is this wrong way to split data.\n",
        "# this is a Random split             --*---**---**---*------*-----***--*\n",
        "# this is a Time Series split        -------------------------**********\n",
        "\n",
        "\n",
        "#create train and test splits the right way for timeseriesdata\n",
        "split_size=int(0.8 * len(prices))\n",
        "\n",
        "# create train data splits\n",
        "X_train,y_train=timesteps[:split_size],prices[:split_size]\n",
        "X_test,y_test=timesteps[split_size:],prices[split_size:]"
      ],
      "metadata": {
        "id": "9-8Y_SmHF6e7"
      },
      "execution_count": 15,
      "outputs": []
    },
    {
      "cell_type": "code",
      "source": [
        "# lets plot wrong train_test_split\n",
        "plt.figure(figsize=(10,7))\n",
        "plt.scatter(X_train,y_train,s=5,label=\"Train Data\")\n",
        "plt.scatter(X_test,y_test,s=5,label=\"Train Data\")\n",
        "plt.legend()"
      ],
      "metadata": {
        "colab": {
          "base_uri": "https://localhost:8080/",
          "height": 561
        },
        "id": "__mc3yHMJlJN",
        "outputId": "e5bba2e5-606d-46dc-b593-1c78a349c5b6"
      },
      "execution_count": 16,
      "outputs": [
        {
          "output_type": "execute_result",
          "data": {
            "text/plain": [
              "<matplotlib.legend.Legend at 0x7eba8a9b3370>"
            ]
          },
          "metadata": {},
          "execution_count": 16
        },
        {
          "output_type": "display_data",
          "data": {
            "text/plain": [
              "<Figure size 1000x700 with 1 Axes>"
            ],
            "image/png": "[encoded data removed]"
          },
          "metadata": {}
        }
      ]
    },
    {
      "cell_type": "code",
      "source": [
        "def plot_time_series(timesteps, values, format='.', start=0, end=None, label=None):\n",
        "  \"\"\"\n",
        "  Plots a timesteps (a series of points in time) against values (a series of values across timesteps).\n",
        "\n",
        "  Parameters\n",
        "  ---------\n",
        "  timesteps : array of timesteps\n",
        "  values : array of values across time\n",
        "  format : style of plot, default \".\"\n",
        "  start : where to start the plot (setting a value will index from start of timesteps & values)\n",
        "  end : where to end the plot (setting a value will index from end of timesteps & values)\n",
        "  label : label to show on plot of values\n",
        "  \"\"\"\n",
        "  # Plot the series\n",
        "  plt.plot(timesteps[start:end], values[start:end], format, label=label)\n",
        "  plt.xlabel(\"Time\")\n",
        "  plt.ylabel(\"BTC Price\")\n",
        "  if label:\n",
        "    plt.legend(fontsize=14) # make label bigger\n",
        "  plt.grid(True)"
      ],
      "metadata": {
        "id": "lbKjGkHhJlC9"
      },
      "execution_count": 17,
      "outputs": []
    },
    {
      "cell_type": "code",
      "source": [],
      "metadata": {
        "id": "bh0IxlMwJlAF"
      },
      "execution_count": 17,
      "outputs": []
    },
    {
      "cell_type": "code",
      "source": [],
      "metadata": {
        "id": "TRieOBs7Jk4t"
      },
      "execution_count": 17,
      "outputs": []
    },
    {
      "cell_type": "code",
      "source": [
        "# how is lstm goiing to predict this\n",
        "# how will any other ml algorithm predict this"
      ],
      "metadata": {
        "id": "dVtULkSEC9XR"
      },
      "execution_count": 18,
      "outputs": []
    },
    {
      "cell_type": "markdown",
      "source": [
        "# some Terms to Familiarize,\n",
        "\n",
        "*   Horizon = Number of timesteps into the future we're going to prediict\n",
        "\n",
        "*   Window_size= number of timesteps we're going to use to predict the horizon\n",
        "\n",
        "\n"
      ],
      "metadata": {
        "id": "lx72H6uGahi1"
      }
    },
    {
      "cell_type": "markdown",
      "source": [
        "Modelling Experiments\n",
        "\n",
        "We can build almost any kind of model for our problem as long as the data inputs and outputs are formatted correctly.\n",
        "\n",
        "However, just because we can build almost any kind of model, doesn't mean it'll perform well/should be used in a production setting.\n",
        "\n",
        "We'll see what this means as we build and evaluate models throughout.\n",
        "\n",
        "Before we discuss what modelling experiments we're going to run, there are two terms you should be familiar with, horizon and window.\n",
        "\n",
        "    horizon = number of timesteps to predict into future\n",
        "    window = number of timesteps from past used to predict horizon\n",
        "\n",
        "For example, if we wanted to predict the price of Bitcoin for tomorrow (1 day in the future) using the previous week's worth of Bitcoin prices (7 days in the past), the horizon would be 1 and the window would be 7.\n",
        "\n",
        "Now, how about those modelling experiments?\n",
        "Model Number \tModel Type \tHorizon size \tWindow size \tExtra data\n",
        "0 \tNaïve model (baseline) \tNA \tNA \tNA\n",
        "1 \tDense model \t1 \t7 \tNA\n",
        "2 \tSame as 1 \t1 \t30 \tNA\n",
        "3 \tSame as 1 \t7 \t30 \tNA\n",
        "4 \tConv1D \t1 \t7 \tNA\n",
        "5 \tLSTM \t1 \t7 \tNA\n",
        "6 \tSame as 1 (but with multivariate data) \t1 \t7 \tBlock reward size\n",
        "7 \tN-BEATs Algorithm \t1 \t7 \tNA\n",
        "8 \tEnsemble (multiple models optimized on different loss functions) \t1 \t7 \tNA\n",
        "9 \tFuture prediction model (model to predict future values) \t1 \t7 \tNA\n",
        "10 \tSame as 1 (but with turkey 🦃 data introduced) \t1 \t7 \tNA\n",
        "\n",
        "    🔑 Note: To reiterate, as you can see, we can build many types of models for the data we're working with. But that doesn't mean that they'll perform well. Deep learning is a powerful technique but it doesn't always work. And as always, start with a simple model first and then add complexity as needed.\n",
        "\n",
        "Model 0: Naïve forecast (baseline)\n",
        "\n",
        "As usual, let's start with a baseline.\n",
        "\n",
        "One of the most common baseline models for time series forecasting, the naïve model (also called the naïve forecast), requires no training at all.\n",
        "\n",
        "That's because all the naïve model does is use the previous timestep value to predict the next timestep value.\n",
        "\n",
        "The formula looks like this:\n",
        "\n",
        "In English:\n",
        "\n",
        "    The prediction at timestep t (y-hat) is equal to the value at timestep t-1 (the previous timestep).\n",
        "\n",
        "Sound simple?\n",
        "\n",
        "Maybe not.\n",
        "\n",
        "In an open system (like a stock market or crypto market), you'll often find beating the naïve forecast with any kind of model is quite hard.\n",
        "\n",
        "    🔑 Note: For the sake of this notebook, an open system is a system where inputs and outputs can freely flow, such as a market (stock or crypto). Where as, a closed system the inputs and outputs are contained within the system (like a poker game with your buddies, you know the buy in and you know how much the winner can get). Time series forecasting in open systems is generally quite poor.\n"
      ],
      "metadata": {
        "id": "9OyKdPGSa6Cv"
      }
    },
    {
      "cell_type": "markdown",
      "source": [
        "#Naive Model\n",
        "y<sub>t</sub> = y <sub>t-1</sub>\n",
        "\n",
        "\n",
        "\n"
      ],
      "metadata": {
        "id": "XgkIeyXLRBR8"
      }
    },
    {
      "cell_type": "code",
      "source": [
        "def make_preds(model, input_data):\n",
        "  \"\"\"\n",
        "  Uses model to make predictions on input_data.\n",
        "\n",
        "  Parameters\n",
        "  ----------\n",
        "  model: trained model\n",
        "  input_data: windowed input data (same kind of data model was trained on)\n",
        "\n",
        "  Returns model predictions on input_data.\n",
        "  \"\"\"\n",
        "  forecast = model.predict(input_data)\n",
        "  return tf.squeeze(forecast) # return 1D array of predictions\n"
      ],
      "metadata": {
        "id": "ZNcJ1Guf2Flm"
      },
      "execution_count": 19,
      "outputs": []
    },
    {
      "cell_type": "code",
      "source": [],
      "metadata": {
        "id": "4cf400VY2Fav"
      },
      "execution_count": 19,
      "outputs": []
    },
    {
      "cell_type": "code",
      "source": [
        "# Create a naïve forecast\n",
        "naive_forecast = y_test[:-1] # Naïve forecast equals every value excluding the last value\n",
        "naive_forecast[:10], naive_forecast[-10:] # View frist 10 and last 10"
      ],
      "metadata": {
        "id": "BUfriBdwRAcV",
        "colab": {
          "base_uri": "https://localhost:8080/"
        },
        "outputId": "bfbf71ea-ba85-4c9d-8048-a7d62ac9268d"
      },
      "execution_count": 20,
      "outputs": [
        {
          "output_type": "execute_result",
          "data": {
            "text/plain": [
              "(array([9226.48582088, 8794.35864452, 8798.04205463, 9081.18687849,\n",
              "        8711.53433917, 8760.89271814, 8749.52059102, 8656.97092235,\n",
              "        8500.64355816, 8469.2608989 ]),\n",
              " array([57107.12067189, 58788.20967893, 58102.19142623, 55715.54665129,\n",
              "        56573.5554719 , 52147.82118698, 49764.1320816 , 50032.69313676,\n",
              "        47885.62525472, 45604.61575361]))"
            ]
          },
          "metadata": {},
          "execution_count": 20
        }
      ]
    },
    {
      "cell_type": "code",
      "source": [
        "plt.figure(figsize=(10, 7))\n",
        "plot_time_series(timesteps=X_train, values=y_train, label=\"Train data\")\n",
        "plot_time_series(timesteps=X_test, values=y_test, label=\"Test data\")\n",
        "plot_time_series(timesteps=X_test[1:], values=naive_forecast, format=\"-\", label=\"Naive forecast\");"
      ],
      "metadata": {
        "id": "EhgJqgzmDOKT",
        "colab": {
          "base_uri": "https://localhost:8080/",
          "height": 549
        },
        "outputId": "00512259-39d8-45b3-9efb-40a3e164150c"
      },
      "execution_count": 21,
      "outputs": [
        {
          "output_type": "display_data",
          "data": {
            "text/plain": [
              "<Figure size 1000x700 with 1 Axes>"
            ],
            "image/png": "[encoded data removed]"
          },
          "metadata": {}
        }
      ]
    },
    {
      "cell_type": "markdown",
      "source": [
        "# Metrics for measuring error\n",
        "* mse\n",
        "* mae\n",
        "* rmse\n",
        "* mape/sMape\n",
        "* MASE"
      ],
      "metadata": {
        "id": "U97oBVyYHlrU"
      }
    },
    {
      "cell_type": "code",
      "source": [
        "# MASE implemented courtesy of sktime - https://github.com/alan-turing-institute/sktime/blob/ee7a06843a44f4aaec7582d847e36073a9ab0566/sktime/performance_metrics/forecasting/_functions.py#L16\n",
        "def mean_absolute_scaled_error(y_true, y_pred):\n",
        "  \"\"\"\n",
        "  Implement MASE (assuming no seasonality of data).\n",
        "  \"\"\"\n",
        "  mae = tf.reduce_mean(tf.abs(y_true - y_pred))\n",
        "\n",
        "  # Find MAE of naive forecast (no seasonality)\n",
        "  mae_naive_no_season = tf.reduce_mean(tf.abs(y_true[1:] - y_true[:-1])) # our seasonality is 1 day (hence the shifting of 1 day)\n",
        "\n",
        "  return mae / mae_naive_no_season"
      ],
      "metadata": {
        "id": "5oHqqpMSaeH9"
      },
      "execution_count": 22,
      "outputs": []
    },
    {
      "cell_type": "code",
      "source": [
        "def evaluate_preds(y_true, y_pred):\n",
        "  # Make sure float32 (for metric calculations)\n",
        "  y_true = tf.cast(y_true, dtype=tf.float32)\n",
        "  y_pred = tf.cast(y_pred, dtype=tf.float32)\n",
        "\n",
        "  # Calculate various metrics\n",
        "  mae = tf.keras.metrics.mean_absolute_error(y_true, y_pred)\n",
        "  mse = tf.keras.metrics.mean_squared_error(y_true, y_pred) # puts and emphasis on outliers (all errors get squared)\n",
        "  rmse = tf.sqrt(mse)\n",
        "  mape = tf.keras.metrics.mean_absolute_percentage_error(y_true, y_pred)\n",
        "  mase = mean_absolute_scaled_error(y_true, y_pred)\n",
        "  if mae.ndim>0:\n",
        "    mae = tf.reduce_mean(mae)\n",
        "    mse = tf.reduce_mean(mse)\n",
        "    rmse = tf.reduce_mean(rmse)\n",
        "    mape = tf.reduce_mean(mape)\n",
        "    mase = tf.reduce_mean(mase)\n",
        "\n",
        "\n",
        "  return {\"mae\": mae.numpy(),\n",
        "          \"mse\": mse.numpy(),\n",
        "          \"rmse\": rmse.numpy(),\n",
        "          \"mape\": mape.numpy(),\n",
        "          \"mase\": mase.numpy()}"
      ],
      "metadata": {
        "id": "bBz-JeMLaeAD"
      },
      "execution_count": 23,
      "outputs": []
    },
    {
      "cell_type": "code",
      "source": [
        "import tensorflow as tf\n",
        "naive_results = evaluate_preds(y_true=y_test[1:],\n",
        "                               y_pred=naive_forecast)\n",
        "naive_results"
      ],
      "metadata": {
        "id": "zumEeHqNad9L",
        "colab": {
          "base_uri": "https://localhost:8080/"
        },
        "outputId": "59fd103f-e9e3-4614-8f75-289e7e174ca3"
      },
      "execution_count": 24,
      "outputs": [
        {
          "output_type": "execute_result",
          "data": {
            "text/plain": [
              "{'mae': 567.9802,\n",
              " 'mse': 1147547.0,\n",
              " 'rmse': 1071.2362,\n",
              " 'mape': 2.516525,\n",
              " 'mase': 0.99957}"
            ]
          },
          "metadata": {},
          "execution_count": 24
        }
      ]
    },
    {
      "cell_type": "code",
      "source": [
        "# Find average price of Bitcoin in test dataset\n",
        "tf.reduce_mean(y_test).numpy()"
      ],
      "metadata": {
        "id": "7lXv5u3jad5-",
        "colab": {
          "base_uri": "https://localhost:8080/"
        },
        "outputId": "d38de6d2-d065-43cf-afdd-04ecfd36813c"
      },
      "execution_count": 25,
      "outputs": [
        {
          "output_type": "execute_result",
          "data": {
            "text/plain": [
              "20056.632963737222"
            ]
          },
          "metadata": {},
          "execution_count": 25
        }
      ]
    },
    {
      "cell_type": "code",
      "source": [
        "# MASE implemented courtesy of sktime - https://github.com/alan-turing-institute/sktime/blob/ee7a06843a44f4aaec7582d847e36073a9ab0566/sktime/performance_metrics/forecasting/_functions.py#L16\n",
        "def mean_absolute_scaled_error(y_true, y_pred):\n",
        "  \"\"\"\n",
        "  Implement MASE (assuming no seasonality of data).\n",
        "  \"\"\"\n",
        "  mae = tf.reduce_mean(tf.abs(y_true - y_pred))\n",
        "\n",
        "  # Find MAE of naive forecast (no seasonality)\n",
        "  mae_naive_no_season = tf.reduce_mean(tf.abs(y_true[1:] - y_true[:-1])) # our seasonality is 1 day (hence the shifting of 1 day)\n",
        "\n",
        "  return mae / mae_naive_no_season"
      ],
      "metadata": {
        "id": "UnUnsjL6XqUJ"
      },
      "execution_count": 26,
      "outputs": []
    },
    {
      "cell_type": "code",
      "source": [
        "\n",
        "\n",
        "def evaluate_preds(y_true, y_pred):\n",
        "  # Make sure float32 (for metric calculations)\n",
        "  y_true = tf.cast(y_true, dtype=tf.float32)\n",
        "  y_pred = tf.cast(y_pred, dtype=tf.float32)\n",
        "\n",
        "  # Calculate various metrics\n",
        "  mae = tf.keras.metrics.mean_absolute_error(y_true, y_pred)\n",
        "  mse = tf.keras.metrics.mean_squared_error(y_true, y_pred) # puts and emphasis on outliers (all errors get squared)\n",
        "  rmse = tf.sqrt(mse)\n",
        "  mape = tf.keras.metrics.mean_absolute_percentage_error(y_true, y_pred)\n",
        "  mase = mean_absolute_scaled_error(y_true, y_pred)\n",
        "\n",
        "  return {\"mae\": mae.numpy(),\n",
        "          \"mse\": mse.numpy(),\n",
        "          \"rmse\": rmse.numpy(),\n",
        "          \"mape\": mape.numpy(),\n",
        "          \"mase\": mase.numpy()}\n",
        "\n"
      ],
      "metadata": {
        "id": "dyixgB_hXqRp"
      },
      "execution_count": 27,
      "outputs": []
    },
    {
      "cell_type": "code",
      "source": [
        "\n",
        "\n",
        "naive_results = evaluate_preds(y_true=y_test[1:],\n",
        "                               y_pred=naive_forecast)\n",
        "naive_results\n",
        "\n"
      ],
      "metadata": {
        "colab": {
          "base_uri": "https://localhost:8080/"
        },
        "id": "Me61JpHpXqO8",
        "outputId": "b6331ea3-b288-4b82-bbc4-4945904a443d"
      },
      "execution_count": 28,
      "outputs": [
        {
          "output_type": "execute_result",
          "data": {
            "text/plain": [
              "{'mae': 567.9802,\n",
              " 'mse': 1147547.0,\n",
              " 'rmse': 1071.2362,\n",
              " 'mape': 2.516525,\n",
              " 'mase': 0.99957}"
            ]
          },
          "metadata": {},
          "execution_count": 28
        }
      ]
    },
    {
      "cell_type": "code",
      "source": [
        "#what do we want toi do with our bitcoin data\n",
        "print(f\"We want to use: {btc_price[:7]} to predict this: {btc_price[7]}\")"
      ],
      "metadata": {
        "id": "T4pW9SFfXqMi",
        "colab": {
          "base_uri": "https://localhost:8080/"
        },
        "outputId": "c65f2d56-932f-4016-83cb-b18d6abec3d9"
      },
      "execution_count": 29,
      "outputs": [
        {
          "output_type": "stream",
          "name": "stdout",
          "text": [
            "We want to use: [123.65499 125.455   108.58483 118.67466 121.33866 120.65533 121.795  ] to predict this: 123.033\n"
          ]
        }
      ]
    },
    {
      "cell_type": "code",
      "source": [],
      "metadata": {
        "id": "TZOMNUrRXqJ9"
      },
      "execution_count": 29,
      "outputs": []
    },
    {
      "cell_type": "code",
      "source": [
        "0.#create function to label windowed dataa\n",
        "btc_price[:10]"
      ],
      "metadata": {
        "colab": {
          "base_uri": "https://localhost:8080/"
        },
        "id": "hWyoXUpYNNBV",
        "outputId": "0011f110-8b75-491a-d984-ba0224d25fd6"
      },
      "execution_count": 30,
      "outputs": [
        {
          "output_type": "execute_result",
          "data": {
            "text/plain": [
              "array([123.65499, 125.455  , 108.58483, 118.67466, 121.33866, 120.65533,\n",
              "       121.795  , 123.033  , 124.049  , 125.96116])"
            ]
          },
          "metadata": {},
          "execution_count": 30
        }
      ]
    },
    {
      "cell_type": "code",
      "source": [
        "btc_price[:-7]"
      ],
      "metadata": {
        "colab": {
          "base_uri": "https://localhost:8080/"
        },
        "id": "5nSNPvDFHHqL",
        "outputId": "49029fed-c010-49a7-c1fe-f93d14c6035d"
      },
      "execution_count": 31,
      "outputs": [
        {
          "output_type": "execute_result",
          "data": {
            "text/plain": [
              "array([  123.65499   ,   125.455     ,   108.58483   , ...,\n",
              "       58788.20967893, 58102.19142623, 55715.54665129])"
            ]
          },
          "metadata": {},
          "execution_count": 31
        }
      ]
    },
    {
      "cell_type": "code",
      "source": [
        "#lets setup global variables for window and horizon size\n",
        "HORIZON=1\n",
        "WINDOW_SIZE=7\n",
        "\n",
        "def get_labelled_window(x, horizon=HORIZON):\n",
        "\n",
        "  \"\"\"\n",
        "  crteates labelled data\n",
        "  if horizon =1\n",
        "  input=[1,2,3,4,5,6]  output: ([1, 2, 3, 4, 5, 6],[7])\n",
        "  \"\"\"\n",
        "\n",
        "  return x[:,:-horizon], x[:,-horizon:]"
      ],
      "metadata": {
        "id": "bSJJ_c79NjKe"
      },
      "execution_count": 32,
      "outputs": []
    },
    {
      "cell_type": "code",
      "source": [
        "# print(f\"we want ot use: {btc_price[:,:-5]}\\n to predict: {btc_price[5]}\")"
      ],
      "metadata": {
        "id": "PfVkRXnMQGTK"
      },
      "execution_count": 33,
      "outputs": []
    },
    {
      "cell_type": "code",
      "source": [
        "test_window,test_label=get_labelled_window(tf.expand_dims(tf.range(8),axis=0))"
      ],
      "metadata": {
        "id": "bgI0Ras_Qran"
      },
      "execution_count": 34,
      "outputs": []
    },
    {
      "cell_type": "code",
      "source": [
        "print(f\" this is {test_window} to predict {test_label}\")"
      ],
      "metadata": {
        "id": "IPdRZyK1QHk5",
        "colab": {
          "base_uri": "https://localhost:8080/"
        },
        "outputId": "718bcc7b-3a6f-4c88-dc69-4bba6d0817f6"
      },
      "execution_count": 35,
      "outputs": [
        {
          "output_type": "stream",
          "name": "stdout",
          "text": [
            " this is [[0 1 2 3 4 5 6]] to predict [[7]]\n"
          ]
        }
      ]
    },
    {
      "cell_type": "code",
      "source": [
        "print(f\" this is {tf.squeeze(test_window)} to predict {tf.squeeze(test_label)}\")"
      ],
      "metadata": {
        "id": "DwwyPbTNqjGA",
        "colab": {
          "base_uri": "https://localhost:8080/"
        },
        "outputId": "69cf671e-bebc-4592-b03e-28a7e99ed16a"
      },
      "execution_count": 36,
      "outputs": [
        {
          "output_type": "stream",
          "name": "stdout",
          "text": [
            " this is [0 1 2 3 4 5 6] to predict 7\n"
          ]
        }
      ]
    },
    {
      "cell_type": "markdown",
      "source": [
        "Our Function will\n",
        "1. Create a window srep of specific window size eg ([1,2,3,4,5,6])\n",
        "2.\n",
        "Use numPy indexing to create a 2D array of multiple window steps, for example:\n",
        "```\n",
        "[\n",
        "[0,1,2,3,4,5,6],\n",
        "[1,2,3,4,5,6,7],\n",
        "[2,3,4,5,6,7,8],\n",
        "]\n",
        "```\n",
        "3. Uses the 2D array of multiple window step (from 2.) to index on a target series (e.g. the historical price of bitcoin)\n",
        "4. Uses out 1get labelled_windows()` finction we created above to turn the window steps into windows with specified horizon"
      ],
      "metadata": {
        "id": "31w7M0OZ7LCP"
      }
    },
    {
      "cell_type": "code",
      "source": [
        "# fast and robust sliding eindow optimization\n",
        "# https://towardsdatascience.com/fast-and-robust-sliding-window-vectorization-with-numpy-3ad950ed62f5"
      ],
      "metadata": {
        "id": "FFPoJQ4pMYcA"
      },
      "execution_count": 37,
      "outputs": []
    },
    {
      "cell_type": "code",
      "source": [
        "window_size=7\n",
        "horizon=1\n",
        "window_step = np.expand_dims(np.arange(window_size+horizon),axis=0)"
      ],
      "metadata": {
        "id": "5ZQ9aSnMHoLF"
      },
      "execution_count": 38,
      "outputs": []
    },
    {
      "cell_type": "code",
      "source": [
        "window_step"
      ],
      "metadata": {
        "colab": {
          "base_uri": "https://localhost:8080/"
        },
        "id": "0NjEpMZuH53x",
        "outputId": "d4428b34-97a5-45bd-b06c-a7781d684495"
      },
      "execution_count": 39,
      "outputs": [
        {
          "output_type": "execute_result",
          "data": {
            "text/plain": [
              "array([[0, 1, 2, 3, 4, 5, 6, 7]])"
            ]
          },
          "metadata": {},
          "execution_count": 39
        }
      ]
    },
    {
      "cell_type": "code",
      "source": [],
      "metadata": {
        "id": "yuFCfZNpH-MB"
      },
      "execution_count": 39,
      "outputs": []
    },
    {
      "cell_type": "code",
      "source": [],
      "metadata": {
        "id": "4to28h3JtIgQ"
      },
      "execution_count": 39,
      "outputs": []
    },
    {
      "cell_type": "code",
      "source": [],
      "metadata": {
        "id": "IqnLVD2_tQiA"
      },
      "execution_count": 39,
      "outputs": []
    },
    {
      "cell_type": "code",
      "source": [
        "# create a function toview numpy arrays as windows\n",
        "def make_window(x,window_size=WINDOW_SIZE,horizon=HORIZON):\n",
        "  window_step = np.expand_dims(np.arange(window_size+horizon),axis=0)\n",
        "\n",
        "  window_indexes=window_step+np.expand_dims(np.arange(len(x)-(window_size+horizon-1)),axis=0).T\n",
        "\n",
        "  windowed_array=x[window_indexes]\n",
        "\n",
        "  windows,labels = get_labelled_window(x=windowed_array,horizon=horizon)\n",
        "  return windows,labels"
      ],
      "metadata": {
        "id": "EhOGiqEANJ1G"
      },
      "execution_count": 40,
      "outputs": []
    },
    {
      "cell_type": "code",
      "source": [
        "# window_step = np.expand_dims(np.arange(WINDOW_SIZE+HORIZON),axis=0)"
      ],
      "metadata": {
        "id": "jh_n43qOnrKT"
      },
      "execution_count": 41,
      "outputs": []
    },
    {
      "cell_type": "code",
      "source": [
        "# window_indexes=window_step + np.expand_dims(np.arange(len(btc_price)-7),axis=0)"
      ],
      "metadata": {
        "id": "hR0gfhy7nrGc"
      },
      "execution_count": 42,
      "outputs": []
    },
    {
      "cell_type": "code",
      "source": [
        "full_windows,full_labels = make_window(btc_price,WINDOW_SIZE,HORIZON)"
      ],
      "metadata": {
        "id": "nRadS7YnogAZ"
      },
      "execution_count": 43,
      "outputs": []
    },
    {
      "cell_type": "code",
      "source": [
        "def make_train_test_split(x,label,test_split=0.2):\n",
        "  \"\"\"\n",
        "  splitting time series data in a sequential manner (temporal data)\n",
        "  \"\"\"\n",
        "  split_size=int(len(x)*(1-test_split))\n",
        "  train_window = x[:split_size]\n",
        "  train_label = label[:split_size]\n",
        "  test_window = x[split_size:]\n",
        "  test_label = label[split_size:]\n",
        "  return train_window, train_label, test_window, test_label"
      ],
      "metadata": {
        "id": "NFigCRdWuH_-"
      },
      "execution_count": 44,
      "outputs": []
    },
    {
      "cell_type": "code",
      "source": [
        "train_window, train_label, test_window, test_label = make_train_test_split(full_windows,full_labels)"
      ],
      "metadata": {
        "id": "nAZCG4vzuH9g"
      },
      "execution_count": 45,
      "outputs": []
    },
    {
      "cell_type": "code",
      "source": [
        "len(train_window)"
      ],
      "metadata": {
        "id": "Zqvz36i9t80-",
        "colab": {
          "base_uri": "https://localhost:8080/"
        },
        "outputId": "13e37341-a1ed-4f84-e15f-1ae912362ec5"
      },
      "execution_count": 46,
      "outputs": [
        {
          "output_type": "execute_result",
          "data": {
            "text/plain": [
              "2224"
            ]
          },
          "metadata": {},
          "execution_count": 46
        }
      ]
    },
    {
      "cell_type": "code",
      "source": [
        "len(full_windows)"
      ],
      "metadata": {
        "colab": {
          "base_uri": "https://localhost:8080/"
        },
        "id": "gV8i_hUKUYvL",
        "outputId": "d8213991-1cfd-482f-f286-9ad2cf974f92"
      },
      "execution_count": 47,
      "outputs": [
        {
          "output_type": "execute_result",
          "data": {
            "text/plain": [
              "2780"
            ]
          },
          "metadata": {},
          "execution_count": 47
        }
      ]
    },
    {
      "cell_type": "code",
      "source": [
        "len(full_windows)*0.8"
      ],
      "metadata": {
        "colab": {
          "base_uri": "https://localhost:8080/"
        },
        "id": "eF2OuI7pUcRj",
        "outputId": "b26b4c3a-25a0-43ce-eb0b-030f6a640d1f"
      },
      "execution_count": 48,
      "outputs": [
        {
          "output_type": "execute_result",
          "data": {
            "text/plain": [
              "2224.0"
            ]
          },
          "metadata": {},
          "execution_count": 48
        }
      ]
    },
    {
      "cell_type": "markdown",
      "source": [
        "#Make a modelling checkpoint\n",
        "\n",
        "Because our model's performance will fluctuate from experiment to\n",
        "experiment, we're going to write a model checkpoint so we\n",
        "can comapre apples to apples\n",
        "\n",
        "More specifically, we want to comapre each of our model's best\n",
        "performance against the other model's best performance"
      ],
      "metadata": {
        "id": "_kIeZ0niXtMf"
      }
    },
    {
      "cell_type": "code",
      "source": [
        "import os\n",
        "def create_model_checkpoint(model_name, save_path=\"model_experiments\"):\n",
        "  return tf.keras.callbacks.ModelCheckpoint(filepath=os.path.join(save_path, model_name), # create filepath to save model\n",
        "                                            verbose=0, # only output a limited amount of text\n",
        "                                            monitor=\"val_loss\",\n",
        "                                            save_best_only=True)\n"
      ],
      "metadata": {
        "id": "TkiX7QGEUhH8"
      },
      "execution_count": 49,
      "outputs": []
    },
    {
      "cell_type": "code",
      "source": [],
      "metadata": {
        "id": "TI7rW8GeFAdU"
      },
      "execution_count": 49,
      "outputs": []
    },
    {
      "cell_type": "markdown",
      "source": [
        "#Model Eval"
      ],
      "metadata": {
        "id": "ynPW-fyzFBHw"
      }
    },
    {
      "cell_type": "code",
      "source": [
        "def evaluate_preds(y_true, y_pred):\n",
        "  # Make sure float32 (for metric calculations)\n",
        "  y_true = tf.cast(y_true, dtype=tf.float32)\n",
        "  y_pred = tf.cast(y_pred, dtype=tf.float32)\n",
        "\n",
        "  # Calculate various metrics\n",
        "  mae = tf.keras.metrics.mean_absolute_error(y_true, y_pred)\n",
        "  mse = tf.keras.metrics.mean_squared_error(y_true, y_pred)\n",
        "  rmse = tf.sqrt(mse)\n",
        "  mape = tf.keras.metrics.mean_absolute_percentage_error(y_true, y_pred)\n",
        "  mase = mean_absolute_scaled_error(y_true, y_pred)\n",
        "\n",
        "  # Account for different sized metrics (for longer horizons, reduce to single number)\n",
        "  if mae.ndim > 0: # if mae isn't already a scalar, reduce it to one by aggregating tensors to mean\n",
        "    mae = tf.reduce_mean(mae)\n",
        "    mse = tf.reduce_mean(mse)\n",
        "    rmse = tf.reduce_mean(rmse)\n",
        "    mape = tf.reduce_mean(mape)\n",
        "    mase = tf.reduce_mean(mase)\n",
        "\n",
        "  return {\"mae\": mae.numpy(),\n",
        "          \"mse\": mse.numpy(),\n",
        "          \"rmse\": rmse.numpy(),\n",
        "          \"mape\": mape.numpy(),\n",
        "          \"mase\": mase.numpy()}\n"
      ],
      "metadata": {
        "id": "DOxy489nE_k8"
      },
      "execution_count": 50,
      "outputs": []
    },
    {
      "cell_type": "markdown",
      "source": [
        "#Model 1"
      ],
      "metadata": {
        "id": "hLNK5_dGE2gG"
      }
    },
    {
      "cell_type": "code",
      "source": [
        "import tensorflow as tf\n",
        "from tensorflow.keras import layers\n",
        "\n",
        "tf.random.set_seed(42)\n",
        " # construct mnodel\n",
        "model_1= tf.keras.Sequential([\n",
        "     layers.Dense(128,activation=\"relu\"),\n",
        "     layers.Dense(HORIZON,activation='linear')\n",
        "\n",
        " ],name= \"model_1_dense\")\n",
        "\n",
        " #compile\n",
        "model_1.compile(loss=\"mae\",\n",
        "                optimizer=tf.keras.optimizers.Adam(),\n",
        "                metrics=[\"mae\",\"mse\"])\n",
        "\n",
        "model_1_history=model_1.fit(x=train_window,\n",
        "             y=train_label,\n",
        "             epochs=100,\n",
        "             verbose=1,\n",
        "             batch_size=32,\n",
        "             validation_data=(test_window,test_label),\n",
        "             callbacks=([create_model_checkpoint(model_name=model_1.name)])\n",
        "\n",
        " )"
      ],
      "metadata": {
        "colab": {
          "base_uri": "https://localhost:8080/"
        },
        "id": "L_TUJmWyafGI",
        "outputId": "1b08162f-6553-4de3-a90c-70a77bc76a95"
      },
      "execution_count": 51,
      "outputs": [
        {
          "output_type": "stream",
          "name": "stdout",
          "text": [
            "Epoch 1/100\n",
            "70/70 [==============================] - 4s 15ms/step - loss: 334.5796 - mae: 334.5796 - mse: 618158.9375 - val_loss: 1034.5874 - val_mae: 1034.5874 - val_mse: 3079893.2500\n",
            "Epoch 2/100\n",
            "70/70 [==============================] - 1s 9ms/step - loss: 167.6532 - mae: 167.6532 - mse: 146616.4688 - val_loss: 807.9460 - val_mae: 807.9460 - val_mse: 2096104.7500\n",
            "Epoch 3/100\n",
            "70/70 [==============================] - 1s 9ms/step - loss: 154.1454 - mae: 154.1454 - mse: 129968.2422 - val_loss: 765.2101 - val_mae: 765.2101 - val_mse: 1852569.7500\n",
            "Epoch 4/100\n",
            "70/70 [==============================] - 1s 10ms/step - loss: 142.3355 - mae: 142.3355 - mse: 106633.8047 - val_loss: 751.5433 - val_mae: 751.5433 - val_mse: 1873251.3750\n",
            "Epoch 5/100\n",
            "70/70 [==============================] - 0s 4ms/step - loss: 138.7489 - mae: 138.7489 - mse: 104229.0625 - val_loss: 821.0036 - val_mae: 821.0036 - val_mse: 1941740.2500\n",
            "Epoch 6/100\n",
            "70/70 [==============================] - 1s 9ms/step - loss: 138.0878 - mae: 138.0878 - mse: 100978.1406 - val_loss: 732.6888 - val_mae: 732.6888 - val_mse: 1763351.0000\n",
            "Epoch 7/100\n",
            "70/70 [==============================] - 1s 9ms/step - loss: 132.9183 - mae: 132.9183 - mse: 97269.8984 - val_loss: 655.6259 - val_mae: 655.6259 - val_mse: 1448993.7500\n",
            "Epoch 8/100\n",
            "70/70 [==============================] - 1s 9ms/step - loss: 123.8006 - mae: 123.8006 - mse: 86102.1562 - val_loss: 641.2178 - val_mae: 641.2178 - val_mse: 1416797.8750\n",
            "Epoch 9/100\n",
            "70/70 [==============================] - 0s 4ms/step - loss: 121.0848 - mae: 121.0848 - mse: 81897.8438 - val_loss: 811.6948 - val_mae: 811.6948 - val_mse: 1858828.5000\n",
            "Epoch 10/100\n",
            "70/70 [==============================] - 1s 10ms/step - loss: 135.6496 - mae: 135.6496 - mse: 94573.3281 - val_loss: 629.8331 - val_mae: 629.8331 - val_mse: 1370960.7500\n",
            "Epoch 11/100\n",
            "70/70 [==============================] - 0s 4ms/step - loss: 121.0634 - mae: 121.0634 - mse: 86002.0703 - val_loss: 868.5167 - val_mae: 868.5167 - val_mse: 2034766.2500\n",
            "Epoch 12/100\n",
            "70/70 [==============================] - 0s 4ms/step - loss: 121.6575 - mae: 121.6575 - mse: 84404.1094 - val_loss: 842.7082 - val_mae: 842.7082 - val_mse: 1928147.3750\n",
            "Epoch 13/100\n",
            "70/70 [==============================] - 1s 13ms/step - loss: 120.8042 - mae: 120.8042 - mse: 82975.5547 - val_loss: 626.7416 - val_mae: 626.7416 - val_mse: 1311307.8750\n",
            "Epoch 14/100\n",
            "70/70 [==============================] - 0s 4ms/step - loss: 129.3776 - mae: 129.3776 - mse: 89714.2891 - val_loss: 1222.0676 - val_mae: 1222.0676 - val_mse: 3402858.2500\n",
            "Epoch 15/100\n",
            "70/70 [==============================] - 1s 9ms/step - loss: 134.0448 - mae: 134.0448 - mse: 90595.6016 - val_loss: 594.3891 - val_mae: 594.3891 - val_mse: 1249790.0000\n",
            "Epoch 16/100\n",
            "70/70 [==============================] - 0s 4ms/step - loss: 115.3305 - mae: 115.3305 - mse: 77089.7812 - val_loss: 601.2094 - val_mae: 601.2094 - val_mse: 1247641.7500\n",
            "Epoch 17/100\n",
            "70/70 [==============================] - 0s 6ms/step - loss: 118.7680 - mae: 118.7680 - mse: 78674.9141 - val_loss: 611.9366 - val_mae: 611.9366 - val_mse: 1265121.2500\n",
            "Epoch 18/100\n",
            "70/70 [==============================] - 0s 6ms/step - loss: 123.5207 - mae: 123.5207 - mse: 79884.5078 - val_loss: 649.8246 - val_mae: 649.8246 - val_mse: 1398894.0000\n",
            "Epoch 19/100\n",
            "70/70 [==============================] - 0s 6ms/step - loss: 122.1653 - mae: 122.1653 - mse: 80807.1562 - val_loss: 597.5888 - val_mae: 597.5888 - val_mse: 1257488.3750\n",
            "Epoch 20/100\n",
            "70/70 [==============================] - 0s 6ms/step - loss: 121.3313 - mae: 121.3313 - mse: 79422.5938 - val_loss: 717.8357 - val_mae: 717.8357 - val_mse: 1527041.8750\n",
            "Epoch 21/100\n",
            "70/70 [==============================] - 1s 11ms/step - loss: 122.4087 - mae: 122.4087 - mse: 77502.2734 - val_loss: 584.7653 - val_mae: 584.7653 - val_mse: 1221856.5000\n",
            "Epoch 22/100\n",
            "70/70 [==============================] - 0s 4ms/step - loss: 112.6971 - mae: 112.6971 - mse: 74124.8516 - val_loss: 629.3734 - val_mae: 629.3734 - val_mse: 1296717.1250\n",
            "Epoch 23/100\n",
            "70/70 [==============================] - 1s 10ms/step - loss: 122.7928 - mae: 122.7928 - mse: 78697.8906 - val_loss: 582.6981 - val_mae: 582.6981 - val_mse: 1215112.0000\n",
            "Epoch 24/100\n",
            "70/70 [==============================] - 1s 9ms/step - loss: 111.9027 - mae: 111.9027 - mse: 72142.9609 - val_loss: 574.4885 - val_mae: 574.4885 - val_mse: 1189721.3750\n",
            "Epoch 25/100\n",
            "70/70 [==============================] - 0s 4ms/step - loss: 112.3583 - mae: 112.3583 - mse: 68754.1172 - val_loss: 676.1817 - val_mae: 676.1817 - val_mse: 1405891.3750\n",
            "Epoch 26/100\n",
            "70/70 [==============================] - 0s 4ms/step - loss: 118.6237 - mae: 118.6237 - mse: 79110.9688 - val_loss: 592.0034 - val_mae: 592.0034 - val_mse: 1235830.1250\n",
            "Epoch 27/100\n",
            "70/70 [==============================] - 0s 4ms/step - loss: 118.8337 - mae: 118.8337 - mse: 75036.5234 - val_loss: 1061.5385 - val_mae: 1061.5385 - val_mse: 2908149.7500\n",
            "Epoch 28/100\n",
            "70/70 [==============================] - 0s 3ms/step - loss: 115.7971 - mae: 115.7971 - mse: 76029.7969 - val_loss: 593.2638 - val_mae: 593.2638 - val_mse: 1208654.2500\n",
            "Epoch 29/100\n",
            "70/70 [==============================] - 0s 4ms/step - loss: 111.8420 - mae: 111.8420 - mse: 71820.5547 - val_loss: 592.7261 - val_mae: 592.7261 - val_mse: 1208413.0000\n",
            "Epoch 30/100\n",
            "70/70 [==============================] - 0s 4ms/step - loss: 115.2076 - mae: 115.2076 - mse: 72728.1172 - val_loss: 615.6917 - val_mae: 615.6917 - val_mse: 1278661.3750\n",
            "Epoch 31/100\n",
            "70/70 [==============================] - 0s 4ms/step - loss: 112.1599 - mae: 112.1599 - mse: 72204.4922 - val_loss: 725.6534 - val_mae: 725.6534 - val_mse: 1520978.0000\n",
            "Epoch 32/100\n",
            "70/70 [==============================] - 1s 9ms/step - loss: 117.2846 - mae: 117.2846 - mse: 77240.2969 - val_loss: 574.2105 - val_mae: 574.2105 - val_mse: 1173052.3750\n",
            "Epoch 33/100\n",
            "70/70 [==============================] - 0s 4ms/step - loss: 119.4810 - mae: 119.4810 - mse: 76782.9766 - val_loss: 702.9512 - val_mae: 702.9512 - val_mse: 1461349.5000\n",
            "Epoch 34/100\n",
            "70/70 [==============================] - 0s 4ms/step - loss: 121.4186 - mae: 121.4186 - mse: 81579.2031 - val_loss: 585.4877 - val_mae: 585.4877 - val_mse: 1192843.6250\n",
            "Epoch 35/100\n",
            "70/70 [==============================] - 0s 4ms/step - loss: 107.3203 - mae: 107.3203 - mse: 70017.3984 - val_loss: 575.7571 - val_mae: 575.7571 - val_mse: 1192073.8750\n",
            "Epoch 36/100\n",
            "70/70 [==============================] - 0s 3ms/step - loss: 113.4151 - mae: 113.4151 - mse: 72409.3594 - val_loss: 832.6281 - val_mae: 832.6281 - val_mse: 1847638.2500\n",
            "Epoch 37/100\n",
            "70/70 [==============================] - 1s 9ms/step - loss: 115.4792 - mae: 115.4792 - mse: 71579.7500 - val_loss: 566.1728 - val_mae: 566.1728 - val_mse: 1159037.6250\n",
            "Epoch 38/100\n",
            "70/70 [==============================] - 0s 4ms/step - loss: 131.1947 - mae: 131.1947 - mse: 83176.3281 - val_loss: 716.6176 - val_mae: 716.6176 - val_mse: 1504294.5000\n",
            "Epoch 39/100\n",
            "70/70 [==============================] - 0s 4ms/step - loss: 112.1103 - mae: 112.1103 - mse: 71688.1875 - val_loss: 594.7108 - val_mae: 594.7108 - val_mse: 1236882.6250\n",
            "Epoch 40/100\n",
            "70/70 [==============================] - 0s 4ms/step - loss: 113.1141 - mae: 113.1141 - mse: 73375.6328 - val_loss: 630.8237 - val_mae: 630.8237 - val_mse: 1308947.8750\n",
            "Epoch 41/100\n",
            "70/70 [==============================] - 0s 4ms/step - loss: 108.3216 - mae: 108.3216 - mse: 68479.2266 - val_loss: 874.6700 - val_mae: 874.6700 - val_mse: 2099150.7500\n",
            "Epoch 42/100\n",
            "70/70 [==============================] - 0s 4ms/step - loss: 114.3735 - mae: 114.3735 - mse: 75249.5391 - val_loss: 588.0396 - val_mae: 588.0396 - val_mse: 1219661.2500\n",
            "Epoch 43/100\n",
            "70/70 [==============================] - 1s 9ms/step - loss: 111.0585 - mae: 111.0585 - mse: 71116.4062 - val_loss: 564.9670 - val_mae: 564.9670 - val_mse: 1157138.3750\n",
            "Epoch 44/100\n",
            "70/70 [==============================] - 0s 4ms/step - loss: 110.2618 - mae: 110.2618 - mse: 70948.0625 - val_loss: 566.1006 - val_mae: 566.1006 - val_mse: 1157659.1250\n",
            "Epoch 45/100\n",
            "70/70 [==============================] - 0s 4ms/step - loss: 112.6763 - mae: 112.6763 - mse: 73801.6875 - val_loss: 567.8389 - val_mae: 567.8389 - val_mse: 1163341.7500\n",
            "Epoch 46/100\n",
            "70/70 [==============================] - 0s 4ms/step - loss: 121.0373 - mae: 121.0373 - mse: 81109.4531 - val_loss: 582.6428 - val_mae: 582.6428 - val_mse: 1185123.3750\n",
            "Epoch 47/100\n",
            "70/70 [==============================] - 0s 4ms/step - loss: 112.0908 - mae: 112.0908 - mse: 71192.4219 - val_loss: 767.4431 - val_mae: 767.4431 - val_mse: 1654453.2500\n",
            "Epoch 48/100\n",
            "70/70 [==============================] - 0s 3ms/step - loss: 126.1684 - mae: 126.1684 - mse: 82284.5234 - val_loss: 573.6760 - val_mae: 573.6760 - val_mse: 1171448.8750\n",
            "Epoch 49/100\n",
            "70/70 [==============================] - 0s 4ms/step - loss: 130.3245 - mae: 130.3245 - mse: 88913.7812 - val_loss: 600.8005 - val_mae: 600.8005 - val_mse: 1224566.8750\n",
            "Epoch 50/100\n",
            "70/70 [==============================] - 0s 5ms/step - loss: 111.1309 - mae: 111.1309 - mse: 71045.6641 - val_loss: 594.9514 - val_mae: 594.9514 - val_mse: 1209472.7500\n",
            "Epoch 51/100\n",
            "70/70 [==============================] - 0s 5ms/step - loss: 112.8242 - mae: 112.8242 - mse: 72350.6406 - val_loss: 576.3733 - val_mae: 576.3733 - val_mse: 1193496.5000\n",
            "Epoch 52/100\n",
            "70/70 [==============================] - 0s 5ms/step - loss: 126.9773 - mae: 126.9773 - mse: 76033.2812 - val_loss: 606.5508 - val_mae: 606.5508 - val_mse: 1233004.3750\n",
            "Epoch 53/100\n",
            "70/70 [==============================] - 0s 6ms/step - loss: 109.7014 - mae: 109.7014 - mse: 70782.2266 - val_loss: 567.4022 - val_mae: 567.4022 - val_mse: 1153993.2500\n",
            "Epoch 54/100\n",
            "70/70 [==============================] - 0s 6ms/step - loss: 109.9312 - mae: 109.9312 - mse: 70189.2656 - val_loss: 609.8501 - val_mae: 609.8501 - val_mse: 1238329.6250\n",
            "Epoch 55/100\n",
            "70/70 [==============================] - 0s 4ms/step - loss: 109.6197 - mae: 109.6197 - mse: 71250.4141 - val_loss: 573.9255 - val_mae: 573.9255 - val_mse: 1183279.0000\n",
            "Epoch 56/100\n",
            "70/70 [==============================] - 0s 4ms/step - loss: 107.7103 - mae: 107.7103 - mse: 68278.2031 - val_loss: 845.1038 - val_mae: 845.1038 - val_mse: 1973686.5000\n",
            "Epoch 57/100\n",
            "70/70 [==============================] - 0s 4ms/step - loss: 110.6395 - mae: 110.6395 - mse: 68783.0234 - val_loss: 625.9739 - val_mae: 625.9739 - val_mse: 1313614.0000\n",
            "Epoch 58/100\n",
            "70/70 [==============================] - 0s 4ms/step - loss: 109.4367 - mae: 109.4367 - mse: 70014.5625 - val_loss: 617.1764 - val_mae: 617.1764 - val_mse: 1255109.8750\n",
            "Epoch 59/100\n",
            "70/70 [==============================] - 0s 4ms/step - loss: 115.0526 - mae: 115.0526 - mse: 72601.6484 - val_loss: 601.9834 - val_mae: 601.9834 - val_mse: 1220450.6250\n",
            "Epoch 60/100\n",
            "70/70 [==============================] - 0s 4ms/step - loss: 108.6144 - mae: 108.6144 - mse: 68485.2656 - val_loss: 590.7425 - val_mae: 590.7425 - val_mse: 1213067.3750\n",
            "Epoch 61/100\n",
            "70/70 [==============================] - 0s 3ms/step - loss: 109.8223 - mae: 109.8223 - mse: 71049.0312 - val_loss: 770.3846 - val_mae: 770.3846 - val_mse: 1712900.6250\n",
            "Epoch 62/100\n",
            "70/70 [==============================] - 0s 4ms/step - loss: 113.4676 - mae: 113.4676 - mse: 72125.6406 - val_loss: 571.3531 - val_mae: 571.3531 - val_mse: 1161006.1250\n",
            "Epoch 63/100\n",
            "70/70 [==============================] - 0s 4ms/step - loss: 113.1531 - mae: 113.1531 - mse: 73621.4688 - val_loss: 570.3868 - val_mae: 570.3868 - val_mse: 1174463.2500\n",
            "Epoch 64/100\n",
            "70/70 [==============================] - 0s 4ms/step - loss: 116.1084 - mae: 116.1084 - mse: 72136.6172 - val_loss: 709.8736 - val_mae: 709.8736 - val_mse: 1491424.0000\n",
            "Epoch 65/100\n",
            "70/70 [==============================] - 0s 4ms/step - loss: 110.3067 - mae: 110.3067 - mse: 69781.4766 - val_loss: 576.8644 - val_mae: 576.8644 - val_mse: 1169406.5000\n",
            "Epoch 66/100\n",
            "70/70 [==============================] - 0s 4ms/step - loss: 106.7102 - mae: 106.7102 - mse: 68595.7734 - val_loss: 607.8040 - val_mae: 607.8040 - val_mse: 1233767.0000\n",
            "Epoch 67/100\n",
            "70/70 [==============================] - 0s 4ms/step - loss: 110.6714 - mae: 110.6714 - mse: 71630.3828 - val_loss: 572.9246 - val_mae: 572.9246 - val_mse: 1181119.1250\n",
            "Epoch 68/100\n",
            "70/70 [==============================] - 1s 10ms/step - loss: 108.3469 - mae: 108.3469 - mse: 69663.9062 - val_loss: 564.0906 - val_mae: 564.0906 - val_mse: 1150120.2500\n",
            "Epoch 69/100\n",
            "70/70 [==============================] - 0s 4ms/step - loss: 108.2055 - mae: 108.2055 - mse: 68015.9375 - val_loss: 616.1339 - val_mae: 616.1339 - val_mse: 1247612.3750\n",
            "Epoch 70/100\n",
            "70/70 [==============================] - 0s 4ms/step - loss: 114.7612 - mae: 114.7612 - mse: 73042.1328 - val_loss: 663.8654 - val_mae: 663.8654 - val_mse: 1362035.8750\n",
            "Epoch 71/100\n",
            "70/70 [==============================] - 0s 4ms/step - loss: 108.6919 - mae: 108.6919 - mse: 68690.6875 - val_loss: 618.5671 - val_mae: 618.5671 - val_mse: 1257815.5000\n",
            "Epoch 72/100\n",
            "70/70 [==============================] - 0s 4ms/step - loss: 111.7343 - mae: 111.7343 - mse: 70862.2578 - val_loss: 592.8719 - val_mae: 592.8719 - val_mse: 1230327.8750\n",
            "Epoch 73/100\n",
            "70/70 [==============================] - 0s 4ms/step - loss: 107.7064 - mae: 107.7064 - mse: 69046.4297 - val_loss: 664.1330 - val_mae: 664.1330 - val_mse: 1364332.0000\n",
            "Epoch 74/100\n",
            "70/70 [==============================] - 0s 4ms/step - loss: 117.8554 - mae: 117.8554 - mse: 72440.5469 - val_loss: 567.1804 - val_mae: 567.1804 - val_mse: 1161855.2500\n",
            "Epoch 75/100\n",
            "70/70 [==============================] - 0s 4ms/step - loss: 107.7985 - mae: 107.7985 - mse: 68968.3828 - val_loss: 746.7859 - val_mae: 746.7859 - val_mse: 1592942.0000\n",
            "Epoch 76/100\n",
            "70/70 [==============================] - 0s 4ms/step - loss: 114.6812 - mae: 114.6812 - mse: 71256.6797 - val_loss: 632.6576 - val_mae: 632.6576 - val_mse: 1288130.6250\n",
            "Epoch 77/100\n",
            "70/70 [==============================] - 0s 4ms/step - loss: 120.6656 - mae: 120.6656 - mse: 79905.3750 - val_loss: 654.7809 - val_mae: 654.7809 - val_mse: 1358310.3750\n",
            "Epoch 78/100\n",
            "70/70 [==============================] - 0s 4ms/step - loss: 111.2819 - mae: 111.2819 - mse: 73809.0000 - val_loss: 577.3413 - val_mae: 577.3413 - val_mse: 1193932.1250\n",
            "Epoch 79/100\n",
            "70/70 [==============================] - 0s 4ms/step - loss: 122.8416 - mae: 122.8416 - mse: 76673.5469 - val_loss: 584.0674 - val_mae: 584.0674 - val_mse: 1196463.6250\n",
            "Epoch 80/100\n",
            "70/70 [==============================] - 0s 4ms/step - loss: 116.8707 - mae: 116.8707 - mse: 72426.7969 - val_loss: 597.9143 - val_mae: 597.9143 - val_mse: 1221243.7500\n",
            "Epoch 81/100\n",
            "70/70 [==============================] - 0s 4ms/step - loss: 110.2199 - mae: 110.2199 - mse: 69157.6016 - val_loss: 602.6971 - val_mae: 602.6971 - val_mse: 1227555.2500\n",
            "Epoch 82/100\n",
            "70/70 [==============================] - 0s 4ms/step - loss: 108.2050 - mae: 108.2050 - mse: 68298.6172 - val_loss: 566.3491 - val_mae: 566.3491 - val_mse: 1160662.8750\n",
            "Epoch 83/100\n",
            "70/70 [==============================] - 1s 10ms/step - loss: 119.3990 - mae: 119.3990 - mse: 74957.2812 - val_loss: 562.4132 - val_mae: 562.4132 - val_mse: 1144858.3750\n",
            "Epoch 84/100\n",
            "70/70 [==============================] - 0s 4ms/step - loss: 108.5332 - mae: 108.5332 - mse: 67086.9609 - val_loss: 579.4507 - val_mae: 579.4507 - val_mse: 1178749.2500\n",
            "Epoch 85/100\n",
            "70/70 [==============================] - 0s 4ms/step - loss: 108.3698 - mae: 108.3698 - mse: 69272.1094 - val_loss: 585.3035 - val_mae: 585.3035 - val_mse: 1188262.2500\n",
            "Epoch 86/100\n",
            "70/70 [==============================] - 0s 4ms/step - loss: 122.3224 - mae: 122.3224 - mse: 78281.6641 - val_loss: 694.1224 - val_mae: 694.1224 - val_mse: 1436401.5000\n",
            "Epoch 87/100\n",
            "70/70 [==============================] - 0s 6ms/step - loss: 111.2959 - mae: 111.2959 - mse: 67061.8750 - val_loss: 678.5507 - val_mae: 678.5507 - val_mse: 1434640.7500\n",
            "Epoch 88/100\n",
            "70/70 [==============================] - 0s 5ms/step - loss: 115.4500 - mae: 115.4500 - mse: 72846.7031 - val_loss: 582.3749 - val_mae: 582.3749 - val_mse: 1183165.2500\n",
            "Epoch 89/100\n",
            "70/70 [==============================] - 0s 5ms/step - loss: 120.1773 - mae: 120.1773 - mse: 76943.0469 - val_loss: 1005.6467 - val_mae: 1005.6467 - val_mse: 2495249.0000\n",
            "Epoch 90/100\n",
            "70/70 [==============================] - 0s 6ms/step - loss: 121.3069 - mae: 121.3069 - mse: 76621.7812 - val_loss: 593.7500 - val_mae: 593.7500 - val_mse: 1210901.1250\n",
            "Epoch 91/100\n",
            "70/70 [==============================] - 0s 5ms/step - loss: 111.8941 - mae: 111.8941 - mse: 71768.6875 - val_loss: 572.9703 - val_mae: 572.9703 - val_mse: 1176078.5000\n",
            "Epoch 92/100\n",
            "70/70 [==============================] - 0s 5ms/step - loss: 106.3841 - mae: 106.3841 - mse: 69370.5703 - val_loss: 585.9628 - val_mae: 585.9628 - val_mse: 1192680.5000\n",
            "Epoch 93/100\n",
            "70/70 [==============================] - 0s 4ms/step - loss: 107.2063 - mae: 107.2063 - mse: 68951.4766 - val_loss: 658.1627 - val_mae: 658.1627 - val_mse: 1387344.0000\n",
            "Epoch 94/100\n",
            "70/70 [==============================] - 0s 4ms/step - loss: 112.1735 - mae: 112.1735 - mse: 70923.3125 - val_loss: 563.0240 - val_mae: 563.0240 - val_mse: 1144387.6250\n",
            "Epoch 95/100\n",
            "70/70 [==============================] - 0s 4ms/step - loss: 108.0801 - mae: 108.0801 - mse: 69576.4844 - val_loss: 579.9333 - val_mae: 579.9333 - val_mse: 1204549.8750\n",
            "Epoch 96/100\n",
            "70/70 [==============================] - 0s 4ms/step - loss: 110.6950 - mae: 110.6950 - mse: 72701.7109 - val_loss: 579.2089 - val_mae: 579.2089 - val_mse: 1198747.0000\n",
            "Epoch 97/100\n",
            "70/70 [==============================] - 0s 4ms/step - loss: 108.4998 - mae: 108.4998 - mse: 69261.0469 - val_loss: 587.1468 - val_mae: 587.1468 - val_mse: 1215218.1250\n",
            "Epoch 98/100\n",
            "70/70 [==============================] - 0s 4ms/step - loss: 112.5891 - mae: 112.5891 - mse: 71275.6719 - val_loss: 609.3076 - val_mae: 609.3076 - val_mse: 1242751.7500\n",
            "Epoch 99/100\n",
            "70/70 [==============================] - 0s 4ms/step - loss: 110.1967 - mae: 110.1967 - mse: 69131.4453 - val_loss: 644.7232 - val_mae: 644.7232 - val_mse: 1341126.5000\n",
            "Epoch 100/100\n",
            "70/70 [==============================] - 0s 4ms/step - loss: 118.2929 - mae: 118.2929 - mse: 77017.7031 - val_loss: 650.8276 - val_mae: 650.8276 - val_mse: 1338920.8750\n"
          ]
        }
      ]
    },
    {
      "cell_type": "code",
      "source": [
        "model_1.evaluate(test_window,test_label)"
      ],
      "metadata": {
        "colab": {
          "base_uri": "https://localhost:8080/"
        },
        "id": "kDhFi8DVr_q0",
        "outputId": "38599477-8b5b-4850-d242-6fffea6d5aa1"
      },
      "execution_count": 52,
      "outputs": [
        {
          "output_type": "stream",
          "name": "stdout",
          "text": [
            "18/18 [==============================] - 0s 2ms/step - loss: 650.8276 - mae: 650.8276 - mse: 1338920.8750\n"
          ]
        },
        {
          "output_type": "execute_result",
          "data": {
            "text/plain": [
              "[650.8275756835938, 650.8275756835938, 1338920.875]"
            ]
          },
          "metadata": {},
          "execution_count": 52
        }
      ]
    },
    {
      "cell_type": "code",
      "source": [
        "model_1_load=tf.keras.models.load_model(\"/content/model_experiments/model_1_dense/\")"
      ],
      "metadata": {
        "id": "42I7Ez1Itddy"
      },
      "execution_count": 53,
      "outputs": []
    },
    {
      "cell_type": "code",
      "source": [
        "model_1_load.evaluate(test_window,test_label)"
      ],
      "metadata": {
        "colab": {
          "base_uri": "https://localhost:8080/"
        },
        "id": "iHR7La0Zufkw",
        "outputId": "3d24448a-4899-4a08-9e97-ded08ec79efc"
      },
      "execution_count": 54,
      "outputs": [
        {
          "output_type": "stream",
          "name": "stdout",
          "text": [
            "18/18 [==============================] - 0s 2ms/step - loss: 562.4132 - mae: 562.4132 - mse: 1144858.3750\n"
          ]
        },
        {
          "output_type": "execute_result",
          "data": {
            "text/plain": [
              "[562.4132080078125, 562.4132080078125, 1144858.375]"
            ]
          },
          "metadata": {},
          "execution_count": 54
        }
      ]
    },
    {
      "cell_type": "markdown",
      "source": [
        "# Model 2"
      ],
      "metadata": {
        "id": "kcDKCC0CEN2I"
      }
    },
    {
      "cell_type": "markdown",
      "source": [],
      "metadata": {
        "id": "Qgb_hJ8TENxn"
      }
    },
    {
      "cell_type": "code",
      "source": [
        "window_size=30\n",
        "horizon=1\n",
        "full_window,full_label=make_window(btc_price,window_size=window_size,horizon=horizon)\n",
        "train_window, train_label, test_window, test_label = make_train_test_split(full_window,full_label)"
      ],
      "metadata": {
        "id": "iIHfHjyTuijZ"
      },
      "execution_count": 55,
      "outputs": []
    },
    {
      "cell_type": "code",
      "source": [
        "import tensorflow as tf\n",
        "from tensorflow.keras import layers\n",
        "\n",
        "tf.random.set_seed(42)\n",
        " # construct mnodel\n",
        "model_2= tf.keras.Sequential([\n",
        "     layers.Dense(128,activation=\"relu\"),\n",
        "     layers.Dense(HORIZON,activation='linear')\n",
        "\n",
        " ],name= \"model_2_dense\")\n",
        "\n",
        " #compile\n",
        "model_2.compile(loss=\"mae\",\n",
        "                optimizer=tf.keras.optimizers.Adam(),\n",
        "                metrics=[\"mae\",\"mse\"])\n",
        "\n",
        "model_2_history=model_2.fit(x=train_window,\n",
        "             y=train_label,\n",
        "             epochs=100,\n",
        "             verbose=1,\n",
        "             batch_size=32,\n",
        "             validation_data=(test_window,test_label),\n",
        "             callbacks=([create_model_checkpoint(model_name=model_2.name)])\n",
        "\n",
        " )"
      ],
      "metadata": {
        "id": "ccyI4ytedj5C",
        "colab": {
          "base_uri": "https://localhost:8080/"
        },
        "outputId": "735e9ec2-0ba7-446c-f6f2-caee476153c6"
      },
      "execution_count": 56,
      "outputs": [
        {
          "output_type": "stream",
          "name": "stdout",
          "text": [
            "Epoch 1/100\n",
            "69/69 [==============================] - 2s 12ms/step - loss: 932.9224 - mae: 932.9224 - mse: 7380192.0000 - val_loss: 1628.7959 - val_mae: 1628.7959 - val_mse: 6838147.0000\n",
            "Epoch 2/100\n",
            "69/69 [==============================] - 0s 4ms/step - loss: 207.3520 - mae: 207.3520 - mse: 209186.1250 - val_loss: 1662.8461 - val_mae: 1662.8461 - val_mse: 6619453.5000\n",
            "Epoch 3/100\n",
            "69/69 [==============================] - 1s 9ms/step - loss: 223.9636 - mae: 223.9636 - mse: 214548.2812 - val_loss: 988.2927 - val_mae: 988.2927 - val_mse: 3000156.7500\n",
            "Epoch 4/100\n",
            "69/69 [==============================] - 0s 4ms/step - loss: 172.9350 - mae: 172.9350 - mse: 137264.8750 - val_loss: 1258.5680 - val_mae: 1258.5680 - val_mse: 4693454.0000\n",
            "Epoch 5/100\n",
            "69/69 [==============================] - 1s 9ms/step - loss: 184.4456 - mae: 184.4456 - mse: 149642.2969 - val_loss: 846.1325 - val_mae: 846.1325 - val_mse: 2337691.2500\n",
            "Epoch 6/100\n",
            "69/69 [==============================] - 1s 10ms/step - loss: 154.4088 - mae: 154.4088 - mse: 116416.9453 - val_loss: 813.5956 - val_mae: 813.5956 - val_mse: 2146249.7500\n",
            "Epoch 7/100\n",
            "69/69 [==============================] - 1s 12ms/step - loss: 188.8777 - mae: 188.8777 - mse: 166424.9219 - val_loss: 804.6596 - val_mae: 804.6596 - val_mse: 2162883.5000\n",
            "Epoch 8/100\n",
            "69/69 [==============================] - 0s 6ms/step - loss: 168.4021 - mae: 168.4021 - mse: 134258.7500 - val_loss: 1601.5195 - val_mae: 1601.5195 - val_mse: 6381993.0000\n",
            "Epoch 9/100\n",
            "69/69 [==============================] - 1s 13ms/step - loss: 169.2374 - mae: 169.2374 - mse: 121404.1562 - val_loss: 739.6923 - val_mae: 739.6923 - val_mse: 1743846.6250\n",
            "Epoch 10/100\n",
            "69/69 [==============================] - 0s 6ms/step - loss: 145.1155 - mae: 145.1155 - mse: 99055.6016 - val_loss: 799.9337 - val_mae: 799.9337 - val_mse: 2072768.5000\n",
            "Epoch 11/100\n",
            "69/69 [==============================] - 0s 4ms/step - loss: 145.6995 - mae: 145.6995 - mse: 99486.7969 - val_loss: 960.5752 - val_mae: 960.5752 - val_mse: 2467879.2500\n",
            "Epoch 12/100\n",
            "69/69 [==============================] - 0s 4ms/step - loss: 137.7097 - mae: 137.7097 - mse: 93153.6562 - val_loss: 1125.5168 - val_mae: 1125.5168 - val_mse: 3551846.5000\n",
            "Epoch 13/100\n",
            "69/69 [==============================] - 1s 10ms/step - loss: 141.1384 - mae: 141.1384 - mse: 96124.2500 - val_loss: 709.9448 - val_mae: 709.9448 - val_mse: 1690213.6250\n",
            "Epoch 14/100\n",
            "69/69 [==============================] - 1s 9ms/step - loss: 135.6363 - mae: 135.6363 - mse: 88571.5000 - val_loss: 682.4456 - val_mae: 682.4456 - val_mse: 1561574.2500\n",
            "Epoch 15/100\n",
            "69/69 [==============================] - 0s 4ms/step - loss: 168.1241 - mae: 168.1241 - mse: 120056.8203 - val_loss: 700.6862 - val_mae: 700.6862 - val_mse: 1600128.7500\n",
            "Epoch 16/100\n",
            "69/69 [==============================] - 0s 4ms/step - loss: 144.3848 - mae: 144.3848 - mse: 93233.0156 - val_loss: 1156.1708 - val_mae: 1156.1708 - val_mse: 3212492.7500\n",
            "Epoch 17/100\n",
            "69/69 [==============================] - 1s 9ms/step - loss: 150.7816 - mae: 150.7816 - mse: 101595.5156 - val_loss: 659.3255 - val_mae: 659.3255 - val_mse: 1458638.6250\n",
            "Epoch 18/100\n",
            "69/69 [==============================] - 0s 4ms/step - loss: 130.9357 - mae: 130.9357 - mse: 88696.8125 - val_loss: 912.2123 - val_mae: 912.2123 - val_mse: 2216247.2500\n",
            "Epoch 19/100\n",
            "69/69 [==============================] - 0s 4ms/step - loss: 128.3355 - mae: 128.3355 - mse: 82939.4844 - val_loss: 1057.5573 - val_mae: 1057.5573 - val_mse: 3012831.7500\n",
            "Epoch 20/100\n",
            "69/69 [==============================] - 0s 4ms/step - loss: 149.0386 - mae: 149.0386 - mse: 97518.3359 - val_loss: 662.6728 - val_mae: 662.6728 - val_mse: 1439415.6250\n",
            "Epoch 21/100\n",
            "69/69 [==============================] - 0s 4ms/step - loss: 125.7028 - mae: 125.7028 - mse: 83237.1484 - val_loss: 707.4927 - val_mae: 707.4927 - val_mse: 1553593.7500\n",
            "Epoch 22/100\n",
            "69/69 [==============================] - 0s 4ms/step - loss: 128.6376 - mae: 128.6376 - mse: 78680.6953 - val_loss: 661.1334 - val_mae: 661.1334 - val_mse: 1428890.1250\n",
            "Epoch 23/100\n",
            "69/69 [==============================] - 0s 4ms/step - loss: 144.5568 - mae: 144.5568 - mse: 96098.9453 - val_loss: 943.3255 - val_mae: 943.3255 - val_mse: 2323003.0000\n",
            "Epoch 24/100\n",
            "69/69 [==============================] - 0s 4ms/step - loss: 126.5918 - mae: 126.5918 - mse: 82229.8281 - val_loss: 677.3053 - val_mae: 677.3053 - val_mse: 1511452.3750\n",
            "Epoch 25/100\n",
            "69/69 [==============================] - 0s 4ms/step - loss: 132.9600 - mae: 132.9600 - mse: 86554.0000 - val_loss: 697.6959 - val_mae: 697.6959 - val_mse: 1506042.8750\n",
            "Epoch 26/100\n",
            "69/69 [==============================] - 0s 4ms/step - loss: 151.2630 - mae: 151.2630 - mse: 102114.0391 - val_loss: 874.9175 - val_mae: 874.9175 - val_mse: 2071853.8750\n",
            "Epoch 27/100\n",
            "69/69 [==============================] - 0s 4ms/step - loss: 138.7739 - mae: 138.7739 - mse: 87823.7891 - val_loss: 991.1400 - val_mae: 991.1400 - val_mse: 2601598.0000\n",
            "Epoch 28/100\n",
            "69/69 [==============================] - 1s 14ms/step - loss: 139.9176 - mae: 139.9176 - mse: 90586.9141 - val_loss: 634.5879 - val_mae: 634.5879 - val_mse: 1342869.5000\n",
            "Epoch 29/100\n",
            "69/69 [==============================] - 1s 9ms/step - loss: 135.1380 - mae: 135.1380 - mse: 83395.1250 - val_loss: 623.2092 - val_mae: 623.2092 - val_mse: 1312673.3750\n",
            "Epoch 30/100\n",
            "69/69 [==============================] - 1s 9ms/step - loss: 133.1177 - mae: 133.1177 - mse: 86175.0000 - val_loss: 619.0645 - val_mae: 619.0645 - val_mse: 1294423.8750\n",
            "Epoch 31/100\n",
            "69/69 [==============================] - 0s 4ms/step - loss: 124.1069 - mae: 124.1069 - mse: 79031.9297 - val_loss: 694.0743 - val_mae: 694.0743 - val_mse: 1470292.7500\n",
            "Epoch 32/100\n",
            "69/69 [==============================] - 1s 10ms/step - loss: 122.8734 - mae: 122.8734 - mse: 79576.2266 - val_loss: 616.4510 - val_mae: 616.4510 - val_mse: 1299582.8750\n",
            "Epoch 33/100\n",
            "69/69 [==============================] - 0s 4ms/step - loss: 130.3833 - mae: 130.3833 - mse: 86384.2812 - val_loss: 1520.5065 - val_mae: 1520.5065 - val_mse: 4916125.5000\n",
            "Epoch 34/100\n",
            "69/69 [==============================] - 0s 4ms/step - loss: 174.1902 - mae: 174.1902 - mse: 130822.2969 - val_loss: 645.5419 - val_mae: 645.5419 - val_mse: 1389848.6250\n",
            "Epoch 35/100\n",
            "69/69 [==============================] - 0s 4ms/step - loss: 157.3281 - mae: 157.3281 - mse: 106535.7266 - val_loss: 662.0737 - val_mae: 662.0737 - val_mse: 1408377.0000\n",
            "Epoch 36/100\n",
            "69/69 [==============================] - 0s 4ms/step - loss: 137.4613 - mae: 137.4613 - mse: 87541.8594 - val_loss: 645.9856 - val_mae: 645.9856 - val_mse: 1356709.8750\n",
            "Epoch 37/100\n",
            "69/69 [==============================] - 0s 5ms/step - loss: 138.5139 - mae: 138.5139 - mse: 88373.5625 - val_loss: 717.7593 - val_mae: 717.7593 - val_mse: 1555478.3750\n",
            "Epoch 38/100\n",
            "69/69 [==============================] - 0s 6ms/step - loss: 131.3046 - mae: 131.3046 - mse: 85847.4688 - val_loss: 646.7433 - val_mae: 646.7433 - val_mse: 1364897.7500\n",
            "Epoch 39/100\n",
            "69/69 [==============================] - 0s 5ms/step - loss: 124.0005 - mae: 124.0005 - mse: 78254.4062 - val_loss: 647.0018 - val_mae: 647.0018 - val_mse: 1373007.2500\n",
            "Epoch 40/100\n",
            "69/69 [==============================] - 0s 6ms/step - loss: 120.4960 - mae: 120.4960 - mse: 78372.6641 - val_loss: 755.1454 - val_mae: 755.1454 - val_mse: 1654703.3750\n",
            "Epoch 41/100\n",
            "69/69 [==============================] - 0s 5ms/step - loss: 132.2438 - mae: 132.2438 - mse: 85927.9375 - val_loss: 873.0615 - val_mae: 873.0615 - val_mse: 2060880.2500\n",
            "Epoch 42/100\n",
            "69/69 [==============================] - 1s 9ms/step - loss: 117.7646 - mae: 117.7646 - mse: 77765.7656 - val_loss: 611.0609 - val_mae: 611.0609 - val_mse: 1282479.2500\n",
            "Epoch 43/100\n",
            "69/69 [==============================] - 0s 4ms/step - loss: 143.4212 - mae: 143.4212 - mse: 94488.3047 - val_loss: 701.5912 - val_mae: 701.5912 - val_mse: 1560978.7500\n",
            "Epoch 44/100\n",
            "69/69 [==============================] - 0s 4ms/step - loss: 150.3098 - mae: 150.3098 - mse: 99179.5469 - val_loss: 892.0094 - val_mae: 892.0094 - val_mse: 2201231.2500\n",
            "Epoch 45/100\n",
            "69/69 [==============================] - 0s 4ms/step - loss: 132.5886 - mae: 132.5886 - mse: 85347.1641 - val_loss: 674.9656 - val_mae: 674.9656 - val_mse: 1446394.3750\n",
            "Epoch 46/100\n",
            "69/69 [==============================] - 0s 4ms/step - loss: 123.2850 - mae: 123.2850 - mse: 78131.0312 - val_loss: 662.1992 - val_mae: 662.1992 - val_mse: 1393333.7500\n",
            "Epoch 47/100\n",
            "69/69 [==============================] - 0s 4ms/step - loss: 140.0834 - mae: 140.0834 - mse: 90458.8516 - val_loss: 676.6558 - val_mae: 676.6558 - val_mse: 1413277.6250\n",
            "Epoch 48/100\n",
            "69/69 [==============================] - 1s 10ms/step - loss: 132.9801 - mae: 132.9801 - mse: 83751.7266 - val_loss: 604.8256 - val_mae: 604.8256 - val_mse: 1241144.5000\n",
            "Epoch 49/100\n",
            "69/69 [==============================] - 0s 4ms/step - loss: 139.3611 - mae: 139.3611 - mse: 94136.5234 - val_loss: 658.5770 - val_mae: 658.5770 - val_mse: 1395149.6250\n",
            "Epoch 50/100\n",
            "69/69 [==============================] - 0s 4ms/step - loss: 143.1107 - mae: 143.1107 - mse: 100298.3594 - val_loss: 607.5678 - val_mae: 607.5678 - val_mse: 1253767.5000\n",
            "Epoch 51/100\n",
            "69/69 [==============================] - 0s 4ms/step - loss: 134.3872 - mae: 134.3872 - mse: 89134.0391 - val_loss: 611.8188 - val_mae: 611.8188 - val_mse: 1272228.6250\n",
            "Epoch 52/100\n",
            "69/69 [==============================] - 0s 4ms/step - loss: 131.7338 - mae: 131.7338 - mse: 86662.0156 - val_loss: 1505.9224 - val_mae: 1505.9224 - val_mse: 4839734.5000\n",
            "Epoch 53/100\n",
            "69/69 [==============================] - 0s 4ms/step - loss: 132.0673 - mae: 132.0673 - mse: 83652.0938 - val_loss: 722.3824 - val_mae: 722.3824 - val_mse: 1596771.6250\n",
            "Epoch 54/100\n",
            "69/69 [==============================] - 0s 4ms/step - loss: 117.4996 - mae: 117.4996 - mse: 76224.6641 - val_loss: 619.4424 - val_mae: 619.4424 - val_mse: 1278965.0000\n",
            "Epoch 55/100\n",
            "69/69 [==============================] - 0s 4ms/step - loss: 117.3306 - mae: 117.3306 - mse: 75184.6484 - val_loss: 635.1849 - val_mae: 635.1849 - val_mse: 1325546.8750\n",
            "Epoch 56/100\n",
            "69/69 [==============================] - 0s 4ms/step - loss: 136.2934 - mae: 136.2934 - mse: 90970.6016 - val_loss: 628.4323 - val_mae: 628.4323 - val_mse: 1311223.3750\n",
            "Epoch 57/100\n",
            "69/69 [==============================] - 1s 9ms/step - loss: 136.4301 - mae: 136.4301 - mse: 91267.4609 - val_loss: 600.3329 - val_mae: 600.3329 - val_mse: 1229504.5000\n",
            "Epoch 58/100\n",
            "69/69 [==============================] - 0s 4ms/step - loss: 136.4601 - mae: 136.4601 - mse: 89158.5703 - val_loss: 602.5775 - val_mae: 602.5775 - val_mse: 1254201.0000\n",
            "Epoch 59/100\n",
            "69/69 [==============================] - 0s 4ms/step - loss: 136.9824 - mae: 136.9824 - mse: 87079.1016 - val_loss: 620.8647 - val_mae: 620.8647 - val_mse: 1272782.0000\n",
            "Epoch 60/100\n",
            "69/69 [==============================] - 0s 4ms/step - loss: 133.6803 - mae: 133.6803 - mse: 85765.5469 - val_loss: 1071.2399 - val_mae: 1071.2399 - val_mse: 3000431.5000\n",
            "Epoch 61/100\n",
            "69/69 [==============================] - 0s 4ms/step - loss: 136.1279 - mae: 136.1279 - mse: 91136.1641 - val_loss: 862.4745 - val_mae: 862.4745 - val_mse: 2063280.7500\n",
            "Epoch 62/100\n",
            "69/69 [==============================] - 0s 4ms/step - loss: 125.8211 - mae: 125.8211 - mse: 79743.6406 - val_loss: 612.9044 - val_mae: 612.9044 - val_mse: 1272816.2500\n",
            "Epoch 63/100\n",
            "69/69 [==============================] - 0s 4ms/step - loss: 121.5307 - mae: 121.5307 - mse: 78078.0781 - val_loss: 715.0257 - val_mae: 715.0257 - val_mse: 1535996.1250\n",
            "Epoch 64/100\n",
            "69/69 [==============================] - 0s 4ms/step - loss: 152.5641 - mae: 152.5641 - mse: 115674.4219 - val_loss: 643.3167 - val_mae: 643.3167 - val_mse: 1355143.2500\n",
            "Epoch 65/100\n",
            "69/69 [==============================] - 0s 4ms/step - loss: 120.2282 - mae: 120.2282 - mse: 75284.3281 - val_loss: 718.9069 - val_mae: 718.9069 - val_mse: 1547807.6250\n",
            "Epoch 66/100\n",
            "69/69 [==============================] - 0s 4ms/step - loss: 131.1502 - mae: 131.1502 - mse: 83169.7031 - val_loss: 962.1688 - val_mae: 962.1688 - val_mse: 2354285.7500\n",
            "Epoch 67/100\n",
            "69/69 [==============================] - 0s 4ms/step - loss: 126.7700 - mae: 126.7700 - mse: 82904.8125 - val_loss: 704.5117 - val_mae: 704.5117 - val_mse: 1510196.6250\n",
            "Epoch 68/100\n",
            "69/69 [==============================] - 0s 4ms/step - loss: 120.6671 - mae: 120.6671 - mse: 78099.4141 - val_loss: 712.2699 - val_mae: 712.2699 - val_mse: 1531418.2500\n",
            "Epoch 69/100\n",
            "69/69 [==============================] - 1s 9ms/step - loss: 134.2209 - mae: 134.2209 - mse: 86610.9531 - val_loss: 597.5671 - val_mae: 597.5671 - val_mse: 1224501.8750\n",
            "Epoch 70/100\n",
            "69/69 [==============================] - 0s 4ms/step - loss: 118.3205 - mae: 118.3205 - mse: 75230.6328 - val_loss: 639.0201 - val_mae: 639.0201 - val_mse: 1332187.1250\n",
            "Epoch 71/100\n",
            "69/69 [==============================] - 0s 4ms/step - loss: 124.2578 - mae: 124.2578 - mse: 77560.5859 - val_loss: 600.6378 - val_mae: 600.6378 - val_mse: 1230347.6250\n",
            "Epoch 72/100\n",
            "69/69 [==============================] - 0s 5ms/step - loss: 122.1537 - mae: 122.1537 - mse: 77846.3828 - val_loss: 748.0601 - val_mae: 748.0601 - val_mse: 1670669.0000\n",
            "Epoch 73/100\n",
            "69/69 [==============================] - 0s 5ms/step - loss: 125.0167 - mae: 125.0167 - mse: 82892.9766 - val_loss: 673.1683 - val_mae: 673.1683 - val_mse: 1436745.6250\n",
            "Epoch 74/100\n",
            "69/69 [==============================] - 0s 5ms/step - loss: 119.0673 - mae: 119.0673 - mse: 75580.9609 - val_loss: 798.9561 - val_mae: 798.9561 - val_mse: 1819473.8750\n",
            "Epoch 75/100\n",
            "69/69 [==============================] - 0s 5ms/step - loss: 130.8501 - mae: 130.8501 - mse: 82091.7891 - val_loss: 1032.3534 - val_mae: 1032.3534 - val_mse: 2605504.0000\n",
            "Epoch 76/100\n",
            "69/69 [==============================] - 0s 5ms/step - loss: 132.9362 - mae: 132.9362 - mse: 86212.6797 - val_loss: 675.7053 - val_mae: 675.7053 - val_mse: 1435444.8750\n",
            "Epoch 77/100\n",
            "69/69 [==============================] - 0s 5ms/step - loss: 144.3731 - mae: 144.3731 - mse: 99784.3672 - val_loss: 755.4342 - val_mae: 755.4342 - val_mse: 1654201.0000\n",
            "Epoch 78/100\n",
            "69/69 [==============================] - 0s 4ms/step - loss: 142.6531 - mae: 142.6531 - mse: 97104.0000 - val_loss: 1452.8662 - val_mae: 1452.8662 - val_mse: 4952218.0000\n",
            "Epoch 79/100\n",
            "69/69 [==============================] - 0s 4ms/step - loss: 131.4299 - mae: 131.4299 - mse: 88408.1406 - val_loss: 597.9814 - val_mae: 597.9814 - val_mse: 1227545.6250\n",
            "Epoch 80/100\n",
            "69/69 [==============================] - 0s 4ms/step - loss: 124.9754 - mae: 124.9754 - mse: 79602.5156 - val_loss: 604.2253 - val_mae: 604.2253 - val_mse: 1242623.3750\n",
            "Epoch 81/100\n",
            "69/69 [==============================] - 0s 4ms/step - loss: 123.0895 - mae: 123.0895 - mse: 83098.8125 - val_loss: 770.2415 - val_mae: 770.2415 - val_mse: 1695631.8750\n",
            "Epoch 82/100\n",
            "69/69 [==============================] - 0s 4ms/step - loss: 139.2844 - mae: 139.2844 - mse: 90816.1250 - val_loss: 612.2494 - val_mae: 612.2494 - val_mse: 1255877.1250\n",
            "Epoch 83/100\n",
            "69/69 [==============================] - 0s 4ms/step - loss: 123.4155 - mae: 123.4155 - mse: 79692.8672 - val_loss: 645.7085 - val_mae: 645.7085 - val_mse: 1341398.1250\n",
            "Epoch 84/100\n",
            "69/69 [==============================] - 0s 4ms/step - loss: 120.8776 - mae: 120.8776 - mse: 75336.1406 - val_loss: 814.9971 - val_mae: 814.9971 - val_mse: 1854055.2500\n",
            "Epoch 85/100\n",
            "69/69 [==============================] - 0s 4ms/step - loss: 131.4724 - mae: 131.4724 - mse: 82699.0312 - val_loss: 636.1201 - val_mae: 636.1201 - val_mse: 1318765.6250\n",
            "Epoch 86/100\n",
            "69/69 [==============================] - 0s 4ms/step - loss: 118.6606 - mae: 118.6606 - mse: 77156.3047 - val_loss: 836.4510 - val_mae: 836.4510 - val_mse: 1908525.1250\n",
            "Epoch 87/100\n",
            "69/69 [==============================] - 0s 4ms/step - loss: 122.6510 - mae: 122.6510 - mse: 81061.0703 - val_loss: 600.8580 - val_mae: 600.8580 - val_mse: 1236114.6250\n",
            "Epoch 88/100\n",
            "69/69 [==============================] - 0s 4ms/step - loss: 123.1423 - mae: 123.1423 - mse: 78070.8828 - val_loss: 855.1299 - val_mae: 855.1299 - val_mse: 2057869.5000\n",
            "Epoch 89/100\n",
            "69/69 [==============================] - 0s 4ms/step - loss: 119.0966 - mae: 119.0966 - mse: 76561.4531 - val_loss: 833.8801 - val_mae: 833.8801 - val_mse: 1889832.7500\n",
            "Epoch 90/100\n",
            "69/69 [==============================] - 0s 5ms/step - loss: 125.7317 - mae: 125.7317 - mse: 78250.7344 - val_loss: 777.7293 - val_mae: 777.7293 - val_mse: 1712159.3750\n",
            "Epoch 91/100\n",
            "69/69 [==============================] - 0s 4ms/step - loss: 130.1354 - mae: 130.1354 - mse: 86019.5391 - val_loss: 703.8610 - val_mae: 703.8610 - val_mse: 1496082.6250\n",
            "Epoch 92/100\n",
            "69/69 [==============================] - 0s 4ms/step - loss: 122.5297 - mae: 122.5297 - mse: 78297.4297 - val_loss: 685.3542 - val_mae: 685.3542 - val_mse: 1433556.3750\n",
            "Epoch 93/100\n",
            "69/69 [==============================] - 0s 4ms/step - loss: 130.4497 - mae: 130.4497 - mse: 82504.5000 - val_loss: 631.5255 - val_mae: 631.5255 - val_mse: 1300748.1250\n",
            "Epoch 94/100\n",
            "69/69 [==============================] - 0s 4ms/step - loss: 114.5693 - mae: 114.5693 - mse: 72806.7031 - val_loss: 688.3220 - val_mae: 688.3220 - val_mse: 1460767.6250\n",
            "Epoch 95/100\n",
            "69/69 [==============================] - 0s 4ms/step - loss: 131.6970 - mae: 131.6970 - mse: 83049.8438 - val_loss: 618.4518 - val_mae: 618.4518 - val_mse: 1266714.2500\n",
            "Epoch 96/100\n",
            "69/69 [==============================] - 0s 4ms/step - loss: 117.2661 - mae: 117.2661 - mse: 71470.2656 - val_loss: 1017.1140 - val_mae: 1017.1140 - val_mse: 2708567.2500\n",
            "Epoch 97/100\n",
            "69/69 [==============================] - 0s 4ms/step - loss: 148.7550 - mae: 148.7550 - mse: 102433.9297 - val_loss: 820.8463 - val_mae: 820.8463 - val_mse: 1905704.7500\n",
            "Epoch 98/100\n",
            "69/69 [==============================] - 0s 4ms/step - loss: 140.3630 - mae: 140.3630 - mse: 91948.1484 - val_loss: 599.3065 - val_mae: 599.3065 - val_mse: 1218588.1250\n",
            "Epoch 99/100\n",
            "69/69 [==============================] - 0s 4ms/step - loss: 125.5115 - mae: 125.5115 - mse: 81512.5547 - val_loss: 718.7690 - val_mae: 718.7690 - val_mse: 1530556.8750\n",
            "Epoch 100/100\n",
            "69/69 [==============================] - 1s 9ms/step - loss: 138.5762 - mae: 138.5762 - mse: 89810.6719 - val_loss: 593.5071 - val_mae: 593.5071 - val_mse: 1209279.0000\n"
          ]
        }
      ]
    },
    {
      "cell_type": "code",
      "source": [
        "plt.plot(model_2_history.history[\"mae\"],label=f\"{model_2.name} mae\")\n",
        "plt.plot(model_1_history.history[\"mae\"],label=f\"{model_1.name} mae\")\n",
        "plt.legend()\n",
        "plt.show()"
      ],
      "metadata": {
        "id": "5rEor5bMeDUT",
        "colab": {
          "base_uri": "https://localhost:8080/",
          "height": 430
        },
        "outputId": "65369013-bae7-439a-9c15-ec69699d4355"
      },
      "execution_count": 57,
      "outputs": [
        {
          "output_type": "display_data",
          "data": {
            "text/plain": [
              "<Figure size 640x480 with 1 Axes>"
            ],
            "image/png": "[encoded data removed]"
          },
          "metadata": {}
        }
      ]
    },
    {
      "cell_type": "markdown",
      "source": [
        "# Model 3"
      ],
      "metadata": {
        "id": "UR3GovmLEDZJ"
      }
    },
    {
      "cell_type": "code",
      "source": [
        "window_size=30\n",
        "horizon=7\n",
        "full_window,full_label=make_window(btc_price,window_size=window_size,horizon=horizon)\n",
        "train_window, train_label, test_window, test_label = make_train_test_split(full_window,full_label)\n",
        "\n",
        "\n",
        "tf.random.set_seed(42)\n",
        " # construct mnodel\n",
        "model_3= tf.keras.Sequential([\n",
        "     layers.Dense(128,activation=\"relu\"),\n",
        "     layers.Dense(HORIZON,activation='linear')\n",
        "\n",
        " ],name= \"model_3_dense\")\n",
        "\n",
        " #compile\n",
        "model_3.compile(loss=\"mae\",\n",
        "                optimizer=tf.keras.optimizers.Adam(),\n",
        "                metrics=[\"mae\",\"mse\"])\n",
        "\n",
        "model_3_history=model_3.fit(x=train_window,\n",
        "             y=train_label,\n",
        "             epochs=100,\n",
        "             verbose=1,\n",
        "             batch_size=32,\n",
        "             validation_data=(test_window,test_label),\n",
        "             callbacks=([create_model_checkpoint(model_name=model_3.name)])\n",
        "\n",
        " )"
      ],
      "metadata": {
        "id": "sU5cuVwmzIrj",
        "colab": {
          "base_uri": "https://localhost:8080/"
        },
        "outputId": "6aa6cdea-6304-4822-9fb4-3342152bf1bb"
      },
      "execution_count": 58,
      "outputs": [
        {
          "output_type": "stream",
          "name": "stdout",
          "text": [
            "Epoch 1/100\n",
            "69/69 [==============================] - 2s 11ms/step - loss: 763.9323 - mae: 763.9323 - mse: 4248185.0000 - val_loss: 1501.6782 - val_mae: 1501.6782 - val_mse: 7302621.0000\n",
            "Epoch 2/100\n",
            "69/69 [==============================] - 0s 4ms/step - loss: 335.1936 - mae: 335.1936 - mse: 495196.6875 - val_loss: 1782.8384 - val_mae: 1782.8384 - val_mse: 8842753.0000\n",
            "Epoch 3/100\n",
            "69/69 [==============================] - 0s 4ms/step - loss: 304.9599 - mae: 304.9599 - mse: 421104.1875 - val_loss: 1591.8019 - val_mae: 1591.8019 - val_mse: 7477241.5000\n",
            "Epoch 4/100\n",
            "69/69 [==============================] - 0s 4ms/step - loss: 285.8512 - mae: 285.8512 - mse: 388123.3125 - val_loss: 1785.7206 - val_mae: 1785.7206 - val_mse: 9230320.0000\n",
            "Epoch 5/100\n",
            "69/69 [==============================] - 0s 4ms/step - loss: 281.7160 - mae: 281.7160 - mse: 367007.6562 - val_loss: 2061.2292 - val_mae: 2061.2292 - val_mse: 10743333.0000\n",
            "Epoch 6/100\n",
            "69/69 [==============================] - 1s 13ms/step - loss: 257.9971 - mae: 257.9971 - mse: 329254.8438 - val_loss: 1316.7979 - val_mae: 1316.7979 - val_mse: 5869276.0000\n",
            "Epoch 7/100\n",
            "69/69 [==============================] - 0s 5ms/step - loss: 267.6906 - mae: 267.6906 - mse: 342612.0625 - val_loss: 1473.8031 - val_mae: 1473.8031 - val_mse: 6662485.0000\n",
            "Epoch 8/100\n",
            "69/69 [==============================] - 0s 6ms/step - loss: 249.5930 - mae: 249.5930 - mse: 310925.4688 - val_loss: 1389.3457 - val_mae: 1389.3457 - val_mse: 6239902.0000\n",
            "Epoch 9/100\n",
            "69/69 [==============================] - 0s 6ms/step - loss: 258.6607 - mae: 258.6607 - mse: 330249.3125 - val_loss: 1662.7770 - val_mae: 1662.7770 - val_mse: 8352651.0000\n",
            "Epoch 10/100\n",
            "69/69 [==============================] - 1s 9ms/step - loss: 249.5020 - mae: 249.5020 - mse: 308094.2812 - val_loss: 1282.0475 - val_mae: 1282.0475 - val_mse: 5632674.0000\n",
            "Epoch 11/100\n",
            "69/69 [==============================] - 0s 4ms/step - loss: 250.4725 - mae: 250.4725 - mse: 308439.9688 - val_loss: 1295.9219 - val_mae: 1295.9219 - val_mse: 5632660.5000\n",
            "Epoch 12/100\n",
            "69/69 [==============================] - 0s 4ms/step - loss: 237.2894 - mae: 237.2894 - mse: 286633.2500 - val_loss: 1479.1700 - val_mae: 1479.1700 - val_mse: 6493700.5000\n",
            "Epoch 13/100\n",
            "69/69 [==============================] - 0s 4ms/step - loss: 256.6368 - mae: 256.6368 - mse: 319583.3750 - val_loss: 2008.1683 - val_mae: 2008.1683 - val_mse: 9960731.0000\n",
            "Epoch 14/100\n",
            "69/69 [==============================] - 1s 9ms/step - loss: 255.5983 - mae: 255.5983 - mse: 308450.1562 - val_loss: 1258.4642 - val_mae: 1258.4642 - val_mse: 5403297.0000\n",
            "Epoch 15/100\n",
            "69/69 [==============================] - 0s 4ms/step - loss: 243.7003 - mae: 243.7003 - mse: 299204.7500 - val_loss: 1302.2292 - val_mae: 1302.2292 - val_mse: 5554750.0000\n",
            "Epoch 16/100\n",
            "69/69 [==============================] - 0s 4ms/step - loss: 264.4426 - mae: 264.4426 - mse: 319786.3438 - val_loss: 1310.4912 - val_mae: 1310.4912 - val_mse: 5809294.0000\n",
            "Epoch 17/100\n",
            "69/69 [==============================] - 0s 4ms/step - loss: 259.3616 - mae: 259.3616 - mse: 319580.7812 - val_loss: 1263.3524 - val_mae: 1263.3524 - val_mse: 5493648.5000\n",
            "Epoch 18/100\n",
            "69/69 [==============================] - 1s 9ms/step - loss: 236.0358 - mae: 236.0358 - mse: 281594.5625 - val_loss: 1254.3672 - val_mae: 1254.3672 - val_mse: 5417903.5000\n",
            "Epoch 19/100\n",
            "69/69 [==============================] - 0s 4ms/step - loss: 244.2915 - mae: 244.2915 - mse: 299204.8438 - val_loss: 1837.0170 - val_mae: 1837.0170 - val_mse: 8691950.0000\n",
            "Epoch 20/100\n",
            "69/69 [==============================] - 1s 9ms/step - loss: 234.5156 - mae: 234.5156 - mse: 285287.7812 - val_loss: 1239.0377 - val_mae: 1239.0377 - val_mse: 5263972.5000\n",
            "Epoch 21/100\n",
            "69/69 [==============================] - 1s 10ms/step - loss: 234.8192 - mae: 234.8192 - mse: 287409.5938 - val_loss: 1238.4668 - val_mae: 1238.4668 - val_mse: 5249483.0000\n",
            "Epoch 22/100\n",
            "69/69 [==============================] - 0s 4ms/step - loss: 252.3438 - mae: 252.3438 - mse: 307848.6875 - val_loss: 1422.2954 - val_mae: 1422.2954 - val_mse: 6137317.0000\n",
            "Epoch 23/100\n",
            "69/69 [==============================] - 0s 4ms/step - loss: 260.9977 - mae: 260.9977 - mse: 320303.5312 - val_loss: 1248.9670 - val_mae: 1248.9670 - val_mse: 5299236.5000\n",
            "Epoch 24/100\n",
            "69/69 [==============================] - 0s 4ms/step - loss: 253.8370 - mae: 253.8370 - mse: 310629.6875 - val_loss: 1271.7540 - val_mae: 1271.7540 - val_mse: 5599604.0000\n",
            "Epoch 25/100\n",
            "69/69 [==============================] - 0s 4ms/step - loss: 241.8239 - mae: 241.8239 - mse: 290058.2188 - val_loss: 1663.6051 - val_mae: 1663.6051 - val_mse: 7472293.5000\n",
            "Epoch 26/100\n",
            "69/69 [==============================] - 1s 10ms/step - loss: 247.1742 - mae: 247.1742 - mse: 306513.9688 - val_loss: 1231.4854 - val_mae: 1231.4854 - val_mse: 5302578.0000\n",
            "Epoch 27/100\n",
            "69/69 [==============================] - 0s 4ms/step - loss: 245.2356 - mae: 245.2356 - mse: 288898.4375 - val_loss: 1362.1372 - val_mae: 1362.1372 - val_mse: 6161796.5000\n",
            "Epoch 28/100\n",
            "69/69 [==============================] - 0s 4ms/step - loss: 228.9490 - mae: 228.9490 - mse: 271711.8125 - val_loss: 1445.0513 - val_mae: 1445.0513 - val_mse: 6179300.5000\n",
            "Epoch 29/100\n",
            "69/69 [==============================] - 0s 4ms/step - loss: 231.3219 - mae: 231.3219 - mse: 271383.6562 - val_loss: 1291.8307 - val_mae: 1291.8307 - val_mse: 5412573.0000\n",
            "Epoch 30/100\n",
            "69/69 [==============================] - 1s 9ms/step - loss: 236.1035 - mae: 236.1035 - mse: 278783.2188 - val_loss: 1215.8341 - val_mae: 1215.8341 - val_mse: 5102967.5000\n",
            "Epoch 31/100\n",
            "69/69 [==============================] - 0s 4ms/step - loss: 239.2584 - mae: 239.2584 - mse: 286185.9062 - val_loss: 1278.7736 - val_mae: 1278.7736 - val_mse: 5397707.5000\n",
            "Epoch 32/100\n",
            "69/69 [==============================] - 0s 4ms/step - loss: 239.0057 - mae: 239.0057 - mse: 290406.4375 - val_loss: 1222.9709 - val_mae: 1222.9709 - val_mse: 5156306.0000\n",
            "Epoch 33/100\n",
            "69/69 [==============================] - 0s 4ms/step - loss: 237.8088 - mae: 237.8088 - mse: 280458.0625 - val_loss: 1279.1694 - val_mae: 1279.1694 - val_mse: 5602523.0000\n",
            "Epoch 34/100\n",
            "69/69 [==============================] - 0s 4ms/step - loss: 239.2216 - mae: 239.2216 - mse: 294547.6250 - val_loss: 1903.1427 - val_mae: 1903.1427 - val_mse: 9034562.0000\n",
            "Epoch 35/100\n",
            "69/69 [==============================] - 0s 4ms/step - loss: 236.4917 - mae: 236.4917 - mse: 286200.7500 - val_loss: 1372.1584 - val_mae: 1372.1584 - val_mse: 5784657.5000\n",
            "Epoch 36/100\n",
            "69/69 [==============================] - 1s 12ms/step - loss: 231.3021 - mae: 231.3021 - mse: 277061.9062 - val_loss: 1207.3859 - val_mae: 1207.3859 - val_mse: 5021428.5000\n",
            "Epoch 37/100\n",
            "69/69 [==============================] - 0s 5ms/step - loss: 226.5675 - mae: 226.5675 - mse: 272196.0625 - val_loss: 1264.3040 - val_mae: 1264.3040 - val_mse: 5276557.0000\n",
            "Epoch 38/100\n",
            "69/69 [==============================] - 0s 6ms/step - loss: 221.1650 - mae: 221.1650 - mse: 263177.0938 - val_loss: 1214.3137 - val_mae: 1214.3137 - val_mse: 5049433.5000\n",
            "Epoch 39/100\n",
            "69/69 [==============================] - 0s 5ms/step - loss: 245.5023 - mae: 245.5023 - mse: 302995.2188 - val_loss: 1924.1229 - val_mae: 1924.1229 - val_mse: 9177420.0000\n",
            "Epoch 40/100\n",
            "69/69 [==============================] - 0s 5ms/step - loss: 237.0241 - mae: 237.0241 - mse: 277775.5000 - val_loss: 1267.7029 - val_mae: 1267.7029 - val_mse: 5423855.0000\n",
            "Epoch 41/100\n",
            "69/69 [==============================] - 0s 4ms/step - loss: 228.1909 - mae: 228.1909 - mse: 271925.2188 - val_loss: 1371.0925 - val_mae: 1371.0925 - val_mse: 5833108.5000\n",
            "Epoch 42/100\n",
            "69/69 [==============================] - 0s 4ms/step - loss: 247.1664 - mae: 247.1664 - mse: 283593.5000 - val_loss: 1281.4421 - val_mae: 1281.4423 - val_mse: 5380911.0000\n",
            "Epoch 43/100\n",
            "69/69 [==============================] - 0s 4ms/step - loss: 230.4536 - mae: 230.4536 - mse: 276953.4688 - val_loss: 1213.2972 - val_mae: 1213.2972 - val_mse: 5053492.0000\n",
            "Epoch 44/100\n",
            "69/69 [==============================] - 0s 4ms/step - loss: 221.3032 - mae: 221.3032 - mse: 257699.1094 - val_loss: 1217.1074 - val_mae: 1217.1074 - val_mse: 5086266.0000\n",
            "Epoch 45/100\n",
            "69/69 [==============================] - 0s 4ms/step - loss: 225.2539 - mae: 225.2539 - mse: 265204.1250 - val_loss: 1227.2560 - val_mae: 1227.2560 - val_mse: 5116360.5000\n",
            "Epoch 46/100\n",
            "69/69 [==============================] - 0s 4ms/step - loss: 230.1068 - mae: 230.1068 - mse: 268524.2188 - val_loss: 1208.9630 - val_mae: 1208.9630 - val_mse: 5123765.5000\n",
            "Epoch 47/100\n",
            "69/69 [==============================] - 1s 10ms/step - loss: 233.3986 - mae: 233.3986 - mse: 275992.2500 - val_loss: 1244.7588 - val_mae: 1244.7588 - val_mse: 5233335.0000\n",
            "Epoch 48/100\n",
            "69/69 [==============================] - 0s 4ms/step - loss: 238.4169 - mae: 238.4169 - mse: 283616.8125 - val_loss: 1457.5079 - val_mae: 1457.5079 - val_mse: 6677365.0000\n",
            "Epoch 49/100\n",
            "69/69 [==============================] - 0s 4ms/step - loss: 239.7037 - mae: 239.7037 - mse: 287498.3125 - val_loss: 1238.6832 - val_mae: 1238.6832 - val_mse: 5158480.5000\n",
            "Epoch 50/100\n",
            "69/69 [==============================] - 0s 4ms/step - loss: 246.2178 - mae: 246.2178 - mse: 300644.5000 - val_loss: 1761.6456 - val_mae: 1761.6456 - val_mse: 8755862.0000\n",
            "Epoch 51/100\n",
            "69/69 [==============================] - 0s 4ms/step - loss: 236.7971 - mae: 236.7971 - mse: 276094.6250 - val_loss: 1219.1726 - val_mae: 1219.1726 - val_mse: 5064753.5000\n",
            "Epoch 52/100\n",
            "69/69 [==============================] - 0s 4ms/step - loss: 244.8628 - mae: 244.8628 - mse: 294592.0938 - val_loss: 1372.6217 - val_mae: 1372.6217 - val_mse: 6010908.0000\n",
            "Epoch 53/100\n",
            "69/69 [==============================] - 0s 4ms/step - loss: 235.7260 - mae: 235.7260 - mse: 277508.5312 - val_loss: 1217.1591 - val_mae: 1217.1591 - val_mse: 5218479.0000\n",
            "Epoch 54/100\n",
            "69/69 [==============================] - 0s 4ms/step - loss: 232.3605 - mae: 232.3605 - mse: 274643.0000 - val_loss: 1222.8910 - val_mae: 1222.8910 - val_mse: 5215194.5000\n",
            "Epoch 55/100\n",
            "69/69 [==============================] - 0s 4ms/step - loss: 227.0587 - mae: 227.0587 - mse: 263952.2500 - val_loss: 1323.5161 - val_mae: 1323.5161 - val_mse: 5541707.5000\n",
            "Epoch 56/100\n",
            "69/69 [==============================] - 0s 4ms/step - loss: 228.0176 - mae: 228.0176 - mse: 260973.7031 - val_loss: 1271.9105 - val_mae: 1271.9105 - val_mse: 5480798.5000\n",
            "Epoch 57/100\n",
            "69/69 [==============================] - 1s 9ms/step - loss: 231.2832 - mae: 231.2832 - mse: 274366.8125 - val_loss: 1190.3582 - val_mae: 1190.3582 - val_mse: 4918115.0000\n",
            "Epoch 58/100\n",
            "69/69 [==============================] - 0s 4ms/step - loss: 228.7934 - mae: 228.7934 - mse: 269691.0312 - val_loss: 1333.6571 - val_mae: 1333.6571 - val_mse: 5553910.5000\n",
            "Epoch 59/100\n",
            "69/69 [==============================] - 0s 4ms/step - loss: 230.0312 - mae: 230.0312 - mse: 266648.7500 - val_loss: 1204.5685 - val_mae: 1204.5685 - val_mse: 5155391.0000\n",
            "Epoch 60/100\n",
            "69/69 [==============================] - 0s 4ms/step - loss: 244.3633 - mae: 244.3633 - mse: 300839.2188 - val_loss: 1331.1895 - val_mae: 1331.1895 - val_mse: 5677709.0000\n",
            "Epoch 61/100\n",
            "69/69 [==============================] - 1s 10ms/step - loss: 228.9177 - mae: 228.9177 - mse: 266902.3125 - val_loss: 1189.8622 - val_mae: 1189.8622 - val_mse: 4933259.5000\n",
            "Epoch 62/100\n",
            "69/69 [==============================] - 0s 4ms/step - loss: 220.5996 - mae: 220.5996 - mse: 260839.7344 - val_loss: 1223.3716 - val_mae: 1223.3716 - val_mse: 5197693.5000\n",
            "Epoch 63/100\n",
            "69/69 [==============================] - 0s 4ms/step - loss: 227.5748 - mae: 227.5748 - mse: 266728.5000 - val_loss: 1415.5659 - val_mae: 1415.5659 - val_mse: 5974028.0000\n",
            "Epoch 64/100\n",
            "69/69 [==============================] - 0s 4ms/step - loss: 228.2489 - mae: 228.2489 - mse: 264677.8750 - val_loss: 1197.0165 - val_mae: 1197.0165 - val_mse: 4992479.5000\n",
            "Epoch 65/100\n",
            "69/69 [==============================] - 0s 4ms/step - loss: 221.4102 - mae: 221.4102 - mse: 260242.6250 - val_loss: 1415.7993 - val_mae: 1415.7993 - val_mse: 5955468.5000\n",
            "Epoch 66/100\n",
            "69/69 [==============================] - 0s 4ms/step - loss: 242.6092 - mae: 242.6092 - mse: 290326.7500 - val_loss: 1480.8423 - val_mae: 1480.8423 - val_mse: 6290278.5000\n",
            "Epoch 67/100\n",
            "69/69 [==============================] - 0s 4ms/step - loss: 239.2545 - mae: 239.2545 - mse: 284537.4375 - val_loss: 1254.9795 - val_mae: 1254.9795 - val_mse: 5207652.0000\n",
            "Epoch 68/100\n",
            "69/69 [==============================] - 0s 4ms/step - loss: 221.9742 - mae: 221.9742 - mse: 260741.8125 - val_loss: 1207.7771 - val_mae: 1207.7771 - val_mse: 4999658.0000\n",
            "Epoch 69/100\n",
            "69/69 [==============================] - 0s 4ms/step - loss: 226.4403 - mae: 226.4403 - mse: 261338.6719 - val_loss: 1193.0554 - val_mae: 1193.0554 - val_mse: 4882950.0000\n",
            "Epoch 70/100\n",
            "69/69 [==============================] - 0s 4ms/step - loss: 222.8875 - mae: 222.8875 - mse: 264726.8750 - val_loss: 1190.5054 - val_mae: 1190.5054 - val_mse: 4918731.0000\n",
            "Epoch 71/100\n",
            "69/69 [==============================] - 0s 4ms/step - loss: 225.7859 - mae: 225.7859 - mse: 260817.6875 - val_loss: 1253.4913 - val_mae: 1253.4913 - val_mse: 5306476.5000\n",
            "Epoch 72/100\n",
            "69/69 [==============================] - 1s 20ms/step - loss: 229.8110 - mae: 229.8110 - mse: 268540.2500 - val_loss: 1185.0165 - val_mae: 1185.0165 - val_mse: 4923261.5000\n",
            "Epoch 73/100\n",
            "69/69 [==============================] - 0s 6ms/step - loss: 231.4249 - mae: 231.4249 - mse: 277377.4688 - val_loss: 1573.4438 - val_mae: 1573.4438 - val_mse: 7279355.0000\n",
            "Epoch 74/100\n",
            "69/69 [==============================] - 0s 5ms/step - loss: 230.8233 - mae: 230.8233 - mse: 272785.7812 - val_loss: 1899.9692 - val_mae: 1899.9692 - val_mse: 8967812.0000\n",
            "Epoch 75/100\n",
            "69/69 [==============================] - 0s 4ms/step - loss: 230.4084 - mae: 230.4084 - mse: 270217.6562 - val_loss: 1270.5652 - val_mae: 1270.5652 - val_mse: 5289013.0000\n",
            "Epoch 76/100\n",
            "69/69 [==============================] - 0s 4ms/step - loss: 227.3485 - mae: 227.3485 - mse: 264722.1250 - val_loss: 1257.9536 - val_mae: 1257.9536 - val_mse: 5239451.0000\n",
            "Epoch 77/100\n",
            "69/69 [==============================] - 0s 4ms/step - loss: 226.1580 - mae: 226.1580 - mse: 265670.5938 - val_loss: 1193.6656 - val_mae: 1193.6656 - val_mse: 5057698.5000\n",
            "Epoch 78/100\n",
            "69/69 [==============================] - 0s 4ms/step - loss: 229.6950 - mae: 229.6950 - mse: 270687.2188 - val_loss: 1574.9200 - val_mae: 1574.9200 - val_mse: 7760012.5000\n",
            "Epoch 79/100\n",
            "69/69 [==============================] - 0s 4ms/step - loss: 223.7502 - mae: 223.7502 - mse: 260044.2500 - val_loss: 1186.1580 - val_mae: 1186.1580 - val_mse: 4991330.5000\n",
            "Epoch 80/100\n",
            "69/69 [==============================] - 1s 9ms/step - loss: 224.6619 - mae: 224.6619 - mse: 263656.1250 - val_loss: 1174.3374 - val_mae: 1174.3374 - val_mse: 4873899.5000\n",
            "Epoch 81/100\n",
            "69/69 [==============================] - 0s 4ms/step - loss: 248.2458 - mae: 248.2458 - mse: 288657.9688 - val_loss: 1616.5096 - val_mae: 1616.5096 - val_mse: 7603441.0000\n",
            "Epoch 82/100\n",
            "69/69 [==============================] - 0s 4ms/step - loss: 230.1789 - mae: 230.1789 - mse: 276284.7188 - val_loss: 1182.1129 - val_mae: 1182.1129 - val_mse: 4923502.5000\n",
            "Epoch 83/100\n",
            "69/69 [==============================] - 0s 4ms/step - loss: 234.5867 - mae: 234.5867 - mse: 276133.3125 - val_loss: 1343.7230 - val_mae: 1343.7230 - val_mse: 5599560.5000\n",
            "Epoch 84/100\n",
            "69/69 [==============================] - 0s 4ms/step - loss: 229.3589 - mae: 229.3589 - mse: 265302.4375 - val_loss: 1186.5953 - val_mae: 1186.5953 - val_mse: 4976263.5000\n",
            "Epoch 85/100\n",
            "69/69 [==============================] - 0s 4ms/step - loss: 250.4658 - mae: 250.4658 - mse: 290775.7500 - val_loss: 1186.5248 - val_mae: 1186.5248 - val_mse: 4912846.5000\n",
            "Epoch 86/100\n",
            "69/69 [==============================] - 0s 4ms/step - loss: 233.0597 - mae: 233.0597 - mse: 282132.1250 - val_loss: 1213.8800 - val_mae: 1213.8800 - val_mse: 5129744.5000\n",
            "Epoch 87/100\n",
            "69/69 [==============================] - 0s 4ms/step - loss: 231.8526 - mae: 231.8526 - mse: 274922.6875 - val_loss: 1182.7920 - val_mae: 1182.7920 - val_mse: 4913222.0000\n",
            "Epoch 88/100\n",
            "69/69 [==============================] - 0s 4ms/step - loss: 225.9139 - mae: 225.9139 - mse: 262636.0312 - val_loss: 1464.9139 - val_mae: 1464.9139 - val_mse: 6228937.0000\n",
            "Epoch 89/100\n",
            "69/69 [==============================] - 0s 4ms/step - loss: 222.2433 - mae: 222.2433 - mse: 261973.7344 - val_loss: 1199.7130 - val_mae: 1199.7130 - val_mse: 5020574.5000\n",
            "Epoch 90/100\n",
            "69/69 [==============================] - 0s 4ms/step - loss: 232.3921 - mae: 232.3921 - mse: 273926.0000 - val_loss: 1536.3723 - val_mae: 1536.3723 - val_mse: 6978538.5000\n",
            "Epoch 91/100\n",
            "69/69 [==============================] - 0s 4ms/step - loss: 246.9955 - mae: 246.9955 - mse: 283233.9688 - val_loss: 1311.7917 - val_mae: 1311.7917 - val_mse: 5640908.0000\n",
            "Epoch 92/100\n",
            "69/69 [==============================] - 0s 4ms/step - loss: 226.3340 - mae: 226.3340 - mse: 265337.9688 - val_loss: 1238.8899 - val_mae: 1238.8899 - val_mse: 5315441.5000\n",
            "Epoch 93/100\n",
            "69/69 [==============================] - 0s 4ms/step - loss: 257.4663 - mae: 257.4663 - mse: 303648.6250 - val_loss: 2010.6450 - val_mae: 2010.6450 - val_mse: 9811930.0000\n",
            "Epoch 94/100\n",
            "69/69 [==============================] - 0s 4ms/step - loss: 229.8687 - mae: 229.8687 - mse: 261153.2188 - val_loss: 1514.4204 - val_mae: 1514.4204 - val_mse: 6513863.0000\n",
            "Epoch 95/100\n",
            "69/69 [==============================] - 0s 4ms/step - loss: 233.9004 - mae: 233.9004 - mse: 277947.4375 - val_loss: 1182.1697 - val_mae: 1182.1697 - val_mse: 4947944.5000\n",
            "Epoch 96/100\n",
            "69/69 [==============================] - 0s 4ms/step - loss: 216.1351 - mae: 216.1351 - mse: 254098.7344 - val_loss: 1224.0720 - val_mae: 1224.0720 - val_mse: 5018285.0000\n",
            "Epoch 97/100\n",
            "69/69 [==============================] - 0s 4ms/step - loss: 229.6556 - mae: 229.6556 - mse: 260483.1094 - val_loss: 1296.2401 - val_mae: 1296.2401 - val_mse: 5337453.5000\n",
            "Epoch 98/100\n",
            "69/69 [==============================] - 0s 4ms/step - loss: 225.8218 - mae: 225.8218 - mse: 264864.4062 - val_loss: 1223.9956 - val_mae: 1223.9956 - val_mse: 5150557.5000\n",
            "Epoch 99/100\n",
            "69/69 [==============================] - 0s 4ms/step - loss: 221.2345 - mae: 221.2345 - mse: 256991.7656 - val_loss: 1191.7098 - val_mae: 1191.7098 - val_mse: 4989179.5000\n",
            "Epoch 100/100\n",
            "69/69 [==============================] - 0s 4ms/step - loss: 230.0878 - mae: 230.0878 - mse: 276686.6875 - val_loss: 1502.9479 - val_mae: 1502.9479 - val_mse: 6396983.5000\n"
          ]
        }
      ]
    },
    {
      "cell_type": "code",
      "source": [
        "plt.plot(model_2_history.history[\"mae\"],label=f\"{model_2.name} mae\")\n",
        "plt.plot(model_1_history.history[\"mae\"],label=f\"{model_1.name} mae\")\n",
        "plt.plot(model_3_history.history[\"mae\"],label=f\"{model_3.name} mae\")\n",
        "plt.xlabel(xlabel=\"epochs\")\n",
        "plt.ylabel(ylabel=\"MAE\")\n",
        "plt.legend()\n",
        "plt.show()"
      ],
      "metadata": {
        "colab": {
          "base_uri": "https://localhost:8080/",
          "height": 54
        },
        "id": "dBt9hVtk5aZB",
        "outputId": "0a7dcd7d-8e45-4b33-ff7f-b179b52f4173"
      },
      "execution_count": 59,
      "outputs": [
        {
          "output_type": "display_data",
          "data": {
            "text/plain": [
              "<Figure size 640x480 with 1 Axes>"
            ],
            "image/png": "[encoded data removed]"
          },
          "metadata": {}
        }
      ]
    },
    {
      "cell_type": "markdown",
      "source": [
        "#model_5"
      ],
      "metadata": {
        "id": "9MH53_QfAxi_"
      }
    },
    {
      "cell_type": "code",
      "source": [
        "window_size=30\n",
        "horizon=1\n",
        "full_window,full_label=make_window(btc_price,window_size=window_size,horizon=horizon)\n",
        "train_window, train_label, test_window, test_label = make_train_test_split(full_window,full_label)\n",
        "\n",
        "\n",
        "tf.random.set_seed(42)\n",
        " # construct mnodel many to one\n",
        "inputs= tf.keras.Input(shape=(window_size,horizon))\n",
        "# x=tf.keras.layers.LSTM(128,activation=\"tanh\",return_sequences=True)(inputs)\n",
        "x=tf.keras.layers.LSTM(128,activation=\"relu\")(inputs)\n",
        "output=tf.keras.layers.Dense(horizon)(x)\n",
        "model_5=tf.keras.Model(inputs=inputs,outputs=output,name=\"model_5\")\n",
        "\n",
        "\n",
        "\n",
        "\n",
        " #compile\n",
        "model_5.compile(loss=\"mae\",\n",
        "                optimizer=tf.keras.optimizers.Adam(),\n",
        "               )\n",
        "\n",
        "model_5_history=model_5.fit(x=train_window,\n",
        "             y=train_label,\n",
        "             epochs=100,\n",
        "             verbose=0,\n",
        "             batch_size=128,\n",
        "             validation_data=(test_window,test_label),\n",
        "             callbacks=([create_model_checkpoint(model_name=model_5.name)])\n",
        "\n",
        " )"
      ],
      "metadata": {
        "id": "F35W9ddG5qHU",
        "colab": {
          "base_uri": "https://localhost:8080/"
        },
        "outputId": "1fafcfef-d271-4c20-b1b2-3dc0297ae8b0"
      },
      "execution_count": 60,
      "outputs": [
        {
          "output_type": "stream",
          "name": "stderr",
          "text": [
            "WARNING:tensorflow:Layer lstm will not use cuDNN kernels since it doesn't meet the criteria. It will use a generic GPU kernel as fallback when running on GPU.\n"
          ]
        }
      ]
    },
    {
      "cell_type": "code",
      "source": [
        "model_5 = tf.keras.models.load_model(\"model_experiments/model_5\")\n",
        "model_5.evaluate(test_window, test_label)"
      ],
      "metadata": {
        "id": "orcY_zI-RI5J",
        "colab": {
          "base_uri": "https://localhost:8080/"
        },
        "outputId": "4a09b8ec-2285-4028-f213-c1662c1d9620"
      },
      "execution_count": 61,
      "outputs": [
        {
          "output_type": "stream",
          "name": "stderr",
          "text": [
            "WARNING:tensorflow:Layer lstm will not use cuDNN kernels since it doesn't meet the criteria. It will use a generic GPU kernel as fallback when running on GPU.\n"
          ]
        },
        {
          "output_type": "stream",
          "name": "stdout",
          "text": [
            "18/18 [==============================] - 0s 6ms/step - loss: 1867.9988\n"
          ]
        },
        {
          "output_type": "execute_result",
          "data": {
            "text/plain": [
              "1867.998779296875"
            ]
          },
          "metadata": {},
          "execution_count": 61
        }
      ]
    },
    {
      "cell_type": "code",
      "source": [
        "model_5_preds = make_preds(model_5, test_window)\n",
        "model_5_preds[:10]"
      ],
      "metadata": {
        "colab": {
          "base_uri": "https://localhost:8080/"
        },
        "id": "FF28ovwLDqKF",
        "outputId": "611747ef-cdb9-46ee-ba02-2b7961001082"
      },
      "execution_count": 62,
      "outputs": [
        {
          "output_type": "stream",
          "name": "stdout",
          "text": [
            "18/18 [==============================] - 0s 6ms/step\n"
          ]
        },
        {
          "output_type": "execute_result",
          "data": {
            "text/plain": [
              "<tf.Tensor: shape=(10,), dtype=float32, numpy=\n",
              "array([ 9388.826,  9239.191,  9380.667,  9390.614,  9427.419, 10111.097,\n",
              "        9271.584,  9153.932,  9588.222,  8812.159], dtype=float32)>"
            ]
          },
          "metadata": {},
          "execution_count": 62
        }
      ]
    },
    {
      "cell_type": "code",
      "source": [
        "evaluate_preds(y_true=test_label,y_pred=model_5_preds,)"
      ],
      "metadata": {
        "id": "y_JHjwz4HY9F",
        "colab": {
          "base_uri": "https://localhost:8080/"
        },
        "outputId": "d58d49c6-e216-4d97-b7cb-ac829b513716"
      },
      "execution_count": 63,
      "outputs": [
        {
          "output_type": "execute_result",
          "data": {
            "text/plain": [
              "{'mae': 16826.77,\n",
              " 'mse': 601242240.0,\n",
              " 'rmse': 23315.387,\n",
              " 'mape': 108.348785,\n",
              " 'mase': 29.413363}"
            ]
          },
          "metadata": {},
          "execution_count": 63
        }
      ]
    },
    {
      "cell_type": "code",
      "source": [
        "model3 = tf.keras.models.load_model(\"model_experiments/model_3_dense\")\n",
        "model3_preds=make_preds(model3, train_window)"
      ],
      "metadata": {
        "colab": {
          "base_uri": "https://localhost:8080/"
        },
        "id": "Gy3ojTSRmLXL",
        "outputId": "97612190-2ee9-4a02-9003-61f64797f69d"
      },
      "execution_count": 64,
      "outputs": [
        {
          "output_type": "stream",
          "name": "stdout",
          "text": [
            "69/69 [==============================] - 0s 2ms/step\n"
          ]
        }
      ]
    },
    {
      "cell_type": "code",
      "source": [
        "evaluate_preds(y_true=test_label,y_pred=model3_preds)"
      ],
      "metadata": {
        "colab": {
          "base_uri": "https://localhost:8080/"
        },
        "id": "dMlhKl3co0oE",
        "outputId": "47b17450-de81-4407-e807-ee0ba2577243"
      },
      "execution_count": 65,
      "outputs": [
        {
          "output_type": "execute_result",
          "data": {
            "text/plain": [
              "{'mae': 17292.404,\n",
              " 'mse': 609775400.0,\n",
              " 'rmse': 17790.928,\n",
              " 'mape': 77.502815,\n",
              " 'mase': 30.227293}"
            ]
          },
          "metadata": {},
          "execution_count": 65
        }
      ]
    },
    {
      "cell_type": "code",
      "source": [
        "model1 = tf.keras.models.load_model(\"model_experiments/model_1_dense\")\n",
        "model1_preds=make_preds(model1, train_window)"
      ],
      "metadata": {
        "colab": {
          "base_uri": "https://localhost:8080/",
          "height": 738
        },
        "id": "2IawrZpWpLL4",
        "outputId": "40b75abc-20c4-400a-a9aa-2f09aa5008ea"
      },
      "execution_count": 66,
      "outputs": [
        {
          "output_type": "error",
          "ename": "ValueError",
          "evalue": "in user code:\n\n    File \"/usr/local/lib/python3.10/dist-packages/keras/src/engine/training.py\", line 2440, in predict_function  *\n        return step_function(self, iterator)\n    File \"/usr/local/lib/python3.10/dist-packages/keras/src/engine/training.py\", line 2425, in step_function  **\n        outputs = model.distribute_strategy.run(run_step, args=(data,))\n    File \"/usr/local/lib/python3.10/dist-packages/keras/src/engine/training.py\", line 2413, in run_step  **\n        outputs = model.predict_step(data)\n    File \"/usr/local/lib/python3.10/dist-packages/keras/src/engine/training.py\", line 2381, in predict_step\n        return self(x, training=False)\n    File \"/usr/local/lib/python3.10/dist-packages/keras/src/utils/traceback_utils.py\", line 70, in error_handler\n        raise e.with_traceback(filtered_tb) from None\n    File \"/usr/local/lib/python3.10/dist-packages/keras/src/engine/input_spec.py\", line 298, in assert_input_compatibility\n        raise ValueError(\n\n    ValueError: Input 0 of layer \"model_1_dense\" is incompatible with the layer: expected shape=(None, 7), found shape=(None, 30)\n",
          "traceback": [
            "\u001b[0;31m---------------------------------------------------------------------------\u001b[0m",
            "\u001b[0;31mValueError\u001b[0m                                Traceback (most recent call last)",
            "\u001b[0;32m<ipython-input-66-b7aee50497c8>\u001b[0m in \u001b[0;36m<cell line: 2>\u001b[0;34m()\u001b[0m\n\u001b[1;32m      1\u001b[0m \u001b[0mmodel1\u001b[0m \u001b[0;34m=\u001b[0m \u001b[0mtf\u001b[0m\u001b[0;34m.\u001b[0m\u001b[0mkeras\u001b[0m\u001b[0;34m.\u001b[0m\u001b[0mmodels\u001b[0m\u001b[0;34m.\u001b[0m\u001b[0mload_model\u001b[0m\u001b[0;34m(\u001b[0m\u001b[0;34m\"model_experiments/model_1_dense\"\u001b[0m\u001b[0;34m)\u001b[0m\u001b[0;34m\u001b[0m\u001b[0;34m\u001b[0m\u001b[0m\n\u001b[0;32m----> 2\u001b[0;31m \u001b[0mmodel1_preds\u001b[0m\u001b[0;34m=\u001b[0m\u001b[0mmake_preds\u001b[0m\u001b[0;34m(\u001b[0m\u001b[0mmodel1\u001b[0m\u001b[0;34m,\u001b[0m \u001b[0mtrain_window\u001b[0m\u001b[0;34m)\u001b[0m\u001b[0;34m\u001b[0m\u001b[0;34m\u001b[0m\u001b[0m\n\u001b[0m",
            "\u001b[0;32m<ipython-input-19-c6f32a9cc09b>\u001b[0m in \u001b[0;36mmake_preds\u001b[0;34m(model, input_data)\u001b[0m\n\u001b[1;32m     10\u001b[0m   \u001b[0mReturns\u001b[0m \u001b[0mmodel\u001b[0m \u001b[0mpredictions\u001b[0m \u001b[0mon\u001b[0m \u001b[0minput_data\u001b[0m\u001b[0;34m.\u001b[0m\u001b[0;34m\u001b[0m\u001b[0;34m\u001b[0m\u001b[0m\n\u001b[1;32m     11\u001b[0m   \"\"\"\n\u001b[0;32m---> 12\u001b[0;31m   \u001b[0mforecast\u001b[0m \u001b[0;34m=\u001b[0m \u001b[0mmodel\u001b[0m\u001b[0;34m.\u001b[0m\u001b[0mpredict\u001b[0m\u001b[0;34m(\u001b[0m\u001b[0minput_data\u001b[0m\u001b[0;34m)\u001b[0m\u001b[0;34m\u001b[0m\u001b[0;34m\u001b[0m\u001b[0m\n\u001b[0m\u001b[1;32m     13\u001b[0m   \u001b[0;32mreturn\u001b[0m \u001b[0mtf\u001b[0m\u001b[0;34m.\u001b[0m\u001b[0msqueeze\u001b[0m\u001b[0;34m(\u001b[0m\u001b[0mforecast\u001b[0m\u001b[0;34m)\u001b[0m \u001b[0;31m# return 1D array of predictions\u001b[0m\u001b[0;34m\u001b[0m\u001b[0;34m\u001b[0m\u001b[0m\n",
            "\u001b[0;32m/usr/local/lib/python3.10/dist-packages/keras/src/utils/traceback_utils.py\u001b[0m in \u001b[0;36merror_handler\u001b[0;34m(*args, **kwargs)\u001b[0m\n\u001b[1;32m     68\u001b[0m             \u001b[0;31m# To get the full stack trace, call:\u001b[0m\u001b[0;34m\u001b[0m\u001b[0;34m\u001b[0m\u001b[0m\n\u001b[1;32m     69\u001b[0m             \u001b[0;31m# `tf.debugging.disable_traceback_filtering()`\u001b[0m\u001b[0;34m\u001b[0m\u001b[0;34m\u001b[0m\u001b[0m\n\u001b[0;32m---> 70\u001b[0;31m             \u001b[0;32mraise\u001b[0m \u001b[0me\u001b[0m\u001b[0;34m.\u001b[0m\u001b[0mwith_traceback\u001b[0m\u001b[0;34m(\u001b[0m\u001b[0mfiltered_tb\u001b[0m\u001b[0;34m)\u001b[0m \u001b[0;32mfrom\u001b[0m \u001b[0;32mNone\u001b[0m\u001b[0;34m\u001b[0m\u001b[0;34m\u001b[0m\u001b[0m\n\u001b[0m\u001b[1;32m     71\u001b[0m         \u001b[0;32mfinally\u001b[0m\u001b[0;34m:\u001b[0m\u001b[0;34m\u001b[0m\u001b[0;34m\u001b[0m\u001b[0m\n\u001b[1;32m     72\u001b[0m             \u001b[0;32mdel\u001b[0m \u001b[0mfiltered_tb\u001b[0m\u001b[0;34m\u001b[0m\u001b[0;34m\u001b[0m\u001b[0m\n",
            "\u001b[0;32m/usr/local/lib/python3.10/dist-packages/keras/src/engine/training.py\u001b[0m in \u001b[0;36mtf__predict_function\u001b[0;34m(iterator)\u001b[0m\n\u001b[1;32m     13\u001b[0m                 \u001b[0;32mtry\u001b[0m\u001b[0;34m:\u001b[0m\u001b[0;34m\u001b[0m\u001b[0;34m\u001b[0m\u001b[0m\n\u001b[1;32m     14\u001b[0m                     \u001b[0mdo_return\u001b[0m \u001b[0;34m=\u001b[0m \u001b[0;32mTrue\u001b[0m\u001b[0;34m\u001b[0m\u001b[0;34m\u001b[0m\u001b[0m\n\u001b[0;32m---> 15\u001b[0;31m                     \u001b[0mretval_\u001b[0m \u001b[0;34m=\u001b[0m \u001b[0mag__\u001b[0m\u001b[0;34m.\u001b[0m\u001b[0mconverted_call\u001b[0m\u001b[0;34m(\u001b[0m\u001b[0mag__\u001b[0m\u001b[0;34m.\u001b[0m\u001b[0mld\u001b[0m\u001b[0;34m(\u001b[0m\u001b[0mstep_function\u001b[0m\u001b[0;34m)\u001b[0m\u001b[0;34m,\u001b[0m \u001b[0;34m(\u001b[0m\u001b[0mag__\u001b[0m\u001b[0;34m.\u001b[0m\u001b[0mld\u001b[0m\u001b[0;34m(\u001b[0m\u001b[0mself\u001b[0m\u001b[0;34m)\u001b[0m\u001b[0;34m,\u001b[0m \u001b[0mag__\u001b[0m\u001b[0;34m.\u001b[0m\u001b[0mld\u001b[0m\u001b[0;34m(\u001b[0m\u001b[0miterator\u001b[0m\u001b[0;34m)\u001b[0m\u001b[0;34m)\u001b[0m\u001b[0;34m,\u001b[0m \u001b[0;32mNone\u001b[0m\u001b[0;34m,\u001b[0m \u001b[0mfscope\u001b[0m\u001b[0;34m)\u001b[0m\u001b[0;34m\u001b[0m\u001b[0;34m\u001b[0m\u001b[0m\n\u001b[0m\u001b[1;32m     16\u001b[0m                 \u001b[0;32mexcept\u001b[0m\u001b[0;34m:\u001b[0m\u001b[0;34m\u001b[0m\u001b[0;34m\u001b[0m\u001b[0m\n\u001b[1;32m     17\u001b[0m                     \u001b[0mdo_return\u001b[0m \u001b[0;34m=\u001b[0m \u001b[0;32mFalse\u001b[0m\u001b[0;34m\u001b[0m\u001b[0;34m\u001b[0m\u001b[0m\n",
            "\u001b[0;31mValueError\u001b[0m: in user code:\n\n    File \"/usr/local/lib/python3.10/dist-packages/keras/src/engine/training.py\", line 2440, in predict_function  *\n        return step_function(self, iterator)\n    File \"/usr/local/lib/python3.10/dist-packages/keras/src/engine/training.py\", line 2425, in step_function  **\n        outputs = model.distribute_strategy.run(run_step, args=(data,))\n    File \"/usr/local/lib/python3.10/dist-packages/keras/src/engine/training.py\", line 2413, in run_step  **\n        outputs = model.predict_step(data)\n    File \"/usr/local/lib/python3.10/dist-packages/keras/src/engine/training.py\", line 2381, in predict_step\n        return self(x, training=False)\n    File \"/usr/local/lib/python3.10/dist-packages/keras/src/utils/traceback_utils.py\", line 70, in error_handler\n        raise e.with_traceback(filtered_tb) from None\n    File \"/usr/local/lib/python3.10/dist-packages/keras/src/engine/input_spec.py\", line 298, in assert_input_compatibility\n        raise ValueError(\n\n    ValueError: Input 0 of layer \"model_1_dense\" is incompatible with the layer: expected shape=(None, 7), found shape=(None, 30)\n"
          ]
        }
      ]
    },
    {
      "cell_type": "markdown",
      "source": [
        "#NBeats Algorithm"
      ],
      "metadata": {
        "id": "H0SN81FHLXvQ"
      }
    },
    {
      "cell_type": "code",
      "source": [
        "class NBeats(tf.keras.layers.Layer):\n",
        "  def __init__(self, input_size,\n",
        "               theta_size,horizon,\n",
        "               n_neurons, n_layers,\n",
        "               **kwargs):\n",
        "# the **kwargs argument takes care of all of the\n",
        "# arguments for the parent class (input_shape, trainable, name)\n",
        "    super().__init__(**kwargs)\n",
        "    self.input_size = input_size\n",
        "    self.theta_size = theta_size\n",
        "    self.horizon = horizon\n",
        "    self.n_neurons = n_neurons\n",
        "    self.n_layers = n_layers\n",
        "\n",
        "    self.hidden = tf.keras.layers.Dense(theta_size, activation =\"linear\", name=\"theta\")\n",
        "  def call(self, inputs):\n",
        "    x =inputs\n",
        "    for layer in self.hidden:\n",
        "      x=layer(x)\n",
        "    theta =self.theta_layer(x)\n",
        "    backcast, forecast = theta[:, :self.input_size], theta[:,-self.horizon:]\n",
        "\n"
      ],
      "metadata": {
        "id": "KVsr3KSWpvoi"
      },
      "execution_count": 67,
      "outputs": []
    },
    {
      "cell_type": "code",
      "source": [],
      "metadata": {
        "id": "Efgg3w1QV-jH"
      },
      "execution_count": null,
      "outputs": []
    }
  ]
}