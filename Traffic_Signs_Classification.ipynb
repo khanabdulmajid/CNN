{
  "nbformat": 4,
  "nbformat_minor": 0,
  "metadata": {
    "colab": {
      "provenance": [],
      "authorship_tag": "ABX9TyM/IwbOoWRgPhQQbxz9Epek",
      "include_colab_link": true
    },
    "kernelspec": {
      "name": "python3",
      "display_name": "Python 3"
    },
    "language_info": {
      "name": "python"
    }
  },
  "cells": [
    {
      "cell_type": "markdown",
      "metadata": {
        "id": "view-in-github",
        "colab_type": "text"
      },
      "source": [
        "<a href=\"https://colab.research.google.com/github/khanabdulmajid/CNN/blob/master/Traffic_Signs_Classification.ipynb\" target=\"_parent\"><img src=\"https://colab.research.google.com/assets/colab-badge.svg\" alt=\"Open In Colab\"/></a>"
      ]
    },
    {
      "cell_type": "code",
      "execution_count": null,
      "metadata": {
        "id": "4rsgM0IRucSv"
      },
      "outputs": [],
      "source": [
        "import numpy as np\n",
        "import pandas as pd\n",
        "import matplotlib.pyplot as plt\n",
        "import pickle\n",
        "import seaborn as sns\n",
        "import random\n",
        "import tensorflow as tf\n",
        "import cv2"
      ]
    },
    {
      "cell_type": "code",
      "source": [
        "from google.colab import files"
      ],
      "metadata": {
        "id": "6kwe6nequgp3"
      },
      "execution_count": null,
      "outputs": []
    },
    {
      "cell_type": "code",
      "source": [
        "!git clone https://bitbucket.org/jadslim/german-traffic-signs"
      ],
      "metadata": {
        "colab": {
          "base_uri": "https://localhost:8080/"
        },
        "id": "vZ6pH-s9ula_",
        "outputId": "025eb1d0-4ade-426c-bc1c-35e9d3eeeed3"
      },
      "execution_count": null,
      "outputs": [
        {
          "output_type": "stream",
          "name": "stdout",
          "text": [
            "Cloning into 'german-traffic-signs'...\n",
            "remote: Enumerating objects: 6, done.\u001b[K\n",
            "remote: Counting objects: 100% (6/6), done.\u001b[K\n",
            "remote: Compressing objects: 100% (6/6), done.\u001b[K\n",
            "remote: Total 6 (delta 0), reused 0 (delta 0), pack-reused 0 (from 0)\u001b[K\n",
            "Unpacking objects: 100% (6/6), 117.80 MiB | 6.19 MiB/s, done.\n",
            "Updating files: 100% (4/4), done.\n"
          ]
        }
      ]
    },
    {
      "cell_type": "code",
      "source": [
        "data=pd.read_csv(\"/content/german-traffic-signs/signnames.csv\")"
      ],
      "metadata": {
        "id": "NEJMoLvKm3pa"
      },
      "execution_count": null,
      "outputs": []
    },
    {
      "cell_type": "code",
      "source": [
        "with open(\"/content/german-traffic-signs/train.p\",mode='rb') as training:\n",
        "  train= pickle.load(training)\n",
        "\n",
        "with open(\"/content/german-traffic-signs/valid.p\",mode='rb') as validation:\n",
        "  valid= pickle.load(validation)\n",
        "\n",
        "\n",
        "with open(\"/content/german-traffic-signs/test.p\",mode='rb') as testing:\n",
        "  test = pickle.load(testing)\n"
      ],
      "metadata": {
        "id": "8VPe3rETuoLo"
      },
      "execution_count": null,
      "outputs": []
    },
    {
      "cell_type": "code",
      "source": [
        "train"
      ],
      "metadata": {
        "colab": {
          "base_uri": "https://localhost:8080/"
        },
        "id": "xsg-PqEKu_Sr",
        "outputId": "6a29a1c7-3788-4664-eb3a-84f529190a9a",
        "collapsed": true
      },
      "execution_count": null,
      "outputs": [
        {
          "output_type": "execute_result",
          "data": {
            "text/plain": [
              "{'coords': array([[  6,   5,  21,  20],\n",
              "        [  6,   6,  22,  22],\n",
              "        [  5,   6,  22,  23],\n",
              "        ...,\n",
              "        [ 17,  15, 178, 155],\n",
              "        [ 17,  15, 183, 160],\n",
              "        [ 20,  18, 211, 184]], dtype=uint8),\n",
              " 'labels': array([41, 41, 41, ..., 25, 25, 25], dtype=uint8),\n",
              " 'features': array([[[[ 28,  25,  24],\n",
              "          [ 27,  24,  23],\n",
              "          [ 27,  24,  22],\n",
              "          ...,\n",
              "          [ 32,  28,  24],\n",
              "          [ 31,  27,  25],\n",
              "          [ 31,  27,  26]],\n",
              " \n",
              "         [[ 29,  26,  25],\n",
              "          [ 27,  25,  23],\n",
              "          [ 27,  25,  23],\n",
              "          ...,\n",
              "          [ 32,  28,  24],\n",
              "          [ 31,  27,  24],\n",
              "          [ 30,  27,  25]],\n",
              " \n",
              "         [[ 28,  26,  26],\n",
              "          [ 27,  25,  23],\n",
              "          [ 26,  25,  23],\n",
              "          ...,\n",
              "          [ 32,  28,  24],\n",
              "          [ 31,  27,  24],\n",
              "          [ 30,  27,  25]],\n",
              " \n",
              "         ...,\n",
              " \n",
              "         [[ 27,  24,  23],\n",
              "          [ 28,  25,  24],\n",
              "          [ 30,  25,  24],\n",
              "          ...,\n",
              "          [ 27,  24,  23],\n",
              "          [ 28,  24,  22],\n",
              "          [ 29,  25,  22]],\n",
              " \n",
              "         [[ 28,  23,  23],\n",
              "          [ 29,  24,  24],\n",
              "          [ 31,  25,  24],\n",
              "          ...,\n",
              "          [ 27,  24,  23],\n",
              "          [ 28,  24,  22],\n",
              "          [ 28,  24,  21]],\n",
              " \n",
              "         [[ 29,  23,  23],\n",
              "          [ 30,  24,  24],\n",
              "          [ 32,  24,  23],\n",
              "          ...,\n",
              "          [ 27,  24,  22],\n",
              "          [ 27,  23,  21],\n",
              "          [ 26,  22,  20]]],\n",
              " \n",
              " \n",
              "        [[[ 28,  24,  24],\n",
              "          [ 26,  23,  23],\n",
              "          [ 27,  24,  24],\n",
              "          ...,\n",
              "          [ 31,  28,  26],\n",
              "          [ 31,  28,  27],\n",
              "          [ 32,  28,  27]],\n",
              " \n",
              "         [[ 27,  24,  24],\n",
              "          [ 27,  24,  24],\n",
              "          [ 28,  25,  24],\n",
              "          ...,\n",
              "          [ 31,  27,  25],\n",
              "          [ 31,  27,  26],\n",
              "          [ 33,  29,  27]],\n",
              " \n",
              "         [[ 26,  24,  24],\n",
              "          [ 26,  24,  24],\n",
              "          [ 27,  24,  23],\n",
              "          ...,\n",
              "          [ 31,  26,  25],\n",
              "          [ 31,  27,  26],\n",
              "          [ 33,  29,  27]],\n",
              " \n",
              "         ...,\n",
              " \n",
              "         [[ 28,  25,  23],\n",
              "          [ 30,  27,  24],\n",
              "          [ 30,  27,  24],\n",
              "          ...,\n",
              "          [ 27,  24,  22],\n",
              "          [ 27,  24,  22],\n",
              "          [ 28,  24,  22]],\n",
              " \n",
              "         [[ 27,  24,  22],\n",
              "          [ 29,  26,  23],\n",
              "          [ 31,  26,  24],\n",
              "          ...,\n",
              "          [ 26,  23,  21],\n",
              "          [ 27,  24,  22],\n",
              "          [ 28,  25,  23]],\n",
              " \n",
              "         [[ 28,  24,  23],\n",
              "          [ 28,  24,  22],\n",
              "          [ 29,  24,  22],\n",
              "          ...,\n",
              "          [ 27,  23,  22],\n",
              "          [ 27,  24,  23],\n",
              "          [ 29,  26,  25]]],\n",
              " \n",
              " \n",
              "        [[[ 29,  25,  25],\n",
              "          [ 29,  26,  26],\n",
              "          [ 30,  27,  27],\n",
              "          ...,\n",
              "          [ 31,  27,  24],\n",
              "          [ 31,  28,  25],\n",
              "          [ 32,  29,  27]],\n",
              " \n",
              "         [[ 27,  24,  24],\n",
              "          [ 27,  25,  25],\n",
              "          [ 28,  26,  26],\n",
              "          ...,\n",
              "          [ 31,  27,  23],\n",
              "          [ 32,  28,  25],\n",
              "          [ 33,  30,  27]],\n",
              " \n",
              "         [[ 27,  24,  24],\n",
              "          [ 28,  26,  26],\n",
              "          [ 29,  27,  27],\n",
              "          ...,\n",
              "          [ 32,  28,  24],\n",
              "          [ 32,  28,  24],\n",
              "          [ 33,  29,  26]],\n",
              " \n",
              "         ...,\n",
              " \n",
              "         [[ 28,  26,  22],\n",
              "          [ 29,  26,  21],\n",
              "          [ 31,  26,  22],\n",
              "          ...,\n",
              "          [ 29,  24,  21],\n",
              "          [ 28,  23,  20],\n",
              "          [ 28,  23,  22]],\n",
              " \n",
              "         [[ 27,  26,  23],\n",
              "          [ 28,  25,  21],\n",
              "          [ 30,  25,  22],\n",
              "          ...,\n",
              "          [ 28,  23,  21],\n",
              "          [ 27,  22,  20],\n",
              "          [ 28,  24,  22]],\n",
              " \n",
              "         [[ 29,  26,  23],\n",
              "          [ 28,  24,  21],\n",
              "          [ 29,  24,  21],\n",
              "          ...,\n",
              "          [ 29,  25,  23],\n",
              "          [ 28,  24,  22],\n",
              "          [ 30,  26,  24]]],\n",
              " \n",
              " \n",
              "        ...,\n",
              " \n",
              " \n",
              "        [[[ 51,  67,  86],\n",
              "          [ 55,  59,  71],\n",
              "          [ 75,  81,  92],\n",
              "          ...,\n",
              "          [250, 248, 243],\n",
              "          [207, 212, 233],\n",
              "          [121, 116, 140]],\n",
              " \n",
              "         [[ 35,  42,  49],\n",
              "          [ 48,  47,  51],\n",
              "          [ 91,  96, 113],\n",
              "          ...,\n",
              "          [220, 224, 226],\n",
              "          [169, 177, 187],\n",
              "          [ 84,  87, 100]],\n",
              " \n",
              "         [[ 27,  26,  29],\n",
              "          [ 41,  38,  39],\n",
              "          [ 55,  64,  78],\n",
              "          ...,\n",
              "          [122, 143, 160],\n",
              "          [ 97, 104, 129],\n",
              "          [ 59,  59,  56]],\n",
              " \n",
              "         ...,\n",
              " \n",
              "         [[ 24,  23,  27],\n",
              "          [ 21,  20,  27],\n",
              "          [ 20,  19,  22],\n",
              "          ...,\n",
              "          [ 76,  79,  83],\n",
              "          [ 54,  64,  77],\n",
              "          [ 45,  51,  65]],\n",
              " \n",
              "         [[ 31,  31,  33],\n",
              "          [ 22,  23,  29],\n",
              "          [ 20,  18,  21],\n",
              "          ...,\n",
              "          [ 66,  67,  84],\n",
              "          [ 56,  65,  74],\n",
              "          [ 45,  55,  73]],\n",
              " \n",
              "         [[ 28,  28,  30],\n",
              "          [ 22,  21,  25],\n",
              "          [ 19,  18,  19],\n",
              "          ...,\n",
              "          [ 67,  63,  76],\n",
              "          [ 39,  45,  55],\n",
              "          [ 32,  37,  47]]],\n",
              " \n",
              " \n",
              "        [[[ 82,  78,  96],\n",
              "          [120, 126, 148],\n",
              "          [112, 125, 146],\n",
              "          ...,\n",
              "          [185, 182, 177],\n",
              "          [204, 210, 215],\n",
              "          [132, 114, 121]],\n",
              " \n",
              "         [[ 74,  77,  93],\n",
              "          [171, 174, 185],\n",
              "          [137, 164, 184],\n",
              "          ...,\n",
              "          [180, 181, 187],\n",
              "          [198, 200, 213],\n",
              "          [ 79,  85,  85]],\n",
              " \n",
              "         [[ 54,  50,  56],\n",
              "          [100, 106, 118],\n",
              "          [117, 132, 158],\n",
              "          ...,\n",
              "          [157, 153, 160],\n",
              "          [176, 183, 199],\n",
              "          [ 88,  80,  82]],\n",
              " \n",
              "         ...,\n",
              " \n",
              "         [[ 22,  21,  22],\n",
              "          [ 20,  19,  19],\n",
              "          [ 18,  16,  19],\n",
              "          ...,\n",
              "          [ 50,  50,  60],\n",
              "          [ 37,  43,  52],\n",
              "          [ 30,  41,  59]],\n",
              " \n",
              "         [[ 18,  16,  18],\n",
              "          [ 19,  17,  18],\n",
              "          [ 19,  18,  21],\n",
              "          ...,\n",
              "          [ 36,  44,  60],\n",
              "          [ 33,  36,  48],\n",
              "          [ 36,  43,  61]],\n",
              " \n",
              "         [[ 18,  17,  20],\n",
              "          [ 21,  20,  23],\n",
              "          [ 24,  22,  25],\n",
              "          ...,\n",
              "          [ 32,  34,  41],\n",
              "          [ 45,  42,  48],\n",
              "          [ 41,  43,  52]]],\n",
              " \n",
              " \n",
              "        [[[ 69,  79,  96],\n",
              "          [ 24,  26,  28],\n",
              "          [ 40,  42,  45],\n",
              "          ...,\n",
              "          [225, 234, 237],\n",
              "          [151, 161, 166],\n",
              "          [164, 162, 169]],\n",
              " \n",
              "         [[ 99, 110, 125],\n",
              "          [ 36,  41,  47],\n",
              "          [ 63,  56,  62],\n",
              "          ...,\n",
              "          [197, 216, 224],\n",
              "          [154, 163, 169],\n",
              "          [164, 163, 159]],\n",
              " \n",
              "         [[104, 107, 113],\n",
              "          [ 34,  37,  40],\n",
              "          [ 72,  70,  77],\n",
              "          ...,\n",
              "          [223, 237, 235],\n",
              "          [181, 192, 198],\n",
              "          [166, 167, 159]],\n",
              " \n",
              "         ...,\n",
              " \n",
              "         [[ 21,  20,  23],\n",
              "          [ 23,  24,  30],\n",
              "          [ 19,  20,  24],\n",
              "          ...,\n",
              "          [ 45,  47,  54],\n",
              "          [ 58,  62,  70],\n",
              "          [ 58,  70,  82]],\n",
              " \n",
              "         [[ 18,  17,  21],\n",
              "          [ 19,  19,  24],\n",
              "          [ 18,  18,  23],\n",
              "          ...,\n",
              "          [ 36,  36,  40],\n",
              "          [ 58,  59,  70],\n",
              "          [ 61,  69,  81]],\n",
              " \n",
              "         [[ 17,  16,  19],\n",
              "          [ 16,  15,  18],\n",
              "          [ 16,  15,  18],\n",
              "          ...,\n",
              "          [ 40,  40,  44],\n",
              "          [ 57,  62,  73],\n",
              "          [ 57,  68,  80]]]], dtype=uint8),\n",
              " 'sizes': array([[ 26,  25],\n",
              "        [ 27,  27],\n",
              "        [ 27,  28],\n",
              "        ...,\n",
              "        [194, 169],\n",
              "        [201, 175],\n",
              "        [230, 201]], dtype=uint8)}"
            ]
          },
          "metadata": {},
          "execution_count": 10
        }
      ]
    },
    {
      "cell_type": "code",
      "source": [
        "data.info()"
      ],
      "metadata": {
        "colab": {
          "base_uri": "https://localhost:8080/"
        },
        "collapsed": true,
        "id": "GJELVJlpvAkE",
        "outputId": "27202156-c602-4372-a1d7-35c1f142769d"
      },
      "execution_count": null,
      "outputs": [
        {
          "output_type": "stream",
          "name": "stdout",
          "text": [
            "<class 'pandas.core.frame.DataFrame'>\n",
            "RangeIndex: 43 entries, 0 to 42\n",
            "Data columns (total 2 columns):\n",
            " #   Column    Non-Null Count  Dtype \n",
            "---  ------    --------------  ----- \n",
            " 0   ClassId   43 non-null     int64 \n",
            " 1   SignName  43 non-null     object\n",
            "dtypes: int64(1), object(1)\n",
            "memory usage: 816.0+ bytes\n"
          ]
        }
      ]
    },
    {
      "cell_type": "code",
      "source": [
        "train.keys()"
      ],
      "metadata": {
        "colab": {
          "base_uri": "https://localhost:8080/"
        },
        "id": "JBcPFsgVvCQj",
        "outputId": "97eafdc2-a7f3-4daa-a94e-ee506edf0750"
      },
      "execution_count": null,
      "outputs": [
        {
          "output_type": "execute_result",
          "data": {
            "text/plain": [
              "dict_keys(['coords', 'labels', 'features', 'sizes'])"
            ]
          },
          "metadata": {},
          "execution_count": 14
        }
      ]
    },
    {
      "cell_type": "code",
      "source": [
        "train[\"coords\"][1]"
      ],
      "metadata": {
        "id": "LIMUwg79_1AG",
        "colab": {
          "base_uri": "https://localhost:8080/"
        },
        "outputId": "8cd29226-d51b-4408-b7c1-e40c13a8a56a"
      },
      "execution_count": null,
      "outputs": [
        {
          "output_type": "execute_result",
          "data": {
            "text/plain": [
              "array([ 6,  6, 22, 22], dtype=uint8)"
            ]
          },
          "metadata": {},
          "execution_count": 17
        }
      ]
    },
    {
      "cell_type": "code",
      "source": [
        "X_train, y_train = train[\"features\"], train['labels']\n",
        "X_val,y_val = valid[\"features\"], valid['labels']\n",
        "X_test,y_test = test[\"features\"], test['labels']"
      ],
      "metadata": {
        "id": "KAopiG_Yp9mR"
      },
      "execution_count": null,
      "outputs": []
    },
    {
      "cell_type": "code",
      "source": [
        "print(data.iloc[y_test[0]])\n",
        "X_test[0]"
      ],
      "metadata": {
        "colab": {
          "base_uri": "https://localhost:8080/",
          "height": 124
        },
        "id": "8N7lWZJdqmv7",
        "outputId": "5ec9feb4-eff2-4ad6-872c-31377b452e27"
      },
      "execution_count": null,
      "outputs": [
        {
          "output_type": "stream",
          "name": "stdout",
          "text": [
            "ClassId                                           16\n",
            "SignName    Vechiles over 3.5 metric tons prohibited\n",
            "Name: 16, dtype: object\n"
          ]
        },
        {
          "output_type": "execute_result",
          "data": {
            "text/plain": [
              "array([[[116, 139, 174],\n",
              "        [116, 137, 171],\n",
              "        [118, 138, 172],\n",
              "        ...,\n",
              "        [ 98, 114, 143],\n",
              "        [ 97, 121, 147],\n",
              "        [ 85, 105, 130]],\n",
              "\n",
              "       [[115, 142, 176],\n",
              "        [115, 140, 174],\n",
              "        [117, 141, 175],\n",
              "        ...,\n",
              "        [119, 143, 176],\n",
              "        [120, 141, 173],\n",
              "        [120, 139, 171]],\n",
              "\n",
              "       [[117, 141, 174],\n",
              "        [117, 142, 175],\n",
              "        [114, 140, 172],\n",
              "        ...,\n",
              "        [120, 144, 179],\n",
              "        [122, 144, 179],\n",
              "        [120, 143, 177]],\n",
              "\n",
              "       ...,\n",
              "\n",
              "       [[117, 137, 167],\n",
              "        [115, 134, 164],\n",
              "        [117, 135, 164],\n",
              "        ...,\n",
              "        [115, 137, 169],\n",
              "        [116, 136, 168],\n",
              "        [118, 139, 172]],\n",
              "\n",
              "       [[116, 136, 166],\n",
              "        [114, 134, 168],\n",
              "        [113, 131, 166],\n",
              "        ...,\n",
              "        [113, 135, 167],\n",
              "        [117, 136, 165],\n",
              "        [115, 139, 167]],\n",
              "\n",
              "       [[112, 135, 167],\n",
              "        [110, 134, 165],\n",
              "        [119, 135, 165],\n",
              "        ...,\n",
              "        [115, 138, 167],\n",
              "        [117, 138, 167],\n",
              "        [114, 140, 170]]], dtype=uint8)"
            ],
            "text/html": [
              "<style>\n",
              "      .ndarray_repr .ndarray_raw_data {\n",
              "        display: none;\n",
              "      }\n",
              "      .ndarray_repr.show_array .ndarray_raw_data {\n",
              "        display: block;\n",
              "      }\n",
              "      .ndarray_repr.show_array .ndarray_image_preview {\n",
              "        display: none;\n",
              "      }\n",
              "      </style>\n",
              "      <div id=\"id-8ad814a7-1bde-43fd-a7ae-7558a9eb0f1e\" class=\"ndarray_repr\"><pre>ndarray (32, 32, 3) <button style=\"padding: 0 2px;\">show data</button></pre><img src=\"data:image/png;base64,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\" class=\"ndarray_image_preview\" /><pre class=\"ndarray_raw_data\">array([[[116, 139, 174],\n",
              "        [116, 137, 171],\n",
              "        [118, 138, 172],\n",
              "        ...,\n",
              "        [ 98, 114, 143],\n",
              "        [ 97, 121, 147],\n",
              "        [ 85, 105, 130]],\n",
              "\n",
              "       [[115, 142, 176],\n",
              "        [115, 140, 174],\n",
              "        [117, 141, 175],\n",
              "        ...,\n",
              "        [119, 143, 176],\n",
              "        [120, 141, 173],\n",
              "        [120, 139, 171]],\n",
              "\n",
              "       [[117, 141, 174],\n",
              "        [117, 142, 175],\n",
              "        [114, 140, 172],\n",
              "        ...,\n",
              "        [120, 144, 179],\n",
              "        [122, 144, 179],\n",
              "        [120, 143, 177]],\n",
              "\n",
              "       ...,\n",
              "\n",
              "       [[117, 137, 167],\n",
              "        [115, 134, 164],\n",
              "        [117, 135, 164],\n",
              "        ...,\n",
              "        [115, 137, 169],\n",
              "        [116, 136, 168],\n",
              "        [118, 139, 172]],\n",
              "\n",
              "       [[116, 136, 166],\n",
              "        [114, 134, 168],\n",
              "        [113, 131, 166],\n",
              "        ...,\n",
              "        [113, 135, 167],\n",
              "        [117, 136, 165],\n",
              "        [115, 139, 167]],\n",
              "\n",
              "       [[112, 135, 167],\n",
              "        [110, 134, 165],\n",
              "        [119, 135, 165],\n",
              "        ...,\n",
              "        [115, 138, 167],\n",
              "        [117, 138, 167],\n",
              "        [114, 140, 170]]], dtype=uint8)</pre></div><script>\n",
              "      (() => {\n",
              "      const titles = ['show data', 'hide data'];\n",
              "      let index = 0\n",
              "      document.querySelector('#id-8ad814a7-1bde-43fd-a7ae-7558a9eb0f1e button').onclick = (e) => {\n",
              "        document.querySelector('#id-8ad814a7-1bde-43fd-a7ae-7558a9eb0f1e').classList.toggle('show_array');\n",
              "        index = (++index) % 2;\n",
              "        document.querySelector('#id-8ad814a7-1bde-43fd-a7ae-7558a9eb0f1e button').textContent = titles[index];\n",
              "        e.preventDefault();\n",
              "        e.stopPropagation();\n",
              "      }\n",
              "      })();\n",
              "    </script>"
            ]
          },
          "metadata": {},
          "execution_count": 36
        }
      ]
    },
    {
      "cell_type": "code",
      "source": [
        "print(data.iloc[y_test[2]])\n",
        "X_test[2]"
      ],
      "metadata": {
        "colab": {
          "base_uri": "https://localhost:8080/",
          "height": 124
        },
        "id": "nFT9CkR_rR3D",
        "outputId": "7abf9cad-38a8-4079-c8c5-65bbbbe5c94d"
      },
      "execution_count": null,
      "outputs": [
        {
          "output_type": "stream",
          "name": "stdout",
          "text": [
            "ClassId             38\n",
            "SignName    Keep right\n",
            "Name: 38, dtype: object\n"
          ]
        },
        {
          "output_type": "execute_result",
          "data": {
            "text/plain": [
              "array([[[52, 40, 38],\n",
              "        [51, 39, 37],\n",
              "        [50, 38, 37],\n",
              "        ...,\n",
              "        [53, 44, 46],\n",
              "        [54, 45, 48],\n",
              "        [55, 45, 48]],\n",
              "\n",
              "       [[59, 45, 42],\n",
              "        [59, 44, 41],\n",
              "        [56, 44, 40],\n",
              "        ...,\n",
              "        [52, 41, 42],\n",
              "        [54, 44, 45],\n",
              "        [55, 46, 45]],\n",
              "\n",
              "       [[67, 49, 44],\n",
              "        [65, 50, 45],\n",
              "        [65, 49, 45],\n",
              "        ...,\n",
              "        [57, 42, 39],\n",
              "        [55, 42, 40],\n",
              "        [56, 43, 40]],\n",
              "\n",
              "       ...,\n",
              "\n",
              "       [[28, 24, 26],\n",
              "        [29, 25, 27],\n",
              "        [29, 27, 30],\n",
              "        ...,\n",
              "        [27, 24, 24],\n",
              "        [28, 25, 24],\n",
              "        [29, 27, 27]],\n",
              "\n",
              "       [[31, 28, 29],\n",
              "        [37, 32, 34],\n",
              "        [41, 35, 37],\n",
              "        ...,\n",
              "        [34, 31, 28],\n",
              "        [42, 40, 38],\n",
              "        [47, 45, 45]],\n",
              "\n",
              "       [[32, 29, 30],\n",
              "        [33, 28, 28],\n",
              "        [44, 34, 32],\n",
              "        ...,\n",
              "        [41, 40, 38],\n",
              "        [44, 43, 43],\n",
              "        [47, 46, 44]]], dtype=uint8)"
            ],
            "text/html": [
              "<style>\n",
              "      .ndarray_repr .ndarray_raw_data {\n",
              "        display: none;\n",
              "      }\n",
              "      .ndarray_repr.show_array .ndarray_raw_data {\n",
              "        display: block;\n",
              "      }\n",
              "      .ndarray_repr.show_array .ndarray_image_preview {\n",
              "        display: none;\n",
              "      }\n",
              "      </style>\n",
              "      <div id=\"id-5966f806-5583-4675-8be5-59af60415dbe\" class=\"ndarray_repr\"><pre>ndarray (32, 32, 3) <button style=\"padding: 0 2px;\">show data</button></pre><img src=\"data:image/png;base64,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\" class=\"ndarray_image_preview\" /><pre class=\"ndarray_raw_data\">array([[[52, 40, 38],\n",
              "        [51, 39, 37],\n",
              "        [50, 38, 37],\n",
              "        ...,\n",
              "        [53, 44, 46],\n",
              "        [54, 45, 48],\n",
              "        [55, 45, 48]],\n",
              "\n",
              "       [[59, 45, 42],\n",
              "        [59, 44, 41],\n",
              "        [56, 44, 40],\n",
              "        ...,\n",
              "        [52, 41, 42],\n",
              "        [54, 44, 45],\n",
              "        [55, 46, 45]],\n",
              "\n",
              "       [[67, 49, 44],\n",
              "        [65, 50, 45],\n",
              "        [65, 49, 45],\n",
              "        ...,\n",
              "        [57, 42, 39],\n",
              "        [55, 42, 40],\n",
              "        [56, 43, 40]],\n",
              "\n",
              "       ...,\n",
              "\n",
              "       [[28, 24, 26],\n",
              "        [29, 25, 27],\n",
              "        [29, 27, 30],\n",
              "        ...,\n",
              "        [27, 24, 24],\n",
              "        [28, 25, 24],\n",
              "        [29, 27, 27]],\n",
              "\n",
              "       [[31, 28, 29],\n",
              "        [37, 32, 34],\n",
              "        [41, 35, 37],\n",
              "        ...,\n",
              "        [34, 31, 28],\n",
              "        [42, 40, 38],\n",
              "        [47, 45, 45]],\n",
              "\n",
              "       [[32, 29, 30],\n",
              "        [33, 28, 28],\n",
              "        [44, 34, 32],\n",
              "        ...,\n",
              "        [41, 40, 38],\n",
              "        [44, 43, 43],\n",
              "        [47, 46, 44]]], dtype=uint8)</pre></div><script>\n",
              "      (() => {\n",
              "      const titles = ['show data', 'hide data'];\n",
              "      let index = 0\n",
              "      document.querySelector('#id-5966f806-5583-4675-8be5-59af60415dbe button').onclick = (e) => {\n",
              "        document.querySelector('#id-5966f806-5583-4675-8be5-59af60415dbe').classList.toggle('show_array');\n",
              "        index = (++index) % 2;\n",
              "        document.querySelector('#id-5966f806-5583-4675-8be5-59af60415dbe button').textContent = titles[index];\n",
              "        e.preventDefault();\n",
              "        e.stopPropagation();\n",
              "      }\n",
              "      })();\n",
              "    </script>"
            ]
          },
          "metadata": {},
          "execution_count": 37
        }
      ]
    },
    {
      "cell_type": "code",
      "source": [
        "index = random.randint(0,len(X_test))\n",
        "plt.imshow(X_test[index])\n",
        "print(f'image label=[{data.iloc[y_test[index]]}]')"
      ],
      "metadata": {
        "colab": {
          "base_uri": "https://localhost:8080/",
          "height": 482
        },
        "id": "a1pjijxLrU_l",
        "outputId": "b9a0b8cc-7eff-4a1f-912d-5a844e46ff55"
      },
      "execution_count": null,
      "outputs": [
        {
          "output_type": "stream",
          "name": "stdout",
          "text": [
            "image label=[ClassId                        2\n",
            "SignName    Speed limit (50km/h)\n",
            "Name: 2, dtype: object]\n"
          ]
        },
        {
          "output_type": "display_data",
          "data": {
            "text/plain": [
              "<Figure size 640x480 with 1 Axes>"
            ],
            "image/png": "[encoded data removed]"
          },
          "metadata": {}
        }
      ]
    },
    {
      "cell_type": "code",
      "source": [],
      "metadata": {
        "id": "8fwSGiYHxqoU"
      },
      "execution_count": null,
      "outputs": []
    },
    {
      "cell_type": "markdown",
      "source": [
        "#Image Preprocessing"
      ],
      "metadata": {
        "id": "zR6XLEelxpJd"
      }
    },
    {
      "cell_type": "code",
      "source": [
        "from sklearn.utils import shuffle\n",
        "X_train, y_train = shuffle(X_train, y_train)"
      ],
      "metadata": {
        "id": "tiBS-Wx-xo2d"
      },
      "execution_count": null,
      "outputs": []
    },
    {
      "cell_type": "code",
      "source": [
        "X_train.shape"
      ],
      "metadata": {
        "colab": {
          "base_uri": "https://localhost:8080/"
        },
        "id": "mhEecGkh3WiA",
        "outputId": "3ae762db-e50c-4a5b-e190-0ad5dbfce896"
      },
      "execution_count": null,
      "outputs": [
        {
          "output_type": "execute_result",
          "data": {
            "text/plain": [
              "(34799, 32, 32, 3)"
            ]
          },
          "metadata": {},
          "execution_count": 45
        }
      ]
    },
    {
      "cell_type": "code",
      "source": [
        "def imagePreprocessing(img):\n",
        "  img = cv2.cvtColor(img, cv2.COLOR_RGB2GRAY)\n",
        "  img = cv2.equalizeHist(img)\n",
        "  img = img/255\n",
        "  return img"
      ],
      "metadata": {
        "id": "4dXH6Y_Qr6eW"
      },
      "execution_count": null,
      "outputs": []
    },
    {
      "cell_type": "code",
      "source": [
        "x_train_processed = np.array(list(map(imagePreprocessing, X_train)))\n",
        "x_val_processed = np.array(list(map(imagePreprocessing, X_val)))\n",
        "x_test_processed = np.array(list(map(imagePreprocessing, X_test)))"
      ],
      "metadata": {
        "id": "Vc4bo7ttsFBS"
      },
      "execution_count": null,
      "outputs": []
    },
    {
      "cell_type": "code",
      "source": [
        "# X_train_processed = x_train_processed.reshape(34799,32,32,1)\n",
        "X_train_processed = tf.expand_dims(x_train_processed,axis=-1)\n",
        "X_val_processed = tf.expand_dims(x_val_processed,axis=-1)\n",
        "X_test_processed = tf.expand_dims(x_test_processed,axis=-1)"
      ],
      "metadata": {
        "id": "4n_5b_BywsJw"
      },
      "execution_count": null,
      "outputs": []
    },
    {
      "cell_type": "code",
      "source": [
        "model = tf.keras.Sequential([\n",
        "    tf.keras.layers.Conv2D(filters=64,kernel_size=(3,3),activation='relu',input_shape=(32,32,1)),\n",
        "    tf.keras.layers.MaxPool2D(pool_size=(2,2)),\n",
        "    tf.keras.layers.Conv2D(filters=64,kernel_size=(3,3),activation='relu'),\n",
        "    tf.keras.layers.MaxPool2D(pool_size=(2,2)),\n",
        "    tf.keras.layers.Flatten(),\n",
        "    tf.keras.layers.Dense(units=128,activation='relu'),\n",
        "    tf.keras.layers.Dense(units=43,activation='softmax')\n",
        "])"
      ],
      "metadata": {
        "id": "EmwfN_hW2my0"
      },
      "execution_count": null,
      "outputs": []
    },
    {
      "cell_type": "code",
      "source": [
        "model.compile(optimizer=tf.keras.optimizers.Adam(),\n",
        "              loss='sparse_categorical_crossentropy',\n",
        "              metrics=['accuracy'])\n",
        "model_history=model.fit(X_train_processed,\n",
        "                        y_train,epochs=10,\n",
        "                        validation_data=(X_val_processed,y_val))"
      ],
      "metadata": {
        "colab": {
          "base_uri": "https://localhost:8080/"
        },
        "id": "-V-Ipwmu3xfp",
        "outputId": "ec0c6116-7d04-4f76-9d65-71fb645fe96a"
      },
      "execution_count": null,
      "outputs": [
        {
          "output_type": "stream",
          "name": "stdout",
          "text": [
            "Epoch 1/10\n",
            "1088/1088 [==============================] - 84s 76ms/step - loss: 0.8229 - accuracy: 0.7754 - val_loss: 0.3263 - val_accuracy: 0.9054\n",
            "Epoch 2/10\n",
            "1088/1088 [==============================] - 75s 69ms/step - loss: 0.1219 - accuracy: 0.9666 - val_loss: 0.1967 - val_accuracy: 0.9420\n",
            "Epoch 3/10\n",
            "1088/1088 [==============================] - 76s 70ms/step - loss: 0.0592 - accuracy: 0.9834 - val_loss: 0.2339 - val_accuracy: 0.9283\n",
            "Epoch 4/10\n",
            "1088/1088 [==============================] - 81s 75ms/step - loss: 0.0408 - accuracy: 0.9879 - val_loss: 0.2748 - val_accuracy: 0.9261\n",
            "Epoch 5/10\n",
            "1088/1088 [==============================] - 73s 67ms/step - loss: 0.0325 - accuracy: 0.9907 - val_loss: 0.1858 - val_accuracy: 0.9506\n",
            "Epoch 6/10\n",
            "1088/1088 [==============================] - 75s 69ms/step - loss: 0.0247 - accuracy: 0.9924 - val_loss: 0.1955 - val_accuracy: 0.9517\n",
            "Epoch 7/10\n",
            "1088/1088 [==============================] - 74s 68ms/step - loss: 0.0182 - accuracy: 0.9943 - val_loss: 0.2661 - val_accuracy: 0.9476\n",
            "Epoch 8/10\n",
            "1088/1088 [==============================] - 74s 68ms/step - loss: 0.0179 - accuracy: 0.9941 - val_loss: 0.1855 - val_accuracy: 0.9537\n",
            "Epoch 9/10\n",
            "1088/1088 [==============================] - 73s 67ms/step - loss: 0.0141 - accuracy: 0.9955 - val_loss: 0.2055 - val_accuracy: 0.9465\n",
            "Epoch 10/10\n",
            "1088/1088 [==============================] - 74s 68ms/step - loss: 0.0100 - accuracy: 0.9972 - val_loss: 0.1690 - val_accuracy: 0.9617\n"
          ]
        }
      ]
    },
    {
      "cell_type": "code",
      "source": [
        "model.save('model.h5')"
      ],
      "metadata": {
        "colab": {
          "base_uri": "https://localhost:8080/"
        },
        "id": "KSEDex0c6jV1",
        "outputId": "2fe67fcf-562d-4b49-ac16-28e495532a0b"
      },
      "execution_count": null,
      "outputs": [
        {
          "output_type": "stream",
          "name": "stderr",
          "text": [
            "/usr/local/lib/python3.10/dist-packages/keras/src/engine/training.py:3103: UserWarning: You are saving your model as an HDF5 file via `model.save()`. This file format is considered legacy. We recommend using instead the native Keras format, e.g. `model.save('my_model.keras')`.\n",
            "  saving_api.save_model(\n"
          ]
        }
      ]
    },
    {
      "cell_type": "code",
      "source": [
        "model.evaluate(X_test_processed,y_test)"
      ],
      "metadata": {
        "colab": {
          "base_uri": "https://localhost:8080/"
        },
        "id": "7KYUxGuH7gGS",
        "outputId": "2017b398-ef0c-4fec-8c2a-ac324549a982"
      },
      "execution_count": null,
      "outputs": [
        {
          "output_type": "stream",
          "name": "stdout",
          "text": [
            "395/395 [==============================] - 6s 15ms/step - loss: 0.3069 - accuracy: 0.9422\n"
          ]
        },
        {
          "output_type": "execute_result",
          "data": {
            "text/plain": [
              "[0.3068758249282837, 0.9422011375427246]"
            ]
          },
          "metadata": {},
          "execution_count": 63
        }
      ]
    },
    {
      "cell_type": "code",
      "source": [
        "pd.DataFrame(model_history.history).plot()"
      ],
      "metadata": {
        "colab": {
          "base_uri": "https://localhost:8080/",
          "height": 447
        },
        "id": "j2SmsY7_HaPp",
        "outputId": "bcaddecd-7764-4a82-84d7-010f76cbdd13"
      },
      "execution_count": null,
      "outputs": [
        {
          "output_type": "execute_result",
          "data": {
            "text/plain": [
              "<Axes: >"
            ]
          },
          "metadata": {},
          "execution_count": 66
        },
        {
          "output_type": "display_data",
          "data": {
            "text/plain": [
              "<Figure size 640x480 with 1 Axes>"
            ],
            "image/png": "[encoded data removed]"
          },
          "metadata": {}
        }
      ]
    },
    {
      "cell_type": "code",
      "source": [
        "epochs=np.array(range(10))\n",
        "plt.plot(epochs, model_history.history[\"accuracy\"],label='Accuracy')\n",
        "plt.plot(epochs, model_history.history[\"val_accuracy\"], label=\"val_Accuarcy\")\n",
        "plt.xlabel(\"accuracy\")\n",
        "plt.legend()"
      ],
      "metadata": {
        "id": "LmVLTlOYHjln",
        "colab": {
          "base_uri": "https://localhost:8080/",
          "height": 466
        },
        "outputId": "7c445afb-718c-4306-e6ae-e488a3e239dd"
      },
      "execution_count": null,
      "outputs": [
        {
          "output_type": "execute_result",
          "data": {
            "text/plain": [
              "<matplotlib.legend.Legend at 0x7b5892ee8be0>"
            ]
          },
          "metadata": {},
          "execution_count": 75
        },
        {
          "output_type": "display_data",
          "data": {
            "text/plain": [
              "<Figure size 640x480 with 1 Axes>"
            ],
            "image/png": "[encoded data removed]"
          },
          "metadata": {}
        }
      ]
    },
    {
      "cell_type": "code",
      "source": [
        "epochs=np.array(range(10))\n",
        "plt.plot(epochs, model_history.history[\"loss\"],label='loss')\n",
        "plt.plot(epochs, model_history.history[\"val_loss\"], label=\"val_loss\")\n",
        "plt.xlabel(\"loss\")\n",
        "plt.legend()"
      ],
      "metadata": {
        "colab": {
          "base_uri": "https://localhost:8080/",
          "height": 466
        },
        "id": "4qNx_KXMNbI8",
        "outputId": "f0c9a5aa-04c8-48c3-9d24-ff823137830a"
      },
      "execution_count": null,
      "outputs": [
        {
          "output_type": "execute_result",
          "data": {
            "text/plain": [
              "<matplotlib.legend.Legend at 0x7b5890958670>"
            ]
          },
          "metadata": {},
          "execution_count": 77
        },
        {
          "output_type": "display_data",
          "data": {
            "text/plain": [
              "<Figure size 640x480 with 1 Axes>"
            ],
            "image/png": "[encoded data removed]"
          },
          "metadata": {}
        }
      ]
    },
    {
      "cell_type": "code",
      "source": [],
      "metadata": {
        "id": "bKlcQjSrO7Ou"
      },
      "execution_count": null,
      "outputs": []
    }
  ]
}